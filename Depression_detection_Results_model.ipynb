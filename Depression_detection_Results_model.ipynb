{
  "nbformat": 4,
  "nbformat_minor": 0,
  "metadata": {
    "colab": {
      "name": "Depression detection Results model.ipynb",
      "provenance": []
    },
    "kernelspec": {
      "name": "python3",
      "display_name": "Python 3"
    }
  },
  "cells": [
    {
      "cell_type": "code",
      "metadata": {
        "id": "J_MDXLK3ZJkE",
        "colab_type": "code",
        "colab": {
          "base_uri": "https://localhost:8080/",
          "height": 122
        },
        "outputId": "5222baa7-ff4f-4942-8e9d-3fae5adf1106"
      },
      "source": [
        "from google.colab import drive\n",
        "drive.mount('/content/drive')"
      ],
      "execution_count": null,
      "outputs": [
        {
          "output_type": "stream",
          "text": [
            "Go to this URL in a browser: https://accounts.google.com/o/oauth2/auth?client_id=947318989803-6bn6qk8qdgf4n4g3pfee6491hc0brc4i.apps.googleusercontent.com&redirect_uri=urn%3aietf%3awg%3aoauth%3a2.0%3aoob&response_type=code&scope=email%20https%3a%2f%2fwww.googleapis.com%2fauth%2fdocs.test%20https%3a%2f%2fwww.googleapis.com%2fauth%2fdrive%20https%3a%2f%2fwww.googleapis.com%2fauth%2fdrive.photos.readonly%20https%3a%2f%2fwww.googleapis.com%2fauth%2fpeopleapi.readonly\n",
            "\n",
            "Enter your authorization code:\n",
            "··········\n",
            "Mounted at /content/drive\n"
          ],
          "name": "stdout"
        }
      ]
    },
    {
      "cell_type": "code",
      "metadata": {
        "id": "TnM_eesfYNQh",
        "colab_type": "code",
        "colab": {
          "base_uri": "https://localhost:8080/",
          "height": 34
        },
        "outputId": "a3dceb1b-6070-4b9d-c453-ad08d9b9bba7"
      },
      "source": [
        "%matplotlib inline\n",
        "import matplotlib.pyplot as plt\n",
        "import os\n",
        "import re\n",
        "import numpy as np\n",
        "import pandas as pd\n",
        "from scipy import stats\n",
        "\n",
        "import gensim\n",
        "import json\n",
        "\n",
        "\n",
        "import nltk\n",
        "from nltk.stem import WordNetLemmatizer\n",
        "from nltk.corpus import stopwords\n",
        "from nltk.tokenize import word_tokenize\n",
        "from nltk.stem import PorterStemmer\n",
        "\n",
        "import itertools\n",
        "\n",
        "import keras\n",
        "\n",
        "from keras.models import Sequential, Model\n",
        "from keras.layers import Dense, Dropout, Embedding, LSTM, Input, Activation, GlobalAveragePooling1D, Flatten, Concatenate, Conv1D, MaxPooling1D\n",
        "from keras.layers.normalization import BatchNormalization\n",
        "from keras.layers.merge import concatenate\n",
        "from keras.optimizers import SGD, RMSprop, Adagrad, Adam\n",
        "from keras.preprocessing.text import one_hot, text_to_word_sequence, Tokenizer\n",
        "from keras.preprocessing.sequence import pad_sequences\n",
        "\n",
        "from keras.callbacks import EarlyStopping, ModelCheckpoint\n",
        "from keras.utils.vis_utils import plot_model\n",
        "\n",
        "import fnmatch\n",
        "\n",
        "import warnings\n",
        "\n",
        "import string\n",
        "from pathlib import Path\n",
        "from random import shuffle\n",
        "from ast import literal_eval\n",
        "import statistics\n",
        "\n",
        "warnings.filterwarnings('ignore')"
      ],
      "execution_count": null,
      "outputs": [
        {
          "output_type": "stream",
          "text": [
            "Using TensorFlow backend.\n"
          ],
          "name": "stderr"
        }
      ]
    },
    {
      "cell_type": "code",
      "metadata": {
        "id": "I6aCyoUhYWHS",
        "colab_type": "code",
        "colab": {
          "base_uri": "https://localhost:8080/",
          "height": 51
        },
        "outputId": "1f53f959-4a74-40f4-81a9-aab9813018b9"
      },
      "source": [
        "!pip install nltk\n",
        "import nltk"
      ],
      "execution_count": null,
      "outputs": [
        {
          "output_type": "stream",
          "text": [
            "Requirement already satisfied: nltk in /usr/local/lib/python3.6/dist-packages (3.2.5)\n",
            "Requirement already satisfied: six in /usr/local/lib/python3.6/dist-packages (from nltk) (1.12.0)\n"
          ],
          "name": "stdout"
        }
      ]
    },
    {
      "cell_type": "code",
      "metadata": {
        "id": "EtRvj4x0Yb6e",
        "colab_type": "code",
        "colab": {
          "base_uri": "https://localhost:8080/",
          "height": 85
        },
        "outputId": "8e6f1589-f002-4a74-8451-6dc2d6f16417"
      },
      "source": [
        "nltk.download('stopwords')\n",
        "nltk.download('wordnet')\n",
        "wordnet_lemmatizer=WordNetLemmatizer()"
      ],
      "execution_count": null,
      "outputs": [
        {
          "output_type": "stream",
          "text": [
            "[nltk_data] Downloading package stopwords to /root/nltk_data...\n",
            "[nltk_data]   Package stopwords is already up-to-date!\n",
            "[nltk_data] Downloading package wordnet to /root/nltk_data...\n",
            "[nltk_data]   Package wordnet is already up-to-date!\n"
          ],
          "name": "stdout"
        }
      ]
    },
    {
      "cell_type": "code",
      "metadata": {
        "id": "G7bQZSYxYeDv",
        "colab_type": "code",
        "colab": {}
      },
      "source": [
        "\n",
        "WINDOWS_SIZE = 10\n",
        "labels=['none','mild','moderate','moderately severe', 'severe']\n",
        "num_classes = len(labels)\n"
      ],
      "execution_count": null,
      "outputs": []
    },
    {
      "cell_type": "code",
      "metadata": {
        "id": "MADMJCXLYjVg",
        "colab_type": "code",
        "colab": {}
      },
      "source": [
        "def text_to_wordlist(text, remove_stopwords=True, stem_words=False):    \n",
        "    # Clean the text, with the option to remove stopwords and to stem words.\n",
        "    \n",
        "    # Convert words to lower case and split them\n",
        "    text = text.lower().split()\n",
        "\n",
        "    # Optionally, remove stop words\n",
        "    if remove_stopwords:\n",
        "        stops = set(stopwords.words(\"english\"))\n",
        "        text = [wordnet_lemmatizer.lemmatize(w) for w in text if not w in stops ]\n",
        "        text = [w for w in text if w != \"nan\" ]\n",
        "    else:\n",
        "        text = [wordnet_lemmatizer.lemmatize(w) for w in text]\n",
        "        text = [w for w in text if w != \"nan\" ]\n",
        "    \n",
        "    text = \" \".join(text)\n",
        "\n",
        "    # Clean the text\n",
        "    text = re.sub(r\"[^A-Za-z0-9^,!.\\/'+-=]\", \" \", text)\n",
        "    text = re.sub(r\"what's\", \"what is \", text)\n",
        "    text = re.sub(r\"\\'s\", \" \", text)\n",
        "    text = re.sub(r\"\\'ve\", \" have \", text)\n",
        "    text = re.sub(r\"can't\", \"cannot \", text)\n",
        "    text = re.sub(r\"n't\", \" not \", text)\n",
        "    text = re.sub(r\"i'm\", \"i am \", text)\n",
        "    text = re.sub(r\"\\'re\", \" are \", text)\n",
        "    text = re.sub(r\"\\'d\", \" would \", text)\n",
        "    text = re.sub(r\"\\'ll\", \" will \", text)\n",
        "    text = re.sub(r\",\", \" \", text)\n",
        "    text = re.sub(r\"\\.\", \" \", text)\n",
        "    text = re.sub(r\"!\", \" ! \", text)\n",
        "    text = re.sub(r\"\\/\", \" \", text)\n",
        "    text = re.sub(r\"\\^\", \" ^ \", text)\n",
        "    text = re.sub(r\"\\+\", \" + \", text)\n",
        "    text = re.sub(r\"\\-\", \" - \", text)\n",
        "    text = re.sub(r\"\\=\", \" = \", text)\n",
        "    \n",
        "    text = re.sub(r\"\\<\", \" \", text)\n",
        "    text = re.sub(r\"\\>\", \" \", text)\n",
        "    \n",
        "    text = re.sub(r\"'\", \" \", text)\n",
        "    text = re.sub(r\"(\\d+)(k)\", r\"\\g<1>000\", text)\n",
        "    text = re.sub(r\":\", \" : \", text)\n",
        "    text = re.sub(r\" e g \", \" eg \", text)\n",
        "    text = re.sub(r\" b g \", \" bg \", text)\n",
        "    text = re.sub(r\" u s \", \" american \", text)\n",
        "    text = re.sub(r\"\\0s\", \"0\", text)\n",
        "    text = re.sub(r\" 9 11 \", \"911\", text)\n",
        "    text = re.sub(r\"e - mail\", \"email\", text)\n",
        "    text = re.sub(r\"j k\", \"jk\", text)\n",
        "    text = re.sub(r\"\\s{2,}\", \" \", text)\n",
        "    \n",
        "    # Optionally, shorten words to their stems\n",
        "    if stem_words:\n",
        "        text = text.split()\n",
        "        stemmer = SnowballStemmer('english')\n",
        "        stemmed_words = [stemmer.stem(word) for word in text]\n",
        "        text = \" \".join(stemmed_words)\n",
        "    \n",
        "    # Return a list of words\n",
        "    return(text)"
      ],
      "execution_count": null,
      "outputs": []
    },
    {
      "cell_type": "code",
      "metadata": {
        "id": "ZMOzyYxCYmpK",
        "colab_type": "code",
        "colab": {}
      },
      "source": [
        "def transcripts_to_dataframe(directory):\n",
        "    rows_list = []\n",
        "        \n",
        "    filenames = os.listdir(directory)\n",
        "    \n",
        "    if \".DS_Store\" in filenames:\n",
        "        filenames.remove(\".DS_Store\")\n",
        "        \n",
        "    for filename in filenames:\n",
        "        transcript_path = os.path.join(directory, filename)\n",
        "        transcript = pd.read_csv(transcript_path, sep='\\t')\n",
        "        m = re.search(\"(\\d{3})_TRANSCRIPT.csv\", filename)\n",
        "        if m:\n",
        "            person_id = m.group(1)\n",
        "            p = {}\n",
        "            question = \"\"\n",
        "            answer = \"\"\n",
        "            lines = len(transcript)\n",
        "            for i in range(0, lines):\n",
        "                row = transcript.iloc[i]\n",
        "                if (row[\"speaker\"] == \"Ellie\") or (i == lines - 1):\n",
        "                    p[\"personId\"] = person_id\n",
        "                    if \"(\" in str(question):\n",
        "                        question = question[question.index(\"(\") + 1:question.index(\")\")]\n",
        "                    p[\"question\"] = question\n",
        "                    p[\"answer\"] = answer\n",
        "                    if question != \"\":\n",
        "                        rows_list.append(p)\n",
        "                    p = {}\n",
        "                    answer = \"\"\n",
        "                    question = row[\"value\"]\n",
        "                else:\n",
        "                    answer = str(answer) + \" \" + str(row[\"value\"])\n",
        "\n",
        "    all_participants = pd.DataFrame(rows_list, columns=['personId', 'question', 'answer'])\n",
        "    all_participants.to_csv(directory + 'all.csv', sep=',')\n",
        "    print(\"File was created\")\n",
        "    return all_participants"
      ],
      "execution_count": null,
      "outputs": []
    },
    {
      "cell_type": "code",
      "metadata": {
        "id": "dCF5whFpYwoR",
        "colab_type": "code",
        "colab": {
          "base_uri": "https://localhost:8080/",
          "height": 34
        },
        "outputId": "1b316974-ddf6-49f2-a808-25da08f5b2fb"
      },
      "source": [
        "#loading the data\n",
        "data_path = \"/content/drive/My Drive/transcripts/\"\n",
        "all_participants = transcripts_to_dataframe(data_path)"
      ],
      "execution_count": null,
      "outputs": [
        {
          "output_type": "stream",
          "text": [
            "File was created\n"
          ],
          "name": "stdout"
        }
      ]
    },
    {
      "cell_type": "code",
      "metadata": {
        "id": "oD5hbqS5ZEeE",
        "colab_type": "code",
        "colab": {}
      },
      "source": [
        "all_participants_mix = all_participants.copy()\n",
        "all_participants_mix['answer'] = all_participants_mix.apply(lambda row: text_to_wordlist(row.answer).split(), axis=1)"
      ],
      "execution_count": null,
      "outputs": []
    },
    {
      "cell_type": "code",
      "metadata": {
        "id": "6bpggwHmZidE",
        "colab_type": "code",
        "colab": {
          "base_uri": "https://localhost:8080/",
          "height": 34
        },
        "outputId": "81e9c528-6784-4401-bdc0-9dff0e2b9cec"
      },
      "source": [
        "\n",
        "words = [w for w in all_participants_mix['answer'].tolist()]\n",
        "words = set(itertools.chain(*words))\n",
        "vocab_size = len(words)\n",
        "print(vocab_size)"
      ],
      "execution_count": null,
      "outputs": [
        {
          "output_type": "stream",
          "text": [
            "7373\n"
          ],
          "name": "stdout"
        }
      ]
    },
    {
      "cell_type": "code",
      "metadata": {
        "id": "r5ZhRG_SaCdU",
        "colab_type": "code",
        "colab": {}
      },
      "source": [
        "windows_size = WINDOWS_SIZE\n",
        "tokenizer = Tokenizer(num_words=vocab_size)\n",
        "tokenizer.fit_on_texts(all_participants_mix['answer'])\n",
        "tokenizer.fit_on_sequences(all_participants_mix['answer'])\n",
        "\n",
        "all_participants_mix['t_answer'] = tokenizer.texts_to_sequences(all_participants_mix['answer'])"
      ],
      "execution_count": null,
      "outputs": []
    },
    {
      "cell_type": "code",
      "metadata": {
        "id": "PgPT8l9MaFGS",
        "colab_type": "code",
        "colab": {}
      },
      "source": [
        "from keras.models import load_model\n",
        "model = load_model('/content/drive/My Drive/Depression_detect/model_glove_lstm_b.h5')"
      ],
      "execution_count": null,
      "outputs": []
    },
    {
      "cell_type": "code",
      "metadata": {
        "id": "AgrQCUOGaHbf",
        "colab_type": "code",
        "colab": {}
      },
      "source": [
        "def test_model(text, model):\n",
        "    print(text)\n",
        "    word_list = text_to_wordlist(text)\n",
        "    list_of_words = word_list.split(\" \")\n",
        "    sequences = tokenizer.texts_to_sequences([word_list])\n",
        "    word_tokens = sequences[0]\n",
        "    size = len(word_tokens)\n",
        "    test_phrases = []\n",
        "    for i in range(size):\n",
        "        tokens = word_tokens[i:min(i+windows_size,size)]  \n",
        "        test_phrases.append(tokens)\n",
        "    sequences_input = test_phrases\n",
        "    sequences_input =  pad_sequences(sequences_input, value=0, padding=\"post\", maxlen=windows_size)\n",
        "    #print(sequences_input)\n",
        "    \n",
        "    predicted_classes = []\n",
        "    for sequence in sequences_input:\n",
        "        input_a = np.asarray([sequence])\n",
        "        pred = model.predict(input_a, batch_size=64, verbose=0, steps=None)\n",
        "        #print(pred)\n",
        "        predicted_classes.append(np.argmax(pred))   \n",
        "        \n",
        "    freq = {} \n",
        "    for class_ in predicted_classes: \n",
        "        if (class_ in freq): \n",
        "            freq[class_] += 1\n",
        "        else: \n",
        "            freq[class_] = 1\n",
        "            \n",
        "    #print(predicted_classes)\n",
        "    \n",
        "    for key, value in freq.items():\n",
        "        #print(key)\n",
        "        label = labels[key]\n",
        "        percentage = value/len(predicted_classes) * 100\n",
        "        \n",
        "        print(label + \": \" + str(percentage))"
      ],
      "execution_count": null,
      "outputs": []
    },
    {
      "cell_type": "code",
      "metadata": {
        "id": "e0vqJlc8agRl",
        "colab_type": "code",
        "colab": {
          "base_uri": "https://localhost:8080/",
          "height": 459
        },
        "outputId": "a4decbe1-93d0-47ad-e376-5201b0d78a9b"
      },
      "source": [
        "sen = \"All is going right with the party, I'm happy to know new people\"\n",
        "test_model(sen, model)\n",
        "sen = \"I want an ice cream and have some fries for lunch\"\n",
        "test_model(sen, model)\n",
        "sen = \"I'm afraid of losing my work, I don't have any money\"\n",
        "test_model(sen, model)\n",
        "sen = \"I'm worried about my future, I'm afraid of it\"\n",
        "test_model(sen, model)\n",
        "sen = \"I am a graduate student\"\n",
        "test_model(sen, model)\n",
        "sen = \"I am getting married\"\n",
        "test_model(sen, model)\n",
        "sen = \"This party is great, I know lots of people\"\n",
        "test_model(sen, model)\n",
        "sen = \"I miss my parents, brothers and sisters\"\n",
        "test_model(sen, model)\n",
        "sen = \"I detest my horrible job\"\n",
        "test_model(sen, model)\n",
        "sen = \"suicide\"\n",
        "test_model(sen, model)"
      ],
      "execution_count": null,
      "outputs": [
        {
          "output_type": "stream",
          "text": [
            "All is going right with the party, I'm happy to know new people\n",
            "mild: 100.0\n",
            "I want an ice cream and have some fries for lunch\n",
            "moderately severe: 60.0\n",
            "mild: 40.0\n",
            "I'm afraid of losing my work, I don't have any money\n",
            "moderately severe: 33.33333333333333\n",
            "mild: 33.33333333333333\n",
            "none: 33.33333333333333\n",
            "I'm worried about my future, I'm afraid of it\n",
            "moderately severe: 14.285714285714285\n",
            "mild: 85.71428571428571\n",
            "I am a graduate student\n",
            "mild: 100.0\n",
            "I am getting married\n",
            "mild: 50.0\n",
            "moderately severe: 50.0\n",
            "This party is great, I know lots of people\n",
            "mild: 100.0\n",
            "I miss my parents, brothers and sisters\n",
            "mild: 25.0\n",
            "moderately severe: 75.0\n",
            "I detest my horrible job\n",
            "mild: 100.0\n",
            "suicide\n",
            "mild: 100.0\n"
          ],
          "name": "stdout"
        }
      ]
    },
    {
      "cell_type": "code",
      "metadata": {
        "id": "13zHl_-Wa-T2",
        "colab_type": "code",
        "colab": {}
      },
      "source": [
        "all_participants = pd.read_csv(data_path + 'all.csv', sep=',')"
      ],
      "execution_count": null,
      "outputs": []
    },
    {
      "cell_type": "code",
      "metadata": {
        "id": "LDs8ArarbxDa",
        "colab_type": "code",
        "colab": {
          "base_uri": "https://localhost:8080/",
          "height": 1000
        },
        "outputId": "e245ad81-449f-4159-9a68-b8e374ea01fb"
      },
      "source": [
        "answers_308 = all_participants[all_participants.personId==308].answer.tolist()\n",
        "answers_308"
      ],
      "execution_count": null,
      "outputs": [
        {
          "output_type": "execute_result",
          "data": {
            "text/plain": [
              "[nan,\n",
              " nan,\n",
              " nan,\n",
              " nan,\n",
              " ' los angeles california',\n",
              " ' yes',\n",
              " ' um the southern california lifestyle the beaches the um active lifestyle',\n",
              " nan,\n",
              " ' the traffic the pretentious people',\n",
              " nan,\n",
              " ' um my teachers um',\n",
              " \" i don't know certain teachers um got uh spiritual teachers that i um find a lot of guidance from\",\n",
              " ' <laughter>',\n",
              " \" that's it mm i like to skateboard and\",\n",
              " \" and just stay active stay healthy um anything that's um outdoors and active and healthy hiking biking rollerblading skateboarding all the above\",\n",
              " nan,\n",
              " ' mm no',\n",
              " ' mm not really in a position to travel financially',\n",
              " nan,\n",
              " \" if i could i'm sure i would enjoy seeing all the different cultures and places and meeting all the different people and all the interesting structures and uh the food so\",\n",
              " nan,\n",
              " ' i meditate and i skateboard well i can meditate on my board',\n",
              " \" mm i meditate it helps me relax um sometimes if i don't really feel like skating hard i'll just go for a nice uh sunset skate and meditate a nice two hour skate just relax\",\n",
              " nan,\n",
              " \" mm it's not that hard you just gotta get to the skate spots you know i usually like skating um there's some good good spay skate spots in l_a streets in l_a\",\n",
              " ' uh the beaches is always good so uh',\n",
              " \" just uh it's really not that hard at all\",\n",
              " nan,\n",
              " \" <sigh> the situation with my life right now um  i can't find a fucking job\",\n",
              " \" i don't even care about a good job i just need a job anything that pays um just gets gets just gets hard after awhile\",\n",
              " nan,\n",
              " \" i don't i applied from a anywhere and everywhere from entry level to management to anywhere in between and um i can't find a job i can't get a job so i'm trying i'm trying i'm trying i'm trying i'm trying i'm trying i'm trying\",\n",
              " nan,\n",
              " ' it is what it is',\n",
              " \" yeah it's pretty depressing it's hard sucks\",\n",
              " nan,\n",
              " \" mm it isn't <yawn> it isn't\",\n",
              " ' yes it eh yes that happens often',\n",
              " \" uh last night i couldn't sleep\",\n",
              " \" mm just uh thinking about my situation um my car payment was due yesterday and i just i don't know if i have what it takes to continue to do this you know i survive day by day\",\n",
              " ' trying to see if i can eat at the end of the day um',\n",
              " ' yes',\n",
              " ' mm about three years ago four years ago couple years ago',\n",
              " ' my mood was just not right i was always feeling down and depressed and <sniffle> lack of energy always wanting to sleep um lack of interest',\n",
              " \" i've gone to therapy it has been useful for me in the past is it useful for me now i don't know i don't have health insurance um i would love to talk to someone i just feel like i don't have anyone so i don't depend on anyone\",\n",
              " nan,\n",
              " \" oh yeah i've always felt depressed in my life\",\n",
              " ' mm lack of energy wanting to sleep a lot lack of interest my appetite was uncontrollable either lack of or i was just being gluttonous and eating the wrong things',\n",
              " ' yes',\n",
              " ' my sister just passed away',\n",
              " \" it's alright six months ago and i became homeless and jobless two weeks ago and it got to a point where i just missed her and i wanted to be with her\",\n",
              " ' so',\n",
              " \" mm pretty dysfunctional family you know really can't depend on them that's why i just depend on myself <sigh> so\",\n",
              " ' it is what it is what are you gonna do',\n",
              " \" i'd like to give up but my parents just buried their daughter six months ago they don't wanna bury their other daughter so\",\n",
              " \" <sigh> i don't know  i don't know just uh i just haven't had good luck i was a corporate manager for twenty years and uh who would've known twenty years ago what advice i would've given myself because i tried to commit suicide instead of returning back to work and so now it's just uh it's been rough trying to pick up all the pieces and\",\n",
              " \" get my life back together um i don't know what advice i would give myself when i started with my corporate job twenty years ago\",\n",
              " \" because i didn't know i'd be here twenty years later you know\",\n",
              " nan,\n",
              " \" really happy um a couple days ago this week <sigh> i've been trying to make ends meet i've got a lot of things sprouting i've got a lot of things that are happening for me but i need like two more weeks here in l_a so i can connect the dots but financially i don't have what it takes to stay here for two more weeks so i was happy because i was getting call backs and um <sigh> things were starting to look up for me but it's just um time again isn't on my side so my car is packed and i'm hitting the road and i'm taking off and i'm leaving l_a so\",\n",
              " nan,\n",
              " \" uh loyal emotional strong that's it\",\n",
              " ' um i have been lately um i was an extrovert for twenty years when i was a corporate manager and now i am quite an introvert and i stick to myself',\n",
              " \" uh circumstances in my life i don't feel as confident i don't feel as uh charming and as social\",\n",
              " nan,\n",
              " \" mm i don't know it's hard to say can't really answer that one\",\n",
              " nan,\n",
              " nan,\n",
              " ' thank you',\n",
              " nan]"
            ]
          },
          "metadata": {
            "tags": []
          },
          "execution_count": 29
        }
      ]
    },
    {
      "cell_type": "code",
      "metadata": {
        "id": "qtv86dX2b1kM",
        "colab_type": "code",
        "colab": {
          "base_uri": "https://localhost:8080/",
          "height": 54
        },
        "outputId": "b53e1b58-6f00-40bc-e523-dcfe90d73236"
      },
      "source": [
        "import math\n",
        "sen = \"\"\n",
        "for answer in answers_308:\n",
        "    if type(answer)==str or not math.isnan(answer):\n",
        "        sen+=answer\n",
        "print(sen)"
      ],
      "execution_count": null,
      "outputs": [
        {
          "output_type": "stream",
          "text": [
            " los angeles california yes um the southern california lifestyle the beaches the um active lifestyle the traffic the pretentious people um my teachers um i don't know certain teachers um got uh spiritual teachers that i um find a lot of guidance from <laughter> that's it mm i like to skateboard and and just stay active stay healthy um anything that's um outdoors and active and healthy hiking biking rollerblading skateboarding all the above mm no mm not really in a position to travel financially if i could i'm sure i would enjoy seeing all the different cultures and places and meeting all the different people and all the interesting structures and uh the food so i meditate and i skateboard well i can meditate on my board mm i meditate it helps me relax um sometimes if i don't really feel like skating hard i'll just go for a nice uh sunset skate and meditate a nice two hour skate just relax mm it's not that hard you just gotta get to the skate spots you know i usually like skating um there's some good good spay skate spots in l_a streets in l_a uh the beaches is always good so uh just uh it's really not that hard at all <sigh> the situation with my life right now um  i can't find a fucking job i don't even care about a good job i just need a job anything that pays um just gets gets just gets hard after awhile i don't i applied from a anywhere and everywhere from entry level to management to anywhere in between and um i can't find a job i can't get a job so i'm trying i'm trying i'm trying i'm trying i'm trying i'm trying i'm trying it is what it is yeah it's pretty depressing it's hard sucks mm it isn't <yawn> it isn't yes it eh yes that happens often uh last night i couldn't sleep mm just uh thinking about my situation um my car payment was due yesterday and i just i don't know if i have what it takes to continue to do this you know i survive day by day trying to see if i can eat at the end of the day um yes mm about three years ago four years ago couple years ago my mood was just not right i was always feeling down and depressed and <sniffle> lack of energy always wanting to sleep um lack of interest i've gone to therapy it has been useful for me in the past is it useful for me now i don't know i don't have health insurance um i would love to talk to someone i just feel like i don't have anyone so i don't depend on anyone oh yeah i've always felt depressed in my life mm lack of energy wanting to sleep a lot lack of interest my appetite was uncontrollable either lack of or i was just being gluttonous and eating the wrong things yes my sister just passed away it's alright six months ago and i became homeless and jobless two weeks ago and it got to a point where i just missed her and i wanted to be with her so mm pretty dysfunctional family you know really can't depend on them that's why i just depend on myself <sigh> so it is what it is what are you gonna do i'd like to give up but my parents just buried their daughter six months ago they don't wanna bury their other daughter so <sigh> i don't know  i don't know just uh i just haven't had good luck i was a corporate manager for twenty years and uh who would've known twenty years ago what advice i would've given myself because i tried to commit suicide instead of returning back to work and so now it's just uh it's been rough trying to pick up all the pieces and get my life back together um i don't know what advice i would give myself when i started with my corporate job twenty years ago because i didn't know i'd be here twenty years later you know really happy um a couple days ago this week <sigh> i've been trying to make ends meet i've got a lot of things sprouting i've got a lot of things that are happening for me but i need like two more weeks here in l_a so i can connect the dots but financially i don't have what it takes to stay here for two more weeks so i was happy because i was getting call backs and um <sigh> things were starting to look up for me but it's just um time again isn't on my side so my car is packed and i'm hitting the road and i'm taking off and i'm leaving l_a so uh loyal emotional strong that's it um i have been lately um i was an extrovert for twenty years when i was a corporate manager and now i am quite an introvert and i stick to myself uh circumstances in my life i don't feel as confident i don't feel as uh charming and as social mm i don't know it's hard to say can't really answer that one thank you\n"
          ],
          "name": "stdout"
        }
      ]
    },
    {
      "cell_type": "code",
      "metadata": {
        "id": "Wob9nPdab301",
        "colab_type": "code",
        "colab": {
          "base_uri": "https://localhost:8080/",
          "height": 105
        },
        "outputId": "02d90b20-54bd-4bd0-a6bd-5b1a55519b8b"
      },
      "source": [
        "test_model(sen, model)"
      ],
      "execution_count": null,
      "outputs": [
        {
          "output_type": "stream",
          "text": [
            " los angeles california yes um the southern california lifestyle the beaches the um active lifestyle the traffic the pretentious people um my teachers um i don't know certain teachers um got uh spiritual teachers that i um find a lot of guidance from <laughter> that's it mm i like to skateboard and and just stay active stay healthy um anything that's um outdoors and active and healthy hiking biking rollerblading skateboarding all the above mm no mm not really in a position to travel financially if i could i'm sure i would enjoy seeing all the different cultures and places and meeting all the different people and all the interesting structures and uh the food so i meditate and i skateboard well i can meditate on my board mm i meditate it helps me relax um sometimes if i don't really feel like skating hard i'll just go for a nice uh sunset skate and meditate a nice two hour skate just relax mm it's not that hard you just gotta get to the skate spots you know i usually like skating um there's some good good spay skate spots in l_a streets in l_a uh the beaches is always good so uh just uh it's really not that hard at all <sigh> the situation with my life right now um  i can't find a fucking job i don't even care about a good job i just need a job anything that pays um just gets gets just gets hard after awhile i don't i applied from a anywhere and everywhere from entry level to management to anywhere in between and um i can't find a job i can't get a job so i'm trying i'm trying i'm trying i'm trying i'm trying i'm trying i'm trying it is what it is yeah it's pretty depressing it's hard sucks mm it isn't <yawn> it isn't yes it eh yes that happens often uh last night i couldn't sleep mm just uh thinking about my situation um my car payment was due yesterday and i just i don't know if i have what it takes to continue to do this you know i survive day by day trying to see if i can eat at the end of the day um yes mm about three years ago four years ago couple years ago my mood was just not right i was always feeling down and depressed and <sniffle> lack of energy always wanting to sleep um lack of interest i've gone to therapy it has been useful for me in the past is it useful for me now i don't know i don't have health insurance um i would love to talk to someone i just feel like i don't have anyone so i don't depend on anyone oh yeah i've always felt depressed in my life mm lack of energy wanting to sleep a lot lack of interest my appetite was uncontrollable either lack of or i was just being gluttonous and eating the wrong things yes my sister just passed away it's alright six months ago and i became homeless and jobless two weeks ago and it got to a point where i just missed her and i wanted to be with her so mm pretty dysfunctional family you know really can't depend on them that's why i just depend on myself <sigh> so it is what it is what are you gonna do i'd like to give up but my parents just buried their daughter six months ago they don't wanna bury their other daughter so <sigh> i don't know  i don't know just uh i just haven't had good luck i was a corporate manager for twenty years and uh who would've known twenty years ago what advice i would've given myself because i tried to commit suicide instead of returning back to work and so now it's just uh it's been rough trying to pick up all the pieces and get my life back together um i don't know what advice i would give myself when i started with my corporate job twenty years ago because i didn't know i'd be here twenty years later you know really happy um a couple days ago this week <sigh> i've been trying to make ends meet i've got a lot of things sprouting i've got a lot of things that are happening for me but i need like two more weeks here in l_a so i can connect the dots but financially i don't have what it takes to stay here for two more weeks so i was happy because i was getting call backs and um <sigh> things were starting to look up for me but it's just um time again isn't on my side so my car is packed and i'm hitting the road and i'm taking off and i'm leaving l_a so uh loyal emotional strong that's it um i have been lately um i was an extrovert for twenty years when i was a corporate manager and now i am quite an introvert and i stick to myself uh circumstances in my life i don't feel as confident i don't feel as uh charming and as social mm i don't know it's hard to say can't really answer that one thank you\n",
            "severe: 98.38056680161942\n",
            "none: 0.20242914979757085\n",
            "mild: 1.417004048582996\n"
          ],
          "name": "stdout"
        }
      ]
    },
    {
      "cell_type": "code",
      "metadata": {
        "id": "Rz2Teq0kb6vI",
        "colab_type": "code",
        "colab": {}
      },
      "source": [
        ""
      ],
      "execution_count": null,
      "outputs": []
    }
  ]
}