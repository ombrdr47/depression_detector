{
  "nbformat": 4,
  "nbformat_minor": 0,
  "metadata": {
    "colab": {
      "name": "Detecting Depression using ULMFit.ipynb",
      "provenance": [],
      "collapsed_sections": [],
      "toc_visible": true,
      "machine_shape": "hm"
    },
    "kernelspec": {
      "name": "python3",
      "display_name": "Python 3"
    },
    "accelerator": "GPU"
  },
  "cells": [
    {
      "cell_type": "code",
      "metadata": {
        "id": "kizQFv_HbH8L",
        "colab_type": "code",
        "colab": {
          "base_uri": "https://localhost:8080/",
          "height": 122
        },
        "outputId": "8c933f75-7423-4239-b706-d186ee2dc558"
      },
      "source": [
        "from google.colab import drive\n",
        "drive.mount('/content/drive')"
      ],
      "execution_count": null,
      "outputs": [
        {
          "output_type": "stream",
          "text": [
            "Go to this URL in a browser: https://accounts.google.com/o/oauth2/auth?client_id=947318989803-6bn6qk8qdgf4n4g3pfee6491hc0brc4i.apps.googleusercontent.com&redirect_uri=urn%3aietf%3awg%3aoauth%3a2.0%3aoob&response_type=code&scope=email%20https%3a%2f%2fwww.googleapis.com%2fauth%2fdocs.test%20https%3a%2f%2fwww.googleapis.com%2fauth%2fdrive%20https%3a%2f%2fwww.googleapis.com%2fauth%2fdrive.photos.readonly%20https%3a%2f%2fwww.googleapis.com%2fauth%2fpeopleapi.readonly\n",
            "\n",
            "Enter your authorization code:\n",
            "··········\n",
            "Mounted at /content/drive\n"
          ],
          "name": "stdout"
        }
      ]
    },
    {
      "cell_type": "code",
      "metadata": {
        "id": "IIGp_4a3Dnta",
        "colab_type": "code",
        "colab": {}
      },
      "source": [
        "# Installing torch_nightly and fastai \n",
        "!pip install torch_nightly -f https://download.pytorch.org/whl/nightly/cu92/torch_nightly.html  gwpy &> /dev/null\n",
        "!pip install fastai  gwpy &> /dev/null"
      ],
      "execution_count": null,
      "outputs": []
    },
    {
      "cell_type": "code",
      "metadata": {
        "id": "xBNkymD-GqVw",
        "colab_type": "code",
        "colab": {
          "base_uri": "https://localhost:8080/",
          "height": 459
        },
        "outputId": "83643594-7739-4792-ed88-bf4102056c13"
      },
      "source": [
        "!pip install tensorflow==1.15\n",
        "!pip install \"tensorflow_hub>=0.6.0\""
      ],
      "execution_count": null,
      "outputs": [
        {
          "output_type": "stream",
          "text": [
            "Requirement already satisfied: tensorflow==1.15 in /usr/local/lib/python3.6/dist-packages (1.15.0)\n",
            "Requirement already satisfied: opt-einsum>=2.3.2 in /usr/local/lib/python3.6/dist-packages (from tensorflow==1.15) (3.2.1)\n",
            "Requirement already satisfied: tensorflow-estimator==1.15.1 in /usr/local/lib/python3.6/dist-packages (from tensorflow==1.15) (1.15.1)\n",
            "Requirement already satisfied: protobuf>=3.6.1 in /usr/local/lib/python3.6/dist-packages (from tensorflow==1.15) (3.10.0)\n",
            "Requirement already satisfied: gast==0.2.2 in /usr/local/lib/python3.6/dist-packages (from tensorflow==1.15) (0.2.2)\n",
            "Requirement already satisfied: tensorboard<1.16.0,>=1.15.0 in /usr/local/lib/python3.6/dist-packages (from tensorflow==1.15) (1.15.0)\n",
            "Requirement already satisfied: grpcio>=1.8.6 in /usr/local/lib/python3.6/dist-packages (from tensorflow==1.15) (1.28.1)\n",
            "Requirement already satisfied: wrapt>=1.11.1 in /usr/local/lib/python3.6/dist-packages (from tensorflow==1.15) (1.12.1)\n",
            "Requirement already satisfied: numpy<2.0,>=1.16.0 in /usr/local/lib/python3.6/dist-packages (from tensorflow==1.15) (1.18.4)\n",
            "Requirement already satisfied: keras-applications>=1.0.8 in /usr/local/lib/python3.6/dist-packages (from tensorflow==1.15) (1.0.8)\n",
            "Requirement already satisfied: wheel>=0.26 in /usr/local/lib/python3.6/dist-packages (from tensorflow==1.15) (0.34.2)\n",
            "Requirement already satisfied: astor>=0.6.0 in /usr/local/lib/python3.6/dist-packages (from tensorflow==1.15) (0.8.1)\n",
            "Requirement already satisfied: google-pasta>=0.1.6 in /usr/local/lib/python3.6/dist-packages (from tensorflow==1.15) (0.2.0)\n",
            "Requirement already satisfied: termcolor>=1.1.0 in /usr/local/lib/python3.6/dist-packages (from tensorflow==1.15) (1.1.0)\n",
            "Requirement already satisfied: keras-preprocessing>=1.0.5 in /usr/local/lib/python3.6/dist-packages (from tensorflow==1.15) (1.1.0)\n",
            "Requirement already satisfied: six>=1.10.0 in /usr/local/lib/python3.6/dist-packages (from tensorflow==1.15) (1.12.0)\n",
            "Requirement already satisfied: absl-py>=0.7.0 in /usr/local/lib/python3.6/dist-packages (from tensorflow==1.15) (0.9.0)\n",
            "Requirement already satisfied: setuptools in /usr/local/lib/python3.6/dist-packages (from protobuf>=3.6.1->tensorflow==1.15) (46.1.3)\n",
            "Requirement already satisfied: markdown>=2.6.8 in /usr/local/lib/python3.6/dist-packages (from tensorboard<1.16.0,>=1.15.0->tensorflow==1.15) (3.2.1)\n",
            "Requirement already satisfied: werkzeug>=0.11.15 in /usr/local/lib/python3.6/dist-packages (from tensorboard<1.16.0,>=1.15.0->tensorflow==1.15) (1.0.1)\n",
            "Requirement already satisfied: h5py in /usr/local/lib/python3.6/dist-packages (from keras-applications>=1.0.8->tensorflow==1.15) (2.10.0)\n",
            "Requirement already satisfied: tensorflow_hub>=0.6.0 in /usr/local/lib/python3.6/dist-packages (0.8.0)\n",
            "Requirement already satisfied: numpy>=1.12.0 in /usr/local/lib/python3.6/dist-packages (from tensorflow_hub>=0.6.0) (1.18.4)\n",
            "Requirement already satisfied: protobuf>=3.8.0 in /usr/local/lib/python3.6/dist-packages (from tensorflow_hub>=0.6.0) (3.10.0)\n",
            "Requirement already satisfied: six>=1.12.0 in /usr/local/lib/python3.6/dist-packages (from tensorflow_hub>=0.6.0) (1.12.0)\n",
            "Requirement already satisfied: setuptools in /usr/local/lib/python3.6/dist-packages (from protobuf>=3.8.0->tensorflow_hub>=0.6.0) (46.1.3)\n"
          ],
          "name": "stdout"
        }
      ]
    },
    {
      "cell_type": "code",
      "metadata": {
        "id": "GJw3pHe1QsUV",
        "colab_type": "code",
        "colab": {
          "base_uri": "https://localhost:8080/",
          "height": 51
        },
        "outputId": "ff89a907-2893-4e8b-d996-b32f082cbd50"
      },
      "source": [
        "import torch\n",
        "print(\"Cuda available\" if torch.cuda.is_available() is True else \"CPU\")\n",
        "print(\"PyTorch version: \", torch.__version__)"
      ],
      "execution_count": null,
      "outputs": [
        {
          "output_type": "stream",
          "text": [
            "Cuda available\n",
            "PyTorch version:  1.2.0.dev20190805+cu92\n"
          ],
          "name": "stdout"
        }
      ]
    },
    {
      "cell_type": "code",
      "metadata": {
        "id": "mKb_PfsmEUG2",
        "colab_type": "code",
        "colab": {
          "base_uri": "https://localhost:8080/",
          "height": 238
        },
        "outputId": "2861a78c-ea8a-465f-a1cd-b751532b7ac4"
      },
      "source": [
        "!pip install chart_studio"
      ],
      "execution_count": null,
      "outputs": [
        {
          "output_type": "stream",
          "text": [
            "Collecting chart_studio\n",
            "\u001b[?25l  Downloading https://files.pythonhosted.org/packages/ca/ce/330794a6b6ca4b9182c38fc69dd2a9cbff60fd49421cb8648ee5fee352dc/chart_studio-1.1.0-py3-none-any.whl (64kB)\n",
            "\r\u001b[K     |█████                           | 10kB 17.6MB/s eta 0:00:01\r\u001b[K     |██████████▏                     | 20kB 1.7MB/s eta 0:00:01\r\u001b[K     |███████████████▎                | 30kB 2.5MB/s eta 0:00:01\r\u001b[K     |████████████████████▍           | 40kB 3.3MB/s eta 0:00:01\r\u001b[K     |█████████████████████████▍      | 51kB 2.1MB/s eta 0:00:01\r\u001b[K     |██████████████████████████████▌ | 61kB 2.5MB/s eta 0:00:01\r\u001b[K     |████████████████████████████████| 71kB 2.1MB/s \n",
            "\u001b[?25hRequirement already satisfied: retrying>=1.3.3 in /usr/local/lib/python3.6/dist-packages (from chart_studio) (1.3.3)\n",
            "Requirement already satisfied: six in /usr/local/lib/python3.6/dist-packages (from chart_studio) (1.12.0)\n",
            "Requirement already satisfied: plotly in /usr/local/lib/python3.6/dist-packages (from chart_studio) (4.4.1)\n",
            "Requirement already satisfied: requests in /usr/local/lib/python3.6/dist-packages (from chart_studio) (2.23.0)\n",
            "Requirement already satisfied: idna<3,>=2.5 in /usr/local/lib/python3.6/dist-packages (from requests->chart_studio) (2.9)\n",
            "Requirement already satisfied: chardet<4,>=3.0.2 in /usr/local/lib/python3.6/dist-packages (from requests->chart_studio) (3.0.4)\n",
            "Requirement already satisfied: urllib3!=1.25.0,!=1.25.1,<1.26,>=1.21.1 in /usr/local/lib/python3.6/dist-packages (from requests->chart_studio) (1.24.3)\n",
            "Requirement already satisfied: certifi>=2017.4.17 in /usr/local/lib/python3.6/dist-packages (from requests->chart_studio) (2020.4.5.1)\n",
            "Installing collected packages: chart-studio\n",
            "Successfully installed chart-studio-1.1.0\n"
          ],
          "name": "stdout"
        }
      ]
    },
    {
      "cell_type": "code",
      "metadata": {
        "id": "od9Cq-ao-lP9",
        "colab_type": "code",
        "colab": {}
      },
      "source": [
        "from fastai import * \n",
        "import pandas as pd\n",
        "import numpy as np\n",
        "from functools import partial\n",
        "import io\n",
        "import os\n",
        "from fastai.text import *"
      ],
      "execution_count": null,
      "outputs": []
    },
    {
      "cell_type": "code",
      "metadata": {
        "id": "ZjeCu1fn_C9n",
        "colab_type": "code",
        "colab": {
          "base_uri": "https://localhost:8080/",
          "height": 34
        },
        "outputId": "d13094fa-efee-40c8-962f-ee7cd30731f3"
      },
      "source": [
        "#importing the libraries\n",
        "import matplotlib.pyplot as plt\n",
        "from keras.preprocessing.sequence import pad_sequences\n",
        "import os\n",
        "import re\n",
        "import numpy as np\n",
        "import pandas as pd\n",
        "import chart_studio.plotly as py\n",
        "import plotly.graph_objs as go\n",
        "import itertools\n",
        "from scipy import stats\n",
        "from ast import literal_eval\n",
        "import spacy"
      ],
      "execution_count": null,
      "outputs": [
        {
          "output_type": "stream",
          "text": [
            "Using TensorFlow backend.\n"
          ],
          "name": "stderr"
        }
      ]
    },
    {
      "cell_type": "code",
      "metadata": {
        "id": "jpBd1dy_EOKJ",
        "colab_type": "code",
        "colab": {
          "base_uri": "https://localhost:8080/",
          "height": 51
        },
        "outputId": "a41045f9-1e0a-433a-8ae4-d2cf5bb4112f"
      },
      "source": [
        "!pip install nltk\n",
        "import nltk"
      ],
      "execution_count": null,
      "outputs": [
        {
          "output_type": "stream",
          "text": [
            "Requirement already satisfied: nltk in /usr/local/lib/python3.6/dist-packages (3.2.5)\n",
            "Requirement already satisfied: six in /usr/local/lib/python3.6/dist-packages (from nltk) (1.12.0)\n"
          ],
          "name": "stdout"
        }
      ]
    },
    {
      "cell_type": "code",
      "metadata": {
        "id": "NRAlQKVXGUc2",
        "colab_type": "code",
        "colab": {
          "base_uri": "https://localhost:8080/",
          "height": 102
        },
        "outputId": "34cd11b3-0b33-4a05-88d5-d106b7113520"
      },
      "source": [
        "nltk.download('stopwords')\n",
        "nltk.download('wordnet')"
      ],
      "execution_count": null,
      "outputs": [
        {
          "output_type": "stream",
          "text": [
            "[nltk_data] Downloading package stopwords to /root/nltk_data...\n",
            "[nltk_data]   Unzipping corpora/stopwords.zip.\n",
            "[nltk_data] Downloading package wordnet to /root/nltk_data...\n",
            "[nltk_data]   Unzipping corpora/wordnet.zip.\n"
          ],
          "name": "stdout"
        },
        {
          "output_type": "execute_result",
          "data": {
            "text/plain": [
              "True"
            ]
          },
          "metadata": {
            "tags": []
          },
          "execution_count": 8
        }
      ]
    },
    {
      "cell_type": "code",
      "metadata": {
        "id": "8AxNZ3ujGY3M",
        "colab_type": "code",
        "colab": {}
      },
      "source": [
        "import gensim\n",
        "import json\n",
        "import pickle\n",
        "\n",
        "import nltk\n",
        "from nltk.stem import WordNetLemmatizer\n",
        "from nltk.corpus import stopwords\n",
        "from nltk.tokenize import word_tokenize\n",
        "from nltk.stem import PorterStemmer\n",
        "from keras.preprocessing.text import Tokenizer\n",
        "from keras.utils.vis_utils import plot_model\n",
        "import keras.utils\n",
        "from keras import utils as np_utils\n",
        "\n",
        "#Keras Tokenizer just replaces certain punctuation characters and splits on the remaining space character.\n",
        "#NLTK Tokenizer uses the Treebank tokenizer uses regular expressions to tokenize text as in Penn Treebank. "
      ],
      "execution_count": null,
      "outputs": []
    },
    {
      "cell_type": "code",
      "metadata": {
        "id": "4Uqcv-qbH1E-",
        "colab_type": "code",
        "colab": {}
      },
      "source": [
        "def transcripts_to_dataframe(directory):\n",
        "    rows_list = []\n",
        "        \n",
        "    filenames = os.listdir(directory)\n",
        "    \n",
        "    if \".DS_Store\" in filenames:\n",
        "        filenames.remove(\".DS_Store\")\n",
        "        \n",
        "    for filename in filenames:\n",
        "        transcript_path = os.path.join(directory, filename)\n",
        "        transcript = pd.read_csv(transcript_path, sep='\\t')\n",
        "        m = re.search(\"(\\d{3})_TRANSCRIPT.csv\", filename)\n",
        "        if m:\n",
        "            person_id = m.group(1)\n",
        "            p = {}\n",
        "            question = \"\"\n",
        "            answer = \"\"\n",
        "            lines = len(transcript)\n",
        "            for i in range(0, lines):\n",
        "                row = transcript.iloc[i]\n",
        "                if (row[\"speaker\"] == \"Ellie\") or (i == lines - 1):\n",
        "                    p[\"personId\"] = person_id\n",
        "                    if \"(\" in str(question):\n",
        "                        question = question[question.index(\"(\") + 1:question.index(\")\")]\n",
        "                    p[\"question\"] = question\n",
        "                    p[\"answer\"] = answer\n",
        "                    if question != \"\":\n",
        "                        rows_list.append(p)\n",
        "                    p = {}\n",
        "                    answer = \"\"\n",
        "                    question = row[\"value\"]\n",
        "                else:\n",
        "                    answer = str(answer) + \" \" + str(row[\"value\"])\n",
        "\n",
        "    all_participants = pd.DataFrame(rows_list, columns=['personId', 'question', 'answer'])\n",
        "    all_participants.to_csv(directory + 'all.csv', sep=',')\n",
        "    print(\"File was created\")\n",
        "    return all_participants"
      ],
      "execution_count": null,
      "outputs": []
    },
    {
      "cell_type": "code",
      "metadata": {
        "id": "JNNvsovlH7o9",
        "colab_type": "code",
        "colab": {
          "base_uri": "https://localhost:8080/",
          "height": 34
        },
        "outputId": "b95c7861-b8e4-48ea-aba4-e2f3d9db52dc"
      },
      "source": [
        "#loading the data\n",
        "data_path = \"/content/drive/My Drive/transcripts/\"\n",
        "all_participants = transcripts_to_dataframe(data_path)"
      ],
      "execution_count": null,
      "outputs": [
        {
          "output_type": "stream",
          "text": [
            "File was created\n"
          ],
          "name": "stdout"
        }
      ]
    },
    {
      "cell_type": "code",
      "metadata": {
        "id": "BhR7yr1sH-xf",
        "colab_type": "code",
        "colab": {
          "base_uri": "https://localhost:8080/",
          "height": 669
        },
        "outputId": "eb80d9d4-36fc-4700-9f0d-569c2d48e70a"
      },
      "source": [
        "all_participants.head(20)"
      ],
      "execution_count": null,
      "outputs": [
        {
          "output_type": "execute_result",
          "data": {
            "text/html": [
              "<div>\n",
              "<style scoped>\n",
              "    .dataframe tbody tr th:only-of-type {\n",
              "        vertical-align: middle;\n",
              "    }\n",
              "\n",
              "    .dataframe tbody tr th {\n",
              "        vertical-align: top;\n",
              "    }\n",
              "\n",
              "    .dataframe thead th {\n",
              "        text-align: right;\n",
              "    }\n",
              "</style>\n",
              "<table border=\"1\" class=\"dataframe\">\n",
              "  <thead>\n",
              "    <tr style=\"text-align: right;\">\n",
              "      <th></th>\n",
              "      <th>personId</th>\n",
              "      <th>question</th>\n",
              "      <th>answer</th>\n",
              "    </tr>\n",
              "  </thead>\n",
              "  <tbody>\n",
              "    <tr>\n",
              "      <th>0</th>\n",
              "      <td>300</td>\n",
              "      <td>hi i'm ellie thanks for coming in today</td>\n",
              "      <td></td>\n",
              "    </tr>\n",
              "    <tr>\n",
              "      <th>1</th>\n",
              "      <td>300</td>\n",
              "      <td>i was created to talk to people in a safe and ...</td>\n",
              "      <td></td>\n",
              "    </tr>\n",
              "    <tr>\n",
              "      <th>2</th>\n",
              "      <td>300</td>\n",
              "      <td>think of me as a friend i don't judge i can't ...</td>\n",
              "      <td></td>\n",
              "    </tr>\n",
              "    <tr>\n",
              "      <th>3</th>\n",
              "      <td>300</td>\n",
              "      <td>i'm here to learn about people and would love ...</td>\n",
              "      <td></td>\n",
              "    </tr>\n",
              "    <tr>\n",
              "      <th>4</th>\n",
              "      <td>300</td>\n",
              "      <td>i'll ask a few questions to get us started and...</td>\n",
              "      <td></td>\n",
              "    </tr>\n",
              "    <tr>\n",
              "      <th>5</th>\n",
              "      <td>300</td>\n",
              "      <td>how are you doing today</td>\n",
              "      <td>good</td>\n",
              "    </tr>\n",
              "    <tr>\n",
              "      <th>6</th>\n",
              "      <td>300</td>\n",
              "      <td>that's good</td>\n",
              "      <td></td>\n",
              "    </tr>\n",
              "    <tr>\n",
              "      <th>7</th>\n",
              "      <td>300</td>\n",
              "      <td>where are you from originally</td>\n",
              "      <td>atlanta georgia</td>\n",
              "    </tr>\n",
              "    <tr>\n",
              "      <th>8</th>\n",
              "      <td>300</td>\n",
              "      <td>really</td>\n",
              "      <td></td>\n",
              "    </tr>\n",
              "    <tr>\n",
              "      <th>9</th>\n",
              "      <td>300</td>\n",
              "      <td>why'd you move to l_a</td>\n",
              "      <td>um my parents are from here um</td>\n",
              "    </tr>\n",
              "    <tr>\n",
              "      <th>10</th>\n",
              "      <td>300</td>\n",
              "      <td>how do you like l_a</td>\n",
              "      <td>i love it</td>\n",
              "    </tr>\n",
              "    <tr>\n",
              "      <th>11</th>\n",
              "      <td>300</td>\n",
              "      <td>what are some things you really like about l_a</td>\n",
              "      <td>i like the weather i like the opportunities u...</td>\n",
              "    </tr>\n",
              "    <tr>\n",
              "      <th>12</th>\n",
              "      <td>300</td>\n",
              "      <td>how easy was it for you to get used to living ...</td>\n",
              "      <td>um it took a minute somewhat easy</td>\n",
              "    </tr>\n",
              "    <tr>\n",
              "      <th>13</th>\n",
              "      <td>300</td>\n",
              "      <td>what are some things you don't really like abo...</td>\n",
              "      <td>congestion</td>\n",
              "    </tr>\n",
              "    <tr>\n",
              "      <th>14</th>\n",
              "      <td>300</td>\n",
              "      <td>mhm</td>\n",
              "      <td>that's it</td>\n",
              "    </tr>\n",
              "    <tr>\n",
              "      <th>15</th>\n",
              "      <td>300</td>\n",
              "      <td>okay</td>\n",
              "      <td></td>\n",
              "    </tr>\n",
              "    <tr>\n",
              "      <th>16</th>\n",
              "      <td>300</td>\n",
              "      <td>what'd you study at school</td>\n",
              "      <td>um i took up business and administration</td>\n",
              "    </tr>\n",
              "    <tr>\n",
              "      <th>17</th>\n",
              "      <td>300</td>\n",
              "      <td>cool</td>\n",
              "      <td></td>\n",
              "    </tr>\n",
              "    <tr>\n",
              "      <th>18</th>\n",
              "      <td>300</td>\n",
              "      <td>are you still doing that</td>\n",
              "      <td>uh yeah i am here and there i'm on a break ri...</td>\n",
              "    </tr>\n",
              "    <tr>\n",
              "      <th>19</th>\n",
              "      <td>300</td>\n",
              "      <td>what's your dream job</td>\n",
              "      <td>uh probably to open up my own business</td>\n",
              "    </tr>\n",
              "  </tbody>\n",
              "</table>\n",
              "</div>"
            ],
            "text/plain": [
              "   personId  ...                                             answer\n",
              "0       300  ...                                                   \n",
              "1       300  ...                                                   \n",
              "2       300  ...                                                   \n",
              "3       300  ...                                                   \n",
              "4       300  ...                                                   \n",
              "5       300  ...                                               good\n",
              "6       300  ...                                                   \n",
              "7       300  ...                                    atlanta georgia\n",
              "8       300  ...                                                   \n",
              "9       300  ...                     um my parents are from here um\n",
              "10      300  ...                                          i love it\n",
              "11      300  ...   i like the weather i like the opportunities u...\n",
              "12      300  ...                  um it took a minute somewhat easy\n",
              "13      300  ...                                         congestion\n",
              "14      300  ...                                          that's it\n",
              "15      300  ...                                                   \n",
              "16      300  ...           um i took up business and administration\n",
              "17      300  ...                                                   \n",
              "18      300  ...   uh yeah i am here and there i'm on a break ri...\n",
              "19      300  ...             uh probably to open up my own business\n",
              "\n",
              "[20 rows x 3 columns]"
            ]
          },
          "metadata": {
            "tags": []
          },
          "execution_count": 13
        }
      ]
    },
    {
      "cell_type": "code",
      "metadata": {
        "id": "UAqMUT4nINjV",
        "colab_type": "code",
        "colab": {
          "base_uri": "https://localhost:8080/",
          "height": 657
        },
        "outputId": "ff77e58d-2c44-40d3-e1f3-18021c892d65"
      },
      "source": [
        "#Selecting the data from the data from based on the questions asked  ['where', 'when', 'how', 'why', 'are', 'what', 'do', 'have', 'can', 'did', 'is', 'could', 'so', 'tell', 'who', 'has']\n",
        "interrogative = [\"where\", \"when\", \"how\",\"why\",\"are\",\"what\",\"do\",\"have\",\"can\",\"did\",\"is\", \"could\", \"so\", \"tell\", \"who\", \"has\"]\n",
        "rslt_df = all_participants[all_participants.question.str.contains('|'.join(interrogative),na=False)]\n",
        "rslt_df['answer'].replace('', np.nan, inplace=True)\n",
        "rslt_df.dropna(subset = [\"answer\"], inplace=True)\n",
        "rslt_df.reset_index(drop=True, inplace=True)\n",
        "rslt_df\n",
        "#rslt_df = rslt_df.to_csv(\"/content/drive/My Drive/rslt_df.csv\")"
      ],
      "execution_count": null,
      "outputs": [
        {
          "output_type": "stream",
          "text": [
            "/usr/local/lib/python3.6/dist-packages/pandas/core/generic.py:6746: SettingWithCopyWarning:\n",
            "\n",
            "\n",
            "A value is trying to be set on a copy of a slice from a DataFrame\n",
            "\n",
            "See the caveats in the documentation: https://pandas.pydata.org/pandas-docs/stable/user_guide/indexing.html#returning-a-view-versus-a-copy\n",
            "\n",
            "/usr/local/lib/python3.6/dist-packages/ipykernel_launcher.py:4: SettingWithCopyWarning:\n",
            "\n",
            "\n",
            "A value is trying to be set on a copy of a slice from a DataFrame\n",
            "\n",
            "See the caveats in the documentation: https://pandas.pydata.org/pandas-docs/stable/user_guide/indexing.html#returning-a-view-versus-a-copy\n",
            "\n"
          ],
          "name": "stderr"
        },
        {
          "output_type": "execute_result",
          "data": {
            "text/html": [
              "<div>\n",
              "<style scoped>\n",
              "    .dataframe tbody tr th:only-of-type {\n",
              "        vertical-align: middle;\n",
              "    }\n",
              "\n",
              "    .dataframe tbody tr th {\n",
              "        vertical-align: top;\n",
              "    }\n",
              "\n",
              "    .dataframe thead th {\n",
              "        text-align: right;\n",
              "    }\n",
              "</style>\n",
              "<table border=\"1\" class=\"dataframe\">\n",
              "  <thead>\n",
              "    <tr style=\"text-align: right;\">\n",
              "      <th></th>\n",
              "      <th>personId</th>\n",
              "      <th>question</th>\n",
              "      <th>answer</th>\n",
              "    </tr>\n",
              "  </thead>\n",
              "  <tbody>\n",
              "    <tr>\n",
              "      <th>0</th>\n",
              "      <td>300</td>\n",
              "      <td>how are you doing today</td>\n",
              "      <td>good</td>\n",
              "    </tr>\n",
              "    <tr>\n",
              "      <th>1</th>\n",
              "      <td>300</td>\n",
              "      <td>where are you from originally</td>\n",
              "      <td>atlanta georgia</td>\n",
              "    </tr>\n",
              "    <tr>\n",
              "      <th>2</th>\n",
              "      <td>300</td>\n",
              "      <td>why'd you move to l_a</td>\n",
              "      <td>um my parents are from here um</td>\n",
              "    </tr>\n",
              "    <tr>\n",
              "      <th>3</th>\n",
              "      <td>300</td>\n",
              "      <td>how do you like l_a</td>\n",
              "      <td>i love it</td>\n",
              "    </tr>\n",
              "    <tr>\n",
              "      <th>4</th>\n",
              "      <td>300</td>\n",
              "      <td>what are some things you really like about l_a</td>\n",
              "      <td>i like the weather i like the opportunities u...</td>\n",
              "    </tr>\n",
              "    <tr>\n",
              "      <th>...</th>\n",
              "      <td>...</td>\n",
              "      <td>...</td>\n",
              "      <td>...</td>\n",
              "    </tr>\n",
              "    <tr>\n",
              "      <th>8698</th>\n",
              "      <td>390</td>\n",
              "      <td>that's so good to hear</td>\n",
              "      <td>mm</td>\n",
              "    </tr>\n",
              "    <tr>\n",
              "      <th>8699</th>\n",
              "      <td>390</td>\n",
              "      <td>is there anything you regret</td>\n",
              "      <td>um hm no um except meeting that one woman uh</td>\n",
              "    </tr>\n",
              "    <tr>\n",
              "      <th>8700</th>\n",
              "      <td>390</td>\n",
              "      <td>what advice would you give to yourself ten or ...</td>\n",
              "      <td>uh i don't know probably try a little harder ...</td>\n",
              "    </tr>\n",
              "    <tr>\n",
              "      <th>8701</th>\n",
              "      <td>390</td>\n",
              "      <td>tell me how you spend your ideal weekend</td>\n",
              "      <td>oh um getting out of town um going going away...</td>\n",
              "    </tr>\n",
              "    <tr>\n",
              "      <th>8702</th>\n",
              "      <td>390</td>\n",
              "      <td>what are you most proud of in your life</td>\n",
              "      <td>um well my daughter's a great source of pride...</td>\n",
              "    </tr>\n",
              "  </tbody>\n",
              "</table>\n",
              "<p>8703 rows × 3 columns</p>\n",
              "</div>"
            ],
            "text/plain": [
              "     personId  ...                                             answer\n",
              "0         300  ...                                               good\n",
              "1         300  ...                                    atlanta georgia\n",
              "2         300  ...                     um my parents are from here um\n",
              "3         300  ...                                          i love it\n",
              "4         300  ...   i like the weather i like the opportunities u...\n",
              "...       ...  ...                                                ...\n",
              "8698      390  ...                                                 mm\n",
              "8699      390  ...       um hm no um except meeting that one woman uh\n",
              "8700      390  ...   uh i don't know probably try a little harder ...\n",
              "8701      390  ...   oh um getting out of town um going going away...\n",
              "8702      390  ...   um well my daughter's a great source of pride...\n",
              "\n",
              "[8703 rows x 3 columns]"
            ]
          },
          "metadata": {
            "tags": []
          },
          "execution_count": 14
        }
      ]
    },
    {
      "cell_type": "code",
      "metadata": {
        "id": "6Kdcv8I8JlbN",
        "colab_type": "code",
        "colab": {
          "base_uri": "https://localhost:8080/",
          "height": 359
        },
        "outputId": "eebf97b1-5105-4a85-95a9-92d63878874c"
      },
      "source": [
        "rslt_df.sample(10)"
      ],
      "execution_count": null,
      "outputs": [
        {
          "output_type": "execute_result",
          "data": {
            "text/html": [
              "<div>\n",
              "<style scoped>\n",
              "    .dataframe tbody tr th:only-of-type {\n",
              "        vertical-align: middle;\n",
              "    }\n",
              "\n",
              "    .dataframe tbody tr th {\n",
              "        vertical-align: top;\n",
              "    }\n",
              "\n",
              "    .dataframe thead th {\n",
              "        text-align: right;\n",
              "    }\n",
              "</style>\n",
              "<table border=\"1\" class=\"dataframe\">\n",
              "  <thead>\n",
              "    <tr style=\"text-align: right;\">\n",
              "      <th></th>\n",
              "      <th>personId</th>\n",
              "      <th>question</th>\n",
              "      <th>answer</th>\n",
              "    </tr>\n",
              "  </thead>\n",
              "  <tbody>\n",
              "    <tr>\n",
              "      <th>6696</th>\n",
              "      <td>452</td>\n",
              "      <td>where are you from originally</td>\n",
              "      <td>i'm from california</td>\n",
              "    </tr>\n",
              "    <tr>\n",
              "      <th>7444</th>\n",
              "      <td>463</td>\n",
              "      <td>what are some things you don't really like abo...</td>\n",
              "      <td>um the traffic &lt;laughter&gt;</td>\n",
              "    </tr>\n",
              "    <tr>\n",
              "      <th>7751</th>\n",
              "      <td>474</td>\n",
              "      <td>how did you decide to do that</td>\n",
              "      <td>well i always wanted to tell stories so it ju...</td>\n",
              "    </tr>\n",
              "    <tr>\n",
              "      <th>5455</th>\n",
              "      <td>420</td>\n",
              "      <td>what are you most proud of in your life</td>\n",
              "      <td>my daughter</td>\n",
              "    </tr>\n",
              "    <tr>\n",
              "      <th>1029</th>\n",
              "      <td>321</td>\n",
              "      <td>how easy is it for you to get a good night's s...</td>\n",
              "      <td>i haven't had a good night's sleep in a year ...</td>\n",
              "    </tr>\n",
              "    <tr>\n",
              "      <th>2907</th>\n",
              "      <td>353</td>\n",
              "      <td>do you consider yourself an introvert</td>\n",
              "      <td>um sometimes</td>\n",
              "    </tr>\n",
              "    <tr>\n",
              "      <th>2737</th>\n",
              "      <td>359</td>\n",
              "      <td>how have you been feeling lately</td>\n",
              "      <td>&lt;laughter&gt; i don't wanna uh lately probably i...</td>\n",
              "    </tr>\n",
              "    <tr>\n",
              "      <th>476</th>\n",
              "      <td>311</td>\n",
              "      <td>how easy was it for you to get used to living ...</td>\n",
              "      <td>it it wasn't hard to get used i i didn't like...</td>\n",
              "    </tr>\n",
              "    <tr>\n",
              "      <th>6901</th>\n",
              "      <td>454</td>\n",
              "      <td>have you ever been diagnosed with p_t_s_d</td>\n",
              "      <td>no</td>\n",
              "    </tr>\n",
              "    <tr>\n",
              "      <th>8255</th>\n",
              "      <td>364</td>\n",
              "      <td>what did you do after the military</td>\n",
              "      <td>uh i went to graduate i was still in the rese...</td>\n",
              "    </tr>\n",
              "  </tbody>\n",
              "</table>\n",
              "</div>"
            ],
            "text/plain": [
              "     personId  ...                                             answer\n",
              "6696      452  ...                                i'm from california\n",
              "7444      463  ...                          um the traffic <laughter>\n",
              "7751      474  ...   well i always wanted to tell stories so it ju...\n",
              "5455      420  ...                                        my daughter\n",
              "1029      321  ...   i haven't had a good night's sleep in a year ...\n",
              "2907      353  ...                                      um sometimes \n",
              "2737      359  ...   <laughter> i don't wanna uh lately probably i...\n",
              "476       311  ...   it it wasn't hard to get used i i didn't like...\n",
              "6901      454  ...                                                 no\n",
              "8255      364  ...   uh i went to graduate i was still in the rese...\n",
              "\n",
              "[10 rows x 3 columns]"
            ]
          },
          "metadata": {
            "tags": []
          },
          "execution_count": 15
        }
      ]
    },
    {
      "cell_type": "code",
      "metadata": {
        "id": "S_rSPDLrJpif",
        "colab_type": "code",
        "colab": {
          "base_uri": "https://localhost:8080/",
          "height": 153
        },
        "outputId": "2c1124e5-e5ee-4956-a582-b91b18ded9a1"
      },
      "source": [
        "rslt_df['question']= rslt_df.apply(lambda row: \"{0}?\".format(row.question), axis=1)"
      ],
      "execution_count": null,
      "outputs": [
        {
          "output_type": "stream",
          "text": [
            "/usr/local/lib/python3.6/dist-packages/ipykernel_launcher.py:1: SettingWithCopyWarning:\n",
            "\n",
            "\n",
            "A value is trying to be set on a copy of a slice from a DataFrame.\n",
            "Try using .loc[row_indexer,col_indexer] = value instead\n",
            "\n",
            "See the caveats in the documentation: https://pandas.pydata.org/pandas-docs/stable/user_guide/indexing.html#returning-a-view-versus-a-copy\n",
            "\n"
          ],
          "name": "stderr"
        }
      ]
    },
    {
      "cell_type": "code",
      "metadata": {
        "id": "FQ1mvMC8Jskq",
        "colab_type": "code",
        "colab": {
          "base_uri": "https://localhost:8080/",
          "height": 419
        },
        "outputId": "5045b48a-0431-4662-a4f1-5a65edcec475"
      },
      "source": [
        "rslt_df"
      ],
      "execution_count": null,
      "outputs": [
        {
          "output_type": "execute_result",
          "data": {
            "text/html": [
              "<div>\n",
              "<style scoped>\n",
              "    .dataframe tbody tr th:only-of-type {\n",
              "        vertical-align: middle;\n",
              "    }\n",
              "\n",
              "    .dataframe tbody tr th {\n",
              "        vertical-align: top;\n",
              "    }\n",
              "\n",
              "    .dataframe thead th {\n",
              "        text-align: right;\n",
              "    }\n",
              "</style>\n",
              "<table border=\"1\" class=\"dataframe\">\n",
              "  <thead>\n",
              "    <tr style=\"text-align: right;\">\n",
              "      <th></th>\n",
              "      <th>personId</th>\n",
              "      <th>question</th>\n",
              "      <th>answer</th>\n",
              "    </tr>\n",
              "  </thead>\n",
              "  <tbody>\n",
              "    <tr>\n",
              "      <th>0</th>\n",
              "      <td>300</td>\n",
              "      <td>how are you doing today?</td>\n",
              "      <td>good</td>\n",
              "    </tr>\n",
              "    <tr>\n",
              "      <th>1</th>\n",
              "      <td>300</td>\n",
              "      <td>where are you from originally?</td>\n",
              "      <td>atlanta georgia</td>\n",
              "    </tr>\n",
              "    <tr>\n",
              "      <th>2</th>\n",
              "      <td>300</td>\n",
              "      <td>why'd you move to l_a?</td>\n",
              "      <td>um my parents are from here um</td>\n",
              "    </tr>\n",
              "    <tr>\n",
              "      <th>3</th>\n",
              "      <td>300</td>\n",
              "      <td>how do you like l_a?</td>\n",
              "      <td>i love it</td>\n",
              "    </tr>\n",
              "    <tr>\n",
              "      <th>4</th>\n",
              "      <td>300</td>\n",
              "      <td>what are some things you really like about l_a?</td>\n",
              "      <td>i like the weather i like the opportunities u...</td>\n",
              "    </tr>\n",
              "    <tr>\n",
              "      <th>...</th>\n",
              "      <td>...</td>\n",
              "      <td>...</td>\n",
              "      <td>...</td>\n",
              "    </tr>\n",
              "    <tr>\n",
              "      <th>8698</th>\n",
              "      <td>390</td>\n",
              "      <td>that's so good to hear?</td>\n",
              "      <td>mm</td>\n",
              "    </tr>\n",
              "    <tr>\n",
              "      <th>8699</th>\n",
              "      <td>390</td>\n",
              "      <td>is there anything you regret?</td>\n",
              "      <td>um hm no um except meeting that one woman uh</td>\n",
              "    </tr>\n",
              "    <tr>\n",
              "      <th>8700</th>\n",
              "      <td>390</td>\n",
              "      <td>what advice would you give to yourself ten or ...</td>\n",
              "      <td>uh i don't know probably try a little harder ...</td>\n",
              "    </tr>\n",
              "    <tr>\n",
              "      <th>8701</th>\n",
              "      <td>390</td>\n",
              "      <td>tell me how you spend your ideal weekend?</td>\n",
              "      <td>oh um getting out of town um going going away...</td>\n",
              "    </tr>\n",
              "    <tr>\n",
              "      <th>8702</th>\n",
              "      <td>390</td>\n",
              "      <td>what are you most proud of in your life?</td>\n",
              "      <td>um well my daughter's a great source of pride...</td>\n",
              "    </tr>\n",
              "  </tbody>\n",
              "</table>\n",
              "<p>8703 rows × 3 columns</p>\n",
              "</div>"
            ],
            "text/plain": [
              "     personId  ...                                             answer\n",
              "0         300  ...                                               good\n",
              "1         300  ...                                    atlanta georgia\n",
              "2         300  ...                     um my parents are from here um\n",
              "3         300  ...                                          i love it\n",
              "4         300  ...   i like the weather i like the opportunities u...\n",
              "...       ...  ...                                                ...\n",
              "8698      390  ...                                                 mm\n",
              "8699      390  ...       um hm no um except meeting that one woman uh\n",
              "8700      390  ...   uh i don't know probably try a little harder ...\n",
              "8701      390  ...   oh um getting out of town um going going away...\n",
              "8702      390  ...   um well my daughter's a great source of pride...\n",
              "\n",
              "[8703 rows x 3 columns]"
            ]
          },
          "metadata": {
            "tags": []
          },
          "execution_count": 17
        }
      ]
    },
    {
      "cell_type": "code",
      "metadata": {
        "id": "UFqbuzZFJvO0",
        "colab_type": "code",
        "colab": {
          "base_uri": "https://localhost:8080/",
          "height": 555
        },
        "outputId": "5ce6c60e-8e46-4987-e908-4905c6228b7c"
      },
      "source": [
        "rslt_df['statements'] = rslt_df[['question', 'answer']].agg(':'.join, axis=1)\n",
        "rslt_df"
      ],
      "execution_count": null,
      "outputs": [
        {
          "output_type": "stream",
          "text": [
            "/usr/local/lib/python3.6/dist-packages/ipykernel_launcher.py:1: SettingWithCopyWarning:\n",
            "\n",
            "\n",
            "A value is trying to be set on a copy of a slice from a DataFrame.\n",
            "Try using .loc[row_indexer,col_indexer] = value instead\n",
            "\n",
            "See the caveats in the documentation: https://pandas.pydata.org/pandas-docs/stable/user_guide/indexing.html#returning-a-view-versus-a-copy\n",
            "\n"
          ],
          "name": "stderr"
        },
        {
          "output_type": "execute_result",
          "data": {
            "text/html": [
              "<div>\n",
              "<style scoped>\n",
              "    .dataframe tbody tr th:only-of-type {\n",
              "        vertical-align: middle;\n",
              "    }\n",
              "\n",
              "    .dataframe tbody tr th {\n",
              "        vertical-align: top;\n",
              "    }\n",
              "\n",
              "    .dataframe thead th {\n",
              "        text-align: right;\n",
              "    }\n",
              "</style>\n",
              "<table border=\"1\" class=\"dataframe\">\n",
              "  <thead>\n",
              "    <tr style=\"text-align: right;\">\n",
              "      <th></th>\n",
              "      <th>personId</th>\n",
              "      <th>question</th>\n",
              "      <th>answer</th>\n",
              "      <th>statements</th>\n",
              "    </tr>\n",
              "  </thead>\n",
              "  <tbody>\n",
              "    <tr>\n",
              "      <th>0</th>\n",
              "      <td>300</td>\n",
              "      <td>how are you doing today?</td>\n",
              "      <td>good</td>\n",
              "      <td>how are you doing today?: good</td>\n",
              "    </tr>\n",
              "    <tr>\n",
              "      <th>1</th>\n",
              "      <td>300</td>\n",
              "      <td>where are you from originally?</td>\n",
              "      <td>atlanta georgia</td>\n",
              "      <td>where are you from originally?: atlanta georgia</td>\n",
              "    </tr>\n",
              "    <tr>\n",
              "      <th>2</th>\n",
              "      <td>300</td>\n",
              "      <td>why'd you move to l_a?</td>\n",
              "      <td>um my parents are from here um</td>\n",
              "      <td>why'd you move to l_a?: um my parents are from...</td>\n",
              "    </tr>\n",
              "    <tr>\n",
              "      <th>3</th>\n",
              "      <td>300</td>\n",
              "      <td>how do you like l_a?</td>\n",
              "      <td>i love it</td>\n",
              "      <td>how do you like l_a?: i love it</td>\n",
              "    </tr>\n",
              "    <tr>\n",
              "      <th>4</th>\n",
              "      <td>300</td>\n",
              "      <td>what are some things you really like about l_a?</td>\n",
              "      <td>i like the weather i like the opportunities u...</td>\n",
              "      <td>what are some things you really like about l_a...</td>\n",
              "    </tr>\n",
              "    <tr>\n",
              "      <th>...</th>\n",
              "      <td>...</td>\n",
              "      <td>...</td>\n",
              "      <td>...</td>\n",
              "      <td>...</td>\n",
              "    </tr>\n",
              "    <tr>\n",
              "      <th>8698</th>\n",
              "      <td>390</td>\n",
              "      <td>that's so good to hear?</td>\n",
              "      <td>mm</td>\n",
              "      <td>that's so good to hear?: mm</td>\n",
              "    </tr>\n",
              "    <tr>\n",
              "      <th>8699</th>\n",
              "      <td>390</td>\n",
              "      <td>is there anything you regret?</td>\n",
              "      <td>um hm no um except meeting that one woman uh</td>\n",
              "      <td>is there anything you regret?: um hm no um exc...</td>\n",
              "    </tr>\n",
              "    <tr>\n",
              "      <th>8700</th>\n",
              "      <td>390</td>\n",
              "      <td>what advice would you give to yourself ten or ...</td>\n",
              "      <td>uh i don't know probably try a little harder ...</td>\n",
              "      <td>what advice would you give to yourself ten or ...</td>\n",
              "    </tr>\n",
              "    <tr>\n",
              "      <th>8701</th>\n",
              "      <td>390</td>\n",
              "      <td>tell me how you spend your ideal weekend?</td>\n",
              "      <td>oh um getting out of town um going going away...</td>\n",
              "      <td>tell me how you spend your ideal weekend?: oh ...</td>\n",
              "    </tr>\n",
              "    <tr>\n",
              "      <th>8702</th>\n",
              "      <td>390</td>\n",
              "      <td>what are you most proud of in your life?</td>\n",
              "      <td>um well my daughter's a great source of pride...</td>\n",
              "      <td>what are you most proud of in your life?: um w...</td>\n",
              "    </tr>\n",
              "  </tbody>\n",
              "</table>\n",
              "<p>8703 rows × 4 columns</p>\n",
              "</div>"
            ],
            "text/plain": [
              "     personId  ...                                         statements\n",
              "0         300  ...                     how are you doing today?: good\n",
              "1         300  ...    where are you from originally?: atlanta georgia\n",
              "2         300  ...  why'd you move to l_a?: um my parents are from...\n",
              "3         300  ...                    how do you like l_a?: i love it\n",
              "4         300  ...  what are some things you really like about l_a...\n",
              "...       ...  ...                                                ...\n",
              "8698      390  ...                        that's so good to hear?: mm\n",
              "8699      390  ...  is there anything you regret?: um hm no um exc...\n",
              "8700      390  ...  what advice would you give to yourself ten or ...\n",
              "8701      390  ...  tell me how you spend your ideal weekend?: oh ...\n",
              "8702      390  ...  what are you most proud of in your life?: um w...\n",
              "\n",
              "[8703 rows x 4 columns]"
            ]
          },
          "metadata": {
            "tags": []
          },
          "execution_count": 18
        }
      ]
    },
    {
      "cell_type": "code",
      "metadata": {
        "id": "ljfVZTEhuvhp",
        "colab_type": "code",
        "colab": {}
      },
      "source": [
        "#WINDOWS_SIZE = 10\n",
        "labels=['none','mild','moderate','moderately severe', 'severe']\n",
        "num_classes = len(labels)"
      ],
      "execution_count": null,
      "outputs": []
    },
    {
      "cell_type": "code",
      "metadata": {
        "id": "WmPTfglFJ1MY",
        "colab_type": "code",
        "colab": {}
      },
      "source": [
        "def load_avec_dataset_file(path,score_column):\n",
        "    ds = pd.read_csv(path, sep=',')\n",
        "    ds['level'] = pd.cut(ds[score_column], bins=[-1,0,5,10,15,25], labels=[0,1,2,3,4])  #cut function used to segregate array into bins 5 levels - 'none','mild','moderate','moderately severe', 'severe'\n",
        "    ds['PHQ8_Score'] = ds[score_column]\n",
        "    ds['cat_level'] = keras.utils.to_categorical(ds['level'], num_classes).tolist() #categorical levels \n",
        "    ds = ds[['Participant_ID', 'level', 'cat_level', 'PHQ8_Score']]\n",
        "    ds = ds.astype({\"Participant_ID\": int, \"level\": int, 'PHQ8_Score': int})\n",
        "    return ds"
      ],
      "execution_count": null,
      "outputs": []
    },
    {
      "cell_type": "code",
      "metadata": {
        "id": "RkNj4M3EKj9C",
        "colab_type": "code",
        "colab": {
          "base_uri": "https://localhost:8080/",
          "height": 221
        },
        "outputId": "0902cfb7-b198-4e40-8d52-04dc060d5f79"
      },
      "source": [
        "train = load_avec_dataset_file('/content/drive/My Drive/Depression_detect/train_split_Depression_AVEC2017 (1).csv','PHQ8_Score')\n",
        "dev = load_avec_dataset_file('/content/drive/My Drive/Depression_detect/dev_split_Depression_AVEC2017.csv','PHQ8_Score')\n",
        "test = load_avec_dataset_file('/content/drive/My Drive/Depression_detect/full_test_split.csv','PHQ8_Score')\n",
        "print(\"Size: train= {}, dev= {}, test= {}\".format(len(train), len(dev), len(test)))\n",
        "train.head()"
      ],
      "execution_count": null,
      "outputs": [
        {
          "output_type": "stream",
          "text": [
            "Size: train= 107, dev= 35, test= 47\n"
          ],
          "name": "stdout"
        },
        {
          "output_type": "execute_result",
          "data": {
            "text/html": [
              "<div>\n",
              "<style scoped>\n",
              "    .dataframe tbody tr th:only-of-type {\n",
              "        vertical-align: middle;\n",
              "    }\n",
              "\n",
              "    .dataframe tbody tr th {\n",
              "        vertical-align: top;\n",
              "    }\n",
              "\n",
              "    .dataframe thead th {\n",
              "        text-align: right;\n",
              "    }\n",
              "</style>\n",
              "<table border=\"1\" class=\"dataframe\">\n",
              "  <thead>\n",
              "    <tr style=\"text-align: right;\">\n",
              "      <th></th>\n",
              "      <th>Participant_ID</th>\n",
              "      <th>level</th>\n",
              "      <th>cat_level</th>\n",
              "      <th>PHQ8_Score</th>\n",
              "    </tr>\n",
              "  </thead>\n",
              "  <tbody>\n",
              "    <tr>\n",
              "      <th>0</th>\n",
              "      <td>303</td>\n",
              "      <td>0</td>\n",
              "      <td>[1.0, 0.0, 0.0, 0.0, 0.0]</td>\n",
              "      <td>0</td>\n",
              "    </tr>\n",
              "    <tr>\n",
              "      <th>1</th>\n",
              "      <td>304</td>\n",
              "      <td>2</td>\n",
              "      <td>[0.0, 0.0, 1.0, 0.0, 0.0]</td>\n",
              "      <td>6</td>\n",
              "    </tr>\n",
              "    <tr>\n",
              "      <th>2</th>\n",
              "      <td>305</td>\n",
              "      <td>2</td>\n",
              "      <td>[0.0, 0.0, 1.0, 0.0, 0.0]</td>\n",
              "      <td>7</td>\n",
              "    </tr>\n",
              "    <tr>\n",
              "      <th>3</th>\n",
              "      <td>310</td>\n",
              "      <td>1</td>\n",
              "      <td>[0.0, 1.0, 0.0, 0.0, 0.0]</td>\n",
              "      <td>4</td>\n",
              "    </tr>\n",
              "    <tr>\n",
              "      <th>4</th>\n",
              "      <td>312</td>\n",
              "      <td>1</td>\n",
              "      <td>[0.0, 1.0, 0.0, 0.0, 0.0]</td>\n",
              "      <td>2</td>\n",
              "    </tr>\n",
              "  </tbody>\n",
              "</table>\n",
              "</div>"
            ],
            "text/plain": [
              "   Participant_ID  level                  cat_level  PHQ8_Score\n",
              "0             303      0  [1.0, 0.0, 0.0, 0.0, 0.0]           0\n",
              "1             304      2  [0.0, 0.0, 1.0, 0.0, 0.0]           6\n",
              "2             305      2  [0.0, 0.0, 1.0, 0.0, 0.0]           7\n",
              "3             310      1  [0.0, 1.0, 0.0, 0.0, 0.0]           4\n",
              "4             312      1  [0.0, 1.0, 0.0, 0.0, 0.0]           2"
            ]
          },
          "metadata": {
            "tags": []
          },
          "execution_count": 21
        }
      ]
    },
    {
      "cell_type": "code",
      "metadata": {
        "id": "iIAUbmvYKmcj",
        "colab_type": "code",
        "colab": {
          "base_uri": "https://localhost:8080/",
          "height": 34
        },
        "outputId": "bfce9a7f-311b-42a9-e5c7-d66169a20b2a"
      },
      "source": [
        "ds_total = pd.concat([train,dev,test],sort=True)\n",
        "total_phq8 = len(ds_total)\n",
        "print(\"Total size = {}\".format(total_phq8))"
      ],
      "execution_count": null,
      "outputs": [
        {
          "output_type": "stream",
          "text": [
            "Total size = 189\n"
          ],
          "name": "stdout"
        }
      ]
    },
    {
      "cell_type": "code",
      "metadata": {
        "id": "MOwjI6DdKq9V",
        "colab_type": "code",
        "colab": {
          "base_uri": "https://localhost:8080/",
          "height": 419
        },
        "outputId": "e9a6f206-3d54-496d-92d0-88fa5fe76a22"
      },
      "source": [
        "ds_total"
      ],
      "execution_count": null,
      "outputs": [
        {
          "output_type": "execute_result",
          "data": {
            "text/html": [
              "<div>\n",
              "<style scoped>\n",
              "    .dataframe tbody tr th:only-of-type {\n",
              "        vertical-align: middle;\n",
              "    }\n",
              "\n",
              "    .dataframe tbody tr th {\n",
              "        vertical-align: top;\n",
              "    }\n",
              "\n",
              "    .dataframe thead th {\n",
              "        text-align: right;\n",
              "    }\n",
              "</style>\n",
              "<table border=\"1\" class=\"dataframe\">\n",
              "  <thead>\n",
              "    <tr style=\"text-align: right;\">\n",
              "      <th></th>\n",
              "      <th>PHQ8_Score</th>\n",
              "      <th>Participant_ID</th>\n",
              "      <th>cat_level</th>\n",
              "      <th>level</th>\n",
              "    </tr>\n",
              "  </thead>\n",
              "  <tbody>\n",
              "    <tr>\n",
              "      <th>0</th>\n",
              "      <td>0</td>\n",
              "      <td>303</td>\n",
              "      <td>[1.0, 0.0, 0.0, 0.0, 0.0]</td>\n",
              "      <td>0</td>\n",
              "    </tr>\n",
              "    <tr>\n",
              "      <th>1</th>\n",
              "      <td>6</td>\n",
              "      <td>304</td>\n",
              "      <td>[0.0, 0.0, 1.0, 0.0, 0.0]</td>\n",
              "      <td>2</td>\n",
              "    </tr>\n",
              "    <tr>\n",
              "      <th>2</th>\n",
              "      <td>7</td>\n",
              "      <td>305</td>\n",
              "      <td>[0.0, 0.0, 1.0, 0.0, 0.0]</td>\n",
              "      <td>2</td>\n",
              "    </tr>\n",
              "    <tr>\n",
              "      <th>3</th>\n",
              "      <td>4</td>\n",
              "      <td>310</td>\n",
              "      <td>[0.0, 1.0, 0.0, 0.0, 0.0]</td>\n",
              "      <td>1</td>\n",
              "    </tr>\n",
              "    <tr>\n",
              "      <th>4</th>\n",
              "      <td>2</td>\n",
              "      <td>312</td>\n",
              "      <td>[0.0, 1.0, 0.0, 0.0, 0.0]</td>\n",
              "      <td>1</td>\n",
              "    </tr>\n",
              "    <tr>\n",
              "      <th>...</th>\n",
              "      <td>...</td>\n",
              "      <td>...</td>\n",
              "      <td>...</td>\n",
              "      <td>...</td>\n",
              "    </tr>\n",
              "    <tr>\n",
              "      <th>42</th>\n",
              "      <td>0</td>\n",
              "      <td>467</td>\n",
              "      <td>[1.0, 0.0, 0.0, 0.0, 0.0]</td>\n",
              "      <td>0</td>\n",
              "    </tr>\n",
              "    <tr>\n",
              "      <th>43</th>\n",
              "      <td>3</td>\n",
              "      <td>469</td>\n",
              "      <td>[0.0, 1.0, 0.0, 0.0, 0.0]</td>\n",
              "      <td>1</td>\n",
              "    </tr>\n",
              "    <tr>\n",
              "      <th>44</th>\n",
              "      <td>3</td>\n",
              "      <td>470</td>\n",
              "      <td>[0.0, 1.0, 0.0, 0.0, 0.0]</td>\n",
              "      <td>1</td>\n",
              "    </tr>\n",
              "    <tr>\n",
              "      <th>45</th>\n",
              "      <td>1</td>\n",
              "      <td>480</td>\n",
              "      <td>[0.0, 1.0, 0.0, 0.0, 0.0]</td>\n",
              "      <td>1</td>\n",
              "    </tr>\n",
              "    <tr>\n",
              "      <th>46</th>\n",
              "      <td>7</td>\n",
              "      <td>481</td>\n",
              "      <td>[0.0, 0.0, 1.0, 0.0, 0.0]</td>\n",
              "      <td>2</td>\n",
              "    </tr>\n",
              "  </tbody>\n",
              "</table>\n",
              "<p>189 rows × 4 columns</p>\n",
              "</div>"
            ],
            "text/plain": [
              "    PHQ8_Score  Participant_ID                  cat_level  level\n",
              "0            0             303  [1.0, 0.0, 0.0, 0.0, 0.0]      0\n",
              "1            6             304  [0.0, 0.0, 1.0, 0.0, 0.0]      2\n",
              "2            7             305  [0.0, 0.0, 1.0, 0.0, 0.0]      2\n",
              "3            4             310  [0.0, 1.0, 0.0, 0.0, 0.0]      1\n",
              "4            2             312  [0.0, 1.0, 0.0, 0.0, 0.0]      1\n",
              "..         ...             ...                        ...    ...\n",
              "42           0             467  [1.0, 0.0, 0.0, 0.0, 0.0]      0\n",
              "43           3             469  [0.0, 1.0, 0.0, 0.0, 0.0]      1\n",
              "44           3             470  [0.0, 1.0, 0.0, 0.0, 0.0]      1\n",
              "45           1             480  [0.0, 1.0, 0.0, 0.0, 0.0]      1\n",
              "46           7             481  [0.0, 0.0, 1.0, 0.0, 0.0]      2\n",
              "\n",
              "[189 rows x 4 columns]"
            ]
          },
          "metadata": {
            "tags": []
          },
          "execution_count": 23
        }
      ]
    },
    {
      "cell_type": "code",
      "metadata": {
        "id": "ydlgqs6yKtvl",
        "colab_type": "code",
        "colab": {}
      },
      "source": [
        "def split_by_phq_level(ds):\n",
        "    none_ds = ds[ds['level']==0]\n",
        "    mild_ds = ds[ds['level']==1]\n",
        "    moderate_ds = ds[ds['level']==2]\n",
        "    moderate_severe_ds = ds[ds['level']==3]\n",
        "    severe_ds = ds[ds['level']==4]\n",
        "    return (none_ds, mild_ds, moderate_ds, moderate_severe_ds, severe_ds)"
      ],
      "execution_count": null,
      "outputs": []
    },
    {
      "cell_type": "code",
      "metadata": {
        "id": "4yQQTOcfLn65",
        "colab_type": "code",
        "colab": {
          "base_uri": "https://localhost:8080/",
          "height": 34
        },
        "outputId": "2a2ecc95-23c0-414f-cc1d-0d58d3ba0d1c"
      },
      "source": [
        "none_ds, mild_ds, moderate_ds, moderate_severe_ds, severe_ds = split_by_phq_level(ds_total)\n",
        "print(\"Quantity per none_ds: {}, mild_ds: {}, moderate_ds {}, moderate_severe_ds: {}, severe_ds {}\".format(len(none_ds), len(mild_ds), len(moderate_ds), len(moderate_severe_ds), len(severe_ds)))"
      ],
      "execution_count": null,
      "outputs": [
        {
          "output_type": "stream",
          "text": [
            "Quantity per none_ds: 26, mild_ds: 70, moderate_ds 47, moderate_severe_ds: 24, severe_ds 22\n"
          ],
          "name": "stdout"
        }
      ]
    },
    {
      "cell_type": "code",
      "metadata": {
        "id": "PFZi2W1kjBQv",
        "colab_type": "code",
        "colab": {}
      },
      "source": [
        "b_none_ds = ds_total[ds_total['level']==0]\n",
        "b_mild_ds = ds_total[ds_total['level']==1].sample(26)\n",
        "b_moderate_ds = ds_total[ds_total['level']==2].sample(26)\n",
        "b_moderate_severe_ds = ds_total[ds_total['level']==3]\n",
        "b_severe_ds = ds_total[ds_total['level']==4]\n",
        "\n",
        "ds_total_b = pd.concat([b_none_ds, b_mild_ds, b_moderate_ds, b_moderate_severe_ds, b_severe_ds])"
      ],
      "execution_count": null,
      "outputs": []
    },
    {
      "cell_type": "code",
      "metadata": {
        "id": "bUcnGHyFL0Y_",
        "colab_type": "code",
        "colab": {
          "base_uri": "https://localhost:8080/",
          "height": 34
        },
        "outputId": "36dae620-a629-4fb8-defe-ad6fe31db681"
      },
      "source": [
        "ds_lp = ds_total.merge(rslt_df,left_on=ds_total.Participant_ID.astype(int), right_on=rslt_df.personId.astype(int))\n",
        "len(ds_lp)\n"
      ],
      "execution_count": null,
      "outputs": [
        {
          "output_type": "execute_result",
          "data": {
            "text/plain": [
              "8703"
            ]
          },
          "metadata": {
            "tags": []
          },
          "execution_count": 27
        }
      ]
    },
    {
      "cell_type": "code",
      "metadata": {
        "id": "3cPhI5btL9OC",
        "colab_type": "code",
        "colab": {}
      },
      "source": [
        "def distribute_instances(ds, split_in = [70,14,16]):\n",
        "    ds_shuffled = ds.sample(frac=1)\n",
        "    none_ds, mild_ds, moderate_ds, moderate_severe_ds, severe_ds = split_by_phq_level(ds_shuffled)\n",
        "    eq_ds = dict()\n",
        "    prev_none = prev_mild = prev_moderate = prev_moderate_severe = prev_severe = 0\n",
        "    split = split_in\n",
        "    for p in split:\n",
        "        last_none = min(len(none_ds), prev_none + round(len(none_ds) * p/100))\n",
        "        last_mild = min(len(mild_ds), prev_mild + round(len(mild_ds) * p/100))\n",
        "        last_moderate = min(len(moderate_ds), prev_moderate + round(len(moderate_ds) * p/100))\n",
        "        last_moderate_severe = min(len(moderate_severe_ds), prev_moderate_severe + round(len(moderate_severe_ds) * p/100))\n",
        "        last_severe = min(len(severe_ds), prev_severe + round(len(severe_ds) * p/100))  \n",
        "        eq_ds['d'+str(p)] = pd.concat([none_ds[prev_none: last_none], mild_ds[prev_mild: last_mild], moderate_ds[prev_moderate: last_moderate], moderate_severe_ds[prev_moderate_severe: last_moderate_severe], severe_ds[prev_severe: last_severe]])\n",
        "        prev_none = last_none\n",
        "        prev_mild = last_mild\n",
        "        prev_moderate = last_moderate\n",
        "        prev_moderate_severe = last_moderate_severe\n",
        "        prev_severe = last_severe  \n",
        "    return (eq_ds['d70'], eq_ds['d14'], eq_ds['d16'])"
      ],
      "execution_count": null,
      "outputs": []
    },
    {
      "cell_type": "code",
      "metadata": {
        "id": "7S6ub_saMBFM",
        "colab_type": "code",
        "colab": {}
      },
      "source": [
        "train_lp, dev_lp, test_lp = distribute_instances(ds_lp)\n"
      ],
      "execution_count": null,
      "outputs": []
    },
    {
      "cell_type": "code",
      "metadata": {
        "id": "yZFozFxTMF2N",
        "colab_type": "code",
        "colab": {
          "base_uri": "https://localhost:8080/",
          "height": 34
        },
        "outputId": "cb36d962-73d5-46e5-d982-a401dd51c291"
      },
      "source": [
        "len(train_lp)"
      ],
      "execution_count": null,
      "outputs": [
        {
          "output_type": "execute_result",
          "data": {
            "text/plain": [
              "6093"
            ]
          },
          "metadata": {
            "tags": []
          },
          "execution_count": 30
        }
      ]
    },
    {
      "cell_type": "code",
      "metadata": {
        "id": "_gRcTMzSnCDx",
        "colab_type": "code",
        "colab": {}
      },
      "source": [
        "df = pd.concat([ds_lp['level'], ds_lp['statements']], axis=1)\n"
      ],
      "execution_count": null,
      "outputs": []
    },
    {
      "cell_type": "code",
      "metadata": {
        "id": "BYjR_lnUMIW7",
        "colab_type": "code",
        "colab": {}
      },
      "source": [
        "train = pd.concat([train_lp['level'], train_lp['statements']], axis=1)\n"
      ],
      "execution_count": null,
      "outputs": []
    },
    {
      "cell_type": "code",
      "metadata": {
        "id": "nVymTbbwusRD",
        "colab_type": "code",
        "colab": {
          "base_uri": "https://localhost:8080/",
          "height": 419
        },
        "outputId": "d0c3c2ee-41f9-48e6-b422-be56df29d485"
      },
      "source": [
        "train"
      ],
      "execution_count": null,
      "outputs": [
        {
          "output_type": "execute_result",
          "data": {
            "text/html": [
              "<div>\n",
              "<style scoped>\n",
              "    .dataframe tbody tr th:only-of-type {\n",
              "        vertical-align: middle;\n",
              "    }\n",
              "\n",
              "    .dataframe tbody tr th {\n",
              "        vertical-align: top;\n",
              "    }\n",
              "\n",
              "    .dataframe thead th {\n",
              "        text-align: right;\n",
              "    }\n",
              "</style>\n",
              "<table border=\"1\" class=\"dataframe\">\n",
              "  <thead>\n",
              "    <tr style=\"text-align: right;\">\n",
              "      <th></th>\n",
              "      <th>level</th>\n",
              "      <th>statements</th>\n",
              "    </tr>\n",
              "  </thead>\n",
              "  <tbody>\n",
              "    <tr>\n",
              "      <th>6021</th>\n",
              "      <td>0</td>\n",
              "      <td>what do you enjoy about traveling?: uh just uh...</td>\n",
              "    </tr>\n",
              "    <tr>\n",
              "      <th>4943</th>\n",
              "      <td>0</td>\n",
              "      <td>can you tell me about that?: well my mother ha...</td>\n",
              "    </tr>\n",
              "    <tr>\n",
              "      <th>3494</th>\n",
              "      <td>0</td>\n",
              "      <td>what are some things you don't really like abo...</td>\n",
              "    </tr>\n",
              "    <tr>\n",
              "      <th>5425</th>\n",
              "      <td>0</td>\n",
              "      <td>what's something you feel guilty about?: not d...</td>\n",
              "    </tr>\n",
              "    <tr>\n",
              "      <th>3344</th>\n",
              "      <td>0</td>\n",
              "      <td>what are some things you wish you could change...</td>\n",
              "    </tr>\n",
              "    <tr>\n",
              "      <th>...</th>\n",
              "      <td>...</td>\n",
              "      <td>...</td>\n",
              "    </tr>\n",
              "    <tr>\n",
              "      <th>4368</th>\n",
              "      <td>4</td>\n",
              "      <td>why?: um i either have to have no sleep the ni...</td>\n",
              "    </tr>\n",
              "    <tr>\n",
              "      <th>6795</th>\n",
              "      <td>4</td>\n",
              "      <td>what's it like for you living with them?: um w...</td>\n",
              "    </tr>\n",
              "    <tr>\n",
              "      <th>5287</th>\n",
              "      <td>4</td>\n",
              "      <td>when was the last time you argued with someone...</td>\n",
              "    </tr>\n",
              "    <tr>\n",
              "      <th>5487</th>\n",
              "      <td>4</td>\n",
              "      <td>tell me more about that?: i don't know i just ...</td>\n",
              "    </tr>\n",
              "    <tr>\n",
              "      <th>8335</th>\n",
              "      <td>4</td>\n",
              "      <td>what's the hardest thing about being a parent?...</td>\n",
              "    </tr>\n",
              "  </tbody>\n",
              "</table>\n",
              "<p>6093 rows × 2 columns</p>\n",
              "</div>"
            ],
            "text/plain": [
              "      level                                         statements\n",
              "6021      0  what do you enjoy about traveling?: uh just uh...\n",
              "4943      0  can you tell me about that?: well my mother ha...\n",
              "3494      0  what are some things you don't really like abo...\n",
              "5425      0  what's something you feel guilty about?: not d...\n",
              "3344      0  what are some things you wish you could change...\n",
              "...     ...                                                ...\n",
              "4368      4  why?: um i either have to have no sleep the ni...\n",
              "6795      4  what's it like for you living with them?: um w...\n",
              "5287      4  when was the last time you argued with someone...\n",
              "5487      4  tell me more about that?: i don't know i just ...\n",
              "8335      4  what's the hardest thing about being a parent?...\n",
              "\n",
              "[6093 rows x 2 columns]"
            ]
          },
          "metadata": {
            "tags": []
          },
          "execution_count": 33
        }
      ]
    },
    {
      "cell_type": "code",
      "metadata": {
        "id": "jBhwInIe7nxS",
        "colab_type": "code",
        "colab": {}
      },
      "source": [
        "dev = pd.concat([dev_lp['level'], dev_lp['statements']], axis=1)\n"
      ],
      "execution_count": null,
      "outputs": []
    },
    {
      "cell_type": "code",
      "metadata": {
        "id": "K9I5oJvZ7n6o",
        "colab_type": "code",
        "colab": {}
      },
      "source": [
        "test= pd.concat([test_lp['level'], test_lp['statements']], axis=1)\n"
      ],
      "execution_count": null,
      "outputs": []
    },
    {
      "cell_type": "code",
      "metadata": {
        "id": "F5qr-kVtbyBJ",
        "colab_type": "code",
        "colab": {
          "base_uri": "https://localhost:8080/",
          "height": 419
        },
        "outputId": "d1c5cacc-ea79-4cf8-ec49-7c11d0b10fd3"
      },
      "source": [
        "mapping = {\n",
        "  0: 'none',\n",
        "  1: 'mild',\n",
        "  2: 'moderate',\n",
        "  3: 'moderately severe',\n",
        "  4: 'severe',\n",
        "}\n",
        "df['level'] = df['level'].map(mapping)\n",
        "train['level'] = train['level'].map(mapping)\n",
        "dev['level'] = dev['level'].map(mapping)\n",
        "test['level'] = test['level'].map(mapping)\n",
        "df\n"
      ],
      "execution_count": null,
      "outputs": [
        {
          "output_type": "execute_result",
          "data": {
            "text/html": [
              "<div>\n",
              "<style scoped>\n",
              "    .dataframe tbody tr th:only-of-type {\n",
              "        vertical-align: middle;\n",
              "    }\n",
              "\n",
              "    .dataframe tbody tr th {\n",
              "        vertical-align: top;\n",
              "    }\n",
              "\n",
              "    .dataframe thead th {\n",
              "        text-align: right;\n",
              "    }\n",
              "</style>\n",
              "<table border=\"1\" class=\"dataframe\">\n",
              "  <thead>\n",
              "    <tr style=\"text-align: right;\">\n",
              "      <th></th>\n",
              "      <th>level</th>\n",
              "      <th>statements</th>\n",
              "    </tr>\n",
              "  </thead>\n",
              "  <tbody>\n",
              "    <tr>\n",
              "      <th>0</th>\n",
              "      <td>none</td>\n",
              "      <td>how are you doing today?: okay how 'bout yourself</td>\n",
              "    </tr>\n",
              "    <tr>\n",
              "      <th>1</th>\n",
              "      <td>none</td>\n",
              "      <td>where are you from originally?: here in califo...</td>\n",
              "    </tr>\n",
              "    <tr>\n",
              "      <th>2</th>\n",
              "      <td>none</td>\n",
              "      <td>what are some things you really like about l_a...</td>\n",
              "    </tr>\n",
              "    <tr>\n",
              "      <th>3</th>\n",
              "      <td>none</td>\n",
              "      <td>what are some things you don't really like abo...</td>\n",
              "    </tr>\n",
              "    <tr>\n",
              "      <th>4</th>\n",
              "      <td>none</td>\n",
              "      <td>what'd you study at school?: sociology i have ...</td>\n",
              "    </tr>\n",
              "    <tr>\n",
              "      <th>...</th>\n",
              "      <td>...</td>\n",
              "      <td>...</td>\n",
              "    </tr>\n",
              "    <tr>\n",
              "      <th>8698</th>\n",
              "      <td>moderate</td>\n",
              "      <td>tell me about the last time you felt really ha...</td>\n",
              "    </tr>\n",
              "    <tr>\n",
              "      <th>8699</th>\n",
              "      <td>moderate</td>\n",
              "      <td>how would your best friend describe you?: um v...</td>\n",
              "    </tr>\n",
              "    <tr>\n",
              "      <th>8700</th>\n",
              "      <td>moderate</td>\n",
              "      <td>what are some things you wish you could change...</td>\n",
              "    </tr>\n",
              "    <tr>\n",
              "      <th>8701</th>\n",
              "      <td>moderate</td>\n",
              "      <td>what advice would you give to yourself ten or ...</td>\n",
              "    </tr>\n",
              "    <tr>\n",
              "      <th>8702</th>\n",
              "      <td>moderate</td>\n",
              "      <td>what are you most proud of in your life?: my m...</td>\n",
              "    </tr>\n",
              "  </tbody>\n",
              "</table>\n",
              "<p>8703 rows × 2 columns</p>\n",
              "</div>"
            ],
            "text/plain": [
              "         level                                         statements\n",
              "0         none  how are you doing today?: okay how 'bout yourself\n",
              "1         none  where are you from originally?: here in califo...\n",
              "2         none  what are some things you really like about l_a...\n",
              "3         none  what are some things you don't really like abo...\n",
              "4         none  what'd you study at school?: sociology i have ...\n",
              "...        ...                                                ...\n",
              "8698  moderate  tell me about the last time you felt really ha...\n",
              "8699  moderate  how would your best friend describe you?: um v...\n",
              "8700  moderate  what are some things you wish you could change...\n",
              "8701  moderate  what advice would you give to yourself ten or ...\n",
              "8702  moderate  what are you most proud of in your life?: my m...\n",
              "\n",
              "[8703 rows x 2 columns]"
            ]
          },
          "metadata": {
            "tags": []
          },
          "execution_count": 36
        }
      ]
    },
    {
      "cell_type": "code",
      "metadata": {
        "id": "SC894GAkc2_4",
        "colab_type": "code",
        "colab": {}
      },
      "source": [
        "df.to_csv('/content/drive/My Drive/data_df.csv')\n",
        "PATH = '/content/drive/My Drive'"
      ],
      "execution_count": null,
      "outputs": []
    },
    {
      "cell_type": "markdown",
      "metadata": {
        "id": "WR-JzZ9D3yRx",
        "colab_type": "text"
      },
      "source": [
        "### The TextLMDataBunch [source] class returns a \"Databunch\" type of object that is a custom object defined in fastai.text's API. (We first create a general language model with the unlabelled data, which we will later fit into the WikiText 103 language model)"
      ]
    },
    {
      "cell_type": "code",
      "metadata": {
        "id": "U0LhQFqzSuNw",
        "colab_type": "code",
        "colab": {
          "base_uri": "https://localhost:8080/",
          "height": 17
        },
        "outputId": "59eb3ea0-f365-4061-a56c-d991bf251287"
      },
      "source": [
        "# Language model data\n",
        "data_lm = TextLMDataBunch.from_df(path=\"\",train_df=train,valid_df=dev,min_freq=1)\n",
        "#In a first step we create data loaders for the training and validation data sets. These data loaders can be described as iterators that loop through mini-batches.\n",
        "#data_lm is a PYtorch learner object\n",
        "# The Learner object is the entry point of most of the Callback objects that will customize this training loop in different ways\n",
        "#Note that in this case, we specify a minimum word frequency of 1 (i.e. words that appear just once in the data are given the tag <unk> during tokenization."
      ],
      "execution_count": null,
      "outputs": [
        {
          "output_type": "display_data",
          "data": {
            "text/html": [
              ""
            ],
            "text/plain": [
              "<IPython.core.display.HTML object>"
            ]
          },
          "metadata": {
            "tags": []
          }
        },
        {
          "output_type": "display_data",
          "data": {
            "text/html": [
              ""
            ],
            "text/plain": [
              "<IPython.core.display.HTML object>"
            ]
          },
          "metadata": {
            "tags": []
          }
        }
      ]
    },
    {
      "cell_type": "code",
      "metadata": {
        "id": "f1gINFlXiZNL",
        "colab_type": "code",
        "colab": {
          "base_uri": "https://localhost:8080/",
          "height": 289
        },
        "outputId": "85cec850-26b1-4727-9788-78012b4c6163"
      },
      "source": [
        "data_lm.show_batch()"
      ],
      "execution_count": null,
      "outputs": [
        {
          "output_type": "display_data",
          "data": {
            "text/html": [
              "<table border=\"1\" class=\"dataframe\">\n",
              "  <thead>\n",
              "    <tr style=\"text-align: right;\">\n",
              "      <th>idx</th>\n",
              "      <th>text</th>\n",
              "    </tr>\n",
              "  </thead>\n",
              "  <tbody>\n",
              "    <tr>\n",
              "      <td>0</td>\n",
              "      <td>&gt; positive and proactive and have you know taught independent thinking and techniques to rise above some of the things that were occurring and just various friends that you know i would see handling situations sometimes more much more more difficult you know dealing with things so xxbos what are some things you do n't really like about l_a ? : nothing that 's where i live i i love</td>\n",
              "    </tr>\n",
              "    <tr>\n",
              "      <td>1</td>\n",
              "      <td>life and i feel like she you know she 's been through a lot so she understands a lot so eh you know she 's a very positive influence xxbos can you tell me about that ? : yes it was a relationship of seven years but um that person has already moved on so uh they want me to be in their life in hopes that if something goes</td>\n",
              "    </tr>\n",
              "    <tr>\n",
              "      <td>2</td>\n",
              "      <td>you know for short distances um and then you know it gets really hot in the summer at times so you know that eh i could stand it being a little &lt; lit &gt; slightly cooler when it gets to its peak peak heat but that 's fine xxbos so how are you doing today ? : doing good xxbos is there anything you regret ? : uh just my</td>\n",
              "    </tr>\n",
              "    <tr>\n",
              "      <td>3</td>\n",
              "      <td>some things you wish you could change about yourself ? : um i do n't think nothing everything 's fine you know thank god everything 's good right now i do n't think there 's nothing to change like that xxbos how have you been feeling lately ? : uh maybe unsure i would say xxbos sometimes when i 'm feeling tense i turn on the fish tank screensaver hey</td>\n",
              "    </tr>\n",
              "    <tr>\n",
              "      <td>4</td>\n",
              "      <td>i self sleep in any situation if i have a one hour flight to san francisco i could just kind of lean against the window with the pillow have the blanket over and even on an hour flight pass out before the plane has even taken off from the ground so i can just &lt; j &gt; i have literally when i 've had little sleep and i very uh</td>\n",
              "    </tr>\n",
              "  </tbody>\n",
              "</table>"
            ],
            "text/plain": [
              "<IPython.core.display.HTML object>"
            ]
          },
          "metadata": {
            "tags": []
          }
        }
      ]
    },
    {
      "cell_type": "code",
      "metadata": {
        "id": "HG8pPZvf31Dc",
        "colab_type": "code",
        "colab": {
          "base_uri": "https://localhost:8080/",
          "height": 527
        },
        "outputId": "0f9c0745-4ef7-4161-8967-ce01f6802d3e"
      },
      "source": [
        "data_lm.train_ds.vocab.itos[:30]"
      ],
      "execution_count": null,
      "outputs": [
        {
          "output_type": "execute_result",
          "data": {
            "text/plain": [
              "['xxunk',\n",
              " 'xxpad',\n",
              " 'xxbos',\n",
              " 'xxeos',\n",
              " 'xxfld',\n",
              " 'xxmaj',\n",
              " 'xxup',\n",
              " 'xxrep',\n",
              " 'xxwrep',\n",
              " 'i',\n",
              " 'you',\n",
              " 'to',\n",
              " 'and',\n",
              " '?',\n",
              " ':',\n",
              " 'a',\n",
              " 'that',\n",
              " 'um',\n",
              " 'it',\n",
              " 'the',\n",
              " \"'s\",\n",
              " 'do',\n",
              " 'uh',\n",
              " 'of',\n",
              " 'was',\n",
              " 'my',\n",
              " 'in',\n",
              " \"'m\",\n",
              " 'like',\n",
              " 'what']"
            ]
          },
          "metadata": {
            "tags": []
          },
          "execution_count": 40
        }
      ]
    },
    {
      "cell_type": "markdown",
      "metadata": {
        "id": "g1kvMhFnYoFh",
        "colab_type": "text"
      },
      "source": [
        "# Step 1: Fine Tuning the Language Model"
      ]
    },
    {
      "cell_type": "markdown",
      "metadata": {
        "id": "1_xMA01B4ut-",
        "colab_type": "text"
      },
      "source": [
        "## **Define learner object for language model finetuning**\n",
        "### We define a learner object that uses the tokenized language model data, that is organized into batches for the GPU, and feed it a pre-trained language model."
      ]
    },
    {
      "cell_type": "markdown",
      "metadata": {
        "id": "JpHKZ2RuY-Bc",
        "colab_type": "text"
      },
      "source": [
        "language_model_learner is used to load the pretrained model AWD_LSTM and initialize the model based on language model data data_lm."
      ]
    },
    {
      "cell_type": "code",
      "metadata": {
        "id": "DgOSm7yK4Jeh",
        "colab_type": "code",
        "colab": {}
      },
      "source": [
        "learn = language_model_learner(data_lm, AWD_LSTM, drop_mult=0.3)\n",
        "#the language model learner learns from the unlabelled data which has a dropout mulitplier of 30%"
      ],
      "execution_count": null,
      "outputs": []
    },
    {
      "cell_type": "markdown",
      "metadata": {
        "id": "_x44rYK84GXB",
        "colab_type": "text"
      },
      "source": [
        "### Testing the language model"
      ]
    },
    {
      "cell_type": "code",
      "metadata": {
        "id": "SlJRMWlM4M96",
        "colab_type": "code",
        "colab": {
          "base_uri": "https://localhost:8080/",
          "height": 102
        },
        "outputId": "8163c5ab-d718-4ae9-a50c-63f51aef4390"
      },
      "source": [
        "for i in range(5):\n",
        "  print(learn.predict(\"What are\", n_words=10))"
      ],
      "execution_count": null,
      "outputs": [
        {
          "output_type": "stream",
          "text": [
            "What are then borrowed from American sources is a list of\n",
            "What are seen during this period of American history today is\n",
            "What are finely used by modern pay - today is a :\n",
            "What are Girls on Paper won ? has been described\n",
            "What are still alive has been used as a direct setting in\n"
          ],
          "name": "stdout"
        }
      ]
    },
    {
      "cell_type": "markdown",
      "metadata": {
        "id": "W9yB9MHw5UHT",
        "colab_type": "text"
      },
      "source": [
        "## **Print the structure of the language model RNN**\n",
        "\n",
        "We can examine the architecture of the 3-layer LSTM used in ULMFit as shown below. For the language model fine-tuning, we define the embeddings based on the the target task vocabulary size. A single linear output layer is defined that updates the weights once we pass the input through the network."
      ]
    },
    {
      "cell_type": "code",
      "metadata": {
        "id": "HjD2grlj5Fjs",
        "colab_type": "code",
        "colab": {
          "base_uri": "https://localhost:8080/",
          "height": 459
        },
        "outputId": "e395586a-683f-4aa0-c607-de860a0f8ea3"
      },
      "source": [
        "list(learn.model.children())"
      ],
      "execution_count": null,
      "outputs": [
        {
          "output_type": "execute_result",
          "data": {
            "text/plain": [
              "[AWD_LSTM(\n",
              "   (encoder): Embedding(6640, 400, padding_idx=1)\n",
              "   (encoder_dp): EmbeddingDropout(\n",
              "     (emb): Embedding(6640, 400, padding_idx=1)\n",
              "   )\n",
              "   (rnns): ModuleList(\n",
              "     (0): WeightDropout(\n",
              "       (module): LSTM(400, 1152, batch_first=True)\n",
              "     )\n",
              "     (1): WeightDropout(\n",
              "       (module): LSTM(1152, 1152, batch_first=True)\n",
              "     )\n",
              "     (2): WeightDropout(\n",
              "       (module): LSTM(1152, 400, batch_first=True)\n",
              "     )\n",
              "   )\n",
              "   (input_dp): RNNDropout()\n",
              "   (hidden_dps): ModuleList(\n",
              "     (0): RNNDropout()\n",
              "     (1): RNNDropout()\n",
              "     (2): RNNDropout()\n",
              "   )\n",
              " ), LinearDecoder(\n",
              "   (decoder): Linear(in_features=400, out_features=6640, bias=True)\n",
              "   (output_dp): RNNDropout()\n",
              " )]"
            ]
          },
          "metadata": {
            "tags": []
          },
          "execution_count": 44
        }
      ]
    },
    {
      "cell_type": "code",
      "metadata": {
        "id": "S8c_a0kg5kX7",
        "colab_type": "code",
        "colab": {
          "base_uri": "https://localhost:8080/",
          "height": 439
        },
        "outputId": "baf34258-983e-4427-af47-cd75cd891278"
      },
      "source": [
        "learn.lr_find() #Learner.lr_find will launch an LR range test that will help you select a good learning rate.\n",
        "learn.recorder.plot(suggestion=True) #learn recorder plot is a learning rate test\n",
        "min_grad_lr = learn.recorder.min_grad_lr"
      ],
      "execution_count": null,
      "outputs": [
        {
          "output_type": "display_data",
          "data": {
            "text/html": [
              "\n",
              "    <div>\n",
              "        <style>\n",
              "            /* Turns off some styling */\n",
              "            progress {\n",
              "                /* gets rid of default border in Firefox and Opera. */\n",
              "                border: none;\n",
              "                /* Needs to be in here for Safari polyfill so background images work as expected. */\n",
              "                background-size: auto;\n",
              "            }\n",
              "            .progress-bar-interrupted, .progress-bar-interrupted::-webkit-progress-bar {\n",
              "                background: #F44336;\n",
              "            }\n",
              "        </style>\n",
              "      <progress value='1' class='' max='2' style='width:300px; height:20px; vertical-align: middle;'></progress>\n",
              "      50.00% [1/2 00:19<00:19]\n",
              "    </div>\n",
              "    \n",
              "<table border=\"1\" class=\"dataframe\">\n",
              "  <thead>\n",
              "    <tr style=\"text-align: left;\">\n",
              "      <th>epoch</th>\n",
              "      <th>train_loss</th>\n",
              "      <th>valid_loss</th>\n",
              "      <th>accuracy</th>\n",
              "      <th>time</th>\n",
              "    </tr>\n",
              "  </thead>\n",
              "  <tbody>\n",
              "    <tr>\n",
              "      <td>0</td>\n",
              "      <td>5.553025</td>\n",
              "      <td>#na#</td>\n",
              "      <td>00:19</td>\n",
              "    </tr>\n",
              "  </tbody>\n",
              "</table><p>\n",
              "\n",
              "    <div>\n",
              "        <style>\n",
              "            /* Turns off some styling */\n",
              "            progress {\n",
              "                /* gets rid of default border in Firefox and Opera. */\n",
              "                border: none;\n",
              "                /* Needs to be in here for Safari polyfill so background images work as expected. */\n",
              "                background-size: auto;\n",
              "            }\n",
              "            .progress-bar-interrupted, .progress-bar-interrupted::-webkit-progress-bar {\n",
              "                background: #F44336;\n",
              "            }\n",
              "        </style>\n",
              "      <progress value='41' class='' max='58' style='width:300px; height:20px; vertical-align: middle;'></progress>\n",
              "      70.69% [41/58 00:14<00:05 8.7068]\n",
              "    </div>\n",
              "    "
            ],
            "text/plain": [
              "<IPython.core.display.HTML object>"
            ]
          },
          "metadata": {
            "tags": []
          }
        },
        {
          "output_type": "stream",
          "text": [
            "LR Finder is complete, type {learner_name}.recorder.plot() to see the graph.\n",
            "Min numerical gradient: 3.98E-02\n",
            "Min loss divided by 10: 5.25E-02\n"
          ],
          "name": "stdout"
        },
        {
          "output_type": "display_data",
          "data": {
            "image/png": "[encoded data removed]",
            "text/plain": [
              "<Figure size 432x288 with 1 Axes>"
            ]
          },
          "metadata": {
            "tags": [],
            "needs_background": "light"
          }
        }
      ]
    },
    {
      "cell_type": "code",
      "metadata": {
        "id": "tCglGnUwiplr",
        "colab_type": "code",
        "colab": {
          "base_uri": "https://localhost:8080/",
          "height": 80
        },
        "outputId": "e64ee45a-d56e-445a-fcbf-053bdcdf8d14"
      },
      "source": [
        "# Train freezed model\n",
        "#Learner.fit_one_cycle will launch a training using the 1cycle policy to help you train your model faster.\n",
        "#Uses discriminative layer training if multiple learning rates or weight decay values are passed. To control training behaviour, use the callback system or one or more of the pre-defined callbacks.\n",
        "learn.fit_one_cycle(cyc_len=1, max_lr=1e-2, moms=(0.8, 0.7)) #Fit the model on this learner with lr learning rate, wd weight decay for epochs with callbacks."
      ],
      "execution_count": null,
      "outputs": [
        {
          "output_type": "display_data",
          "data": {
            "text/html": [
              "<table border=\"1\" class=\"dataframe\">\n",
              "  <thead>\n",
              "    <tr style=\"text-align: left;\">\n",
              "      <th>epoch</th>\n",
              "      <th>train_loss</th>\n",
              "      <th>valid_loss</th>\n",
              "      <th>accuracy</th>\n",
              "      <th>time</th>\n",
              "    </tr>\n",
              "  </thead>\n",
              "  <tbody>\n",
              "    <tr>\n",
              "      <td>0</td>\n",
              "      <td>3.900359</td>\n",
              "      <td>3.355841</td>\n",
              "      <td>0.357143</td>\n",
              "      <td>00:19</td>\n",
              "    </tr>\n",
              "  </tbody>\n",
              "</table>"
            ],
            "text/plain": [
              "<IPython.core.display.HTML object>"
            ]
          },
          "metadata": {
            "tags": []
          }
        }
      ]
    },
    {
      "cell_type": "code",
      "metadata": {
        "id": "7lw0hqMKml3r",
        "colab_type": "code",
        "colab": {
          "base_uri": "https://localhost:8080/",
          "height": 1000
        },
        "outputId": "ee238109-1afc-484d-acaa-fc4b928e9245"
      },
      "source": [
        "learn.save('fit_head')\n",
        "learn.load('fit_head')"
      ],
      "execution_count": null,
      "outputs": [
        {
          "output_type": "execute_result",
          "data": {
            "text/plain": [
              "LanguageLearner(data=TextLMDataBunch;\n",
              "\n",
              "Train: LabelList (6093 items)\n",
              "x: LMTextList\n",
              "xxbos what do you enjoy about traveling ? : uh just uh seeing new places and finding new locations you know something new,xxbos can you tell me about that ? : well my mother has always been a very calm um person for the most part easygoing even though she 's experienced a lot of negativity i 've had teachers that have um been very um positive < po > positive and proactive and have you know taught independent thinking and techniques to rise above some of the things that were occurring and just various friends that you know i would see handling situations sometimes more much more more difficult you know dealing with things so,xxbos what are some things you do n't really like about l_a ? : nothing that 's where i live i i love l_a < laughter > maybe that it 's ghetto but that 's about it < laughter >,xxbos what 's something you feel guilty about ? : not doing better in school uh when i was in high school,xxbos what are some things you wish you could change about yourself ? : things that i wish i could change about myself probably be less sensitive do n't take things so personally and um learn how to help myself before helping others\n",
              "y: LMLabelList\n",
              ",,,,\n",
              "Path: .;\n",
              "\n",
              "Valid: LabelList (1219 items)\n",
              "x: LMTextList\n",
              "xxbos i see what you mean ? : yeah,xxbos tell me about the last time you felt really happy ? : you know what honestly i feel happy every day you know every day i wake up i 'm happy because that is a chance for me to take advantage xxunk xxunk xxunk the day so um i feel blessed every morning i wake up it 's a blessing you know because i realize that some people did not wake up some people are homeless some people are going through so many situations that are really xxunk and that 's not me so i feel really really blessed every day,xxbos what advice would you give to yourself ten or twenty years ago ? : um like ten years ago i would 've told myself to work more in the xxunk instead of going out as much as i was,xxbos has that gotten you in trouble ? : no i 'm pretty good at it now maybe when i was younger you know you as you get older you get wiser you learn different things and i 'm still learning today,xxbos how did you decide to do that ? : um i felt that i did n't really belong uh far away from home and so i was just thinking ahead um i was in a major that i did n't really like and so i decided to just not go next semester and go back home to l_a\n",
              "y: LMLabelList\n",
              ",,,,\n",
              "Path: .;\n",
              "\n",
              "Test: None, model=SequentialRNN(\n",
              "  (0): AWD_LSTM(\n",
              "    (encoder): Embedding(6640, 400, padding_idx=1)\n",
              "    (encoder_dp): EmbeddingDropout(\n",
              "      (emb): Embedding(6640, 400, padding_idx=1)\n",
              "    )\n",
              "    (rnns): ModuleList(\n",
              "      (0): WeightDropout(\n",
              "        (module): LSTM(400, 1152, batch_first=True)\n",
              "      )\n",
              "      (1): WeightDropout(\n",
              "        (module): LSTM(1152, 1152, batch_first=True)\n",
              "      )\n",
              "      (2): WeightDropout(\n",
              "        (module): LSTM(1152, 400, batch_first=True)\n",
              "      )\n",
              "    )\n",
              "    (input_dp): RNNDropout()\n",
              "    (hidden_dps): ModuleList(\n",
              "      (0): RNNDropout()\n",
              "      (1): RNNDropout()\n",
              "      (2): RNNDropout()\n",
              "    )\n",
              "  )\n",
              "  (1): LinearDecoder(\n",
              "    (decoder): Linear(in_features=400, out_features=6640, bias=True)\n",
              "    (output_dp): RNNDropout()\n",
              "  )\n",
              "), opt_func=functools.partial(<class 'torch.optim.adam.Adam'>, betas=(0.9, 0.99)), loss_func=FlattenedLoss of CrossEntropyLoss(), metrics=[<function accuracy at 0x7f93634cb0d0>], true_wd=True, bn_wd=True, wd=0.01, train_bn=True, path=PosixPath('.'), model_dir='models', callback_fns=[functools.partial(<class 'fastai.basic_train.Recorder'>, add_time=True, silent=False)], callbacks=[RNNTrainer\n",
              "learn: LanguageLearner(data=TextLMDataBunch;\n",
              "\n",
              "Train: LabelList (6093 items)\n",
              "x: LMTextList\n",
              "xxbos what do you enjoy about traveling ? : uh just uh seeing new places and finding new locations you know something new,xxbos can you tell me about that ? : well my mother has always been a very calm um person for the most part easygoing even though she 's experienced a lot of negativity i 've had teachers that have um been very um positive < po > positive and proactive and have you know taught independent thinking and techniques to rise above some of the things that were occurring and just various friends that you know i would see handling situations sometimes more much more more difficult you know dealing with things so,xxbos what are some things you do n't really like about l_a ? : nothing that 's where i live i i love l_a < laughter > maybe that it 's ghetto but that 's about it < laughter >,xxbos what 's something you feel guilty about ? : not doing better in school uh when i was in high school,xxbos what are some things you wish you could change about yourself ? : things that i wish i could change about myself probably be less sensitive do n't take things so personally and um learn how to help myself before helping others\n",
              "y: LMLabelList\n",
              ",,,,\n",
              "Path: .;\n",
              "\n",
              "Valid: LabelList (1219 items)\n",
              "x: LMTextList\n",
              "xxbos i see what you mean ? : yeah,xxbos tell me about the last time you felt really happy ? : you know what honestly i feel happy every day you know every day i wake up i 'm happy because that is a chance for me to take advantage xxunk xxunk xxunk the day so um i feel blessed every morning i wake up it 's a blessing you know because i realize that some people did not wake up some people are homeless some people are going through so many situations that are really xxunk and that 's not me so i feel really really blessed every day,xxbos what advice would you give to yourself ten or twenty years ago ? : um like ten years ago i would 've told myself to work more in the xxunk instead of going out as much as i was,xxbos has that gotten you in trouble ? : no i 'm pretty good at it now maybe when i was younger you know you as you get older you get wiser you learn different things and i 'm still learning today,xxbos how did you decide to do that ? : um i felt that i did n't really belong uh far away from home and so i was just thinking ahead um i was in a major that i did n't really like and so i decided to just not go next semester and go back home to l_a\n",
              "y: LMLabelList\n",
              ",,,,\n",
              "Path: .;\n",
              "\n",
              "Test: None, model=SequentialRNN(\n",
              "  (0): AWD_LSTM(\n",
              "    (encoder): Embedding(6640, 400, padding_idx=1)\n",
              "    (encoder_dp): EmbeddingDropout(\n",
              "      (emb): Embedding(6640, 400, padding_idx=1)\n",
              "    )\n",
              "    (rnns): ModuleList(\n",
              "      (0): WeightDropout(\n",
              "        (module): LSTM(400, 1152, batch_first=True)\n",
              "      )\n",
              "      (1): WeightDropout(\n",
              "        (module): LSTM(1152, 1152, batch_first=True)\n",
              "      )\n",
              "      (2): WeightDropout(\n",
              "        (module): LSTM(1152, 400, batch_first=True)\n",
              "      )\n",
              "    )\n",
              "    (input_dp): RNNDropout()\n",
              "    (hidden_dps): ModuleList(\n",
              "      (0): RNNDropout()\n",
              "      (1): RNNDropout()\n",
              "      (2): RNNDropout()\n",
              "    )\n",
              "  )\n",
              "  (1): LinearDecoder(\n",
              "    (decoder): Linear(in_features=400, out_features=6640, bias=True)\n",
              "    (output_dp): RNNDropout()\n",
              "  )\n",
              "), opt_func=functools.partial(<class 'torch.optim.adam.Adam'>, betas=(0.9, 0.99)), loss_func=FlattenedLoss of CrossEntropyLoss(), metrics=[<function accuracy at 0x7f93634cb0d0>], true_wd=True, bn_wd=True, wd=0.01, train_bn=True, path=PosixPath('.'), model_dir='models', callback_fns=[functools.partial(<class 'fastai.basic_train.Recorder'>, add_time=True, silent=False)], callbacks=[...], layer_groups=[Sequential(\n",
              "  (0): WeightDropout(\n",
              "    (module): LSTM(400, 1152, batch_first=True)\n",
              "  )\n",
              "  (1): RNNDropout()\n",
              "), Sequential(\n",
              "  (0): WeightDropout(\n",
              "    (module): LSTM(1152, 1152, batch_first=True)\n",
              "  )\n",
              "  (1): RNNDropout()\n",
              "), Sequential(\n",
              "  (0): WeightDropout(\n",
              "    (module): LSTM(1152, 400, batch_first=True)\n",
              "  )\n",
              "  (1): RNNDropout()\n",
              "), Sequential(\n",
              "  (0): Embedding(6640, 400, padding_idx=1)\n",
              "  (1): EmbeddingDropout(\n",
              "    (emb): Embedding(6640, 400, padding_idx=1)\n",
              "  )\n",
              "  (2): LinearDecoder(\n",
              "    (decoder): Linear(in_features=400, out_features=6640, bias=True)\n",
              "    (output_dp): RNNDropout()\n",
              "  )\n",
              ")], add_time=True, silent=False)\n",
              "alpha: 2.0\n",
              "beta: 1.0], layer_groups=[Sequential(\n",
              "  (0): WeightDropout(\n",
              "    (module): LSTM(400, 1152, batch_first=True)\n",
              "  )\n",
              "  (1): RNNDropout()\n",
              "), Sequential(\n",
              "  (0): WeightDropout(\n",
              "    (module): LSTM(1152, 1152, batch_first=True)\n",
              "  )\n",
              "  (1): RNNDropout()\n",
              "), Sequential(\n",
              "  (0): WeightDropout(\n",
              "    (module): LSTM(1152, 400, batch_first=True)\n",
              "  )\n",
              "  (1): RNNDropout()\n",
              "), Sequential(\n",
              "  (0): Embedding(6640, 400, padding_idx=1)\n",
              "  (1): EmbeddingDropout(\n",
              "    (emb): Embedding(6640, 400, padding_idx=1)\n",
              "  )\n",
              "  (2): LinearDecoder(\n",
              "    (decoder): Linear(in_features=400, out_features=6640, bias=True)\n",
              "    (output_dp): RNNDropout()\n",
              "  )\n",
              ")], add_time=True, silent=False)"
            ]
          },
          "metadata": {
            "tags": []
          },
          "execution_count": 47
        }
      ]
    },
    {
      "cell_type": "code",
      "metadata": {
        "id": "NAsi41H4lPxX",
        "colab_type": "code",
        "colab": {
          "base_uri": "https://localhost:8080/",
          "height": 142
        },
        "outputId": "34aa9c3b-2dae-43b9-e43a-0beae5a1e1db"
      },
      "source": [
        "# Train the unfreezed model\n",
        "learn.unfreeze()\n",
        "learn.fit_one_cycle(3, slice(2e-3/100, 2e-3))"
      ],
      "execution_count": null,
      "outputs": [
        {
          "output_type": "display_data",
          "data": {
            "text/html": [
              "<table border=\"1\" class=\"dataframe\">\n",
              "  <thead>\n",
              "    <tr style=\"text-align: left;\">\n",
              "      <th>epoch</th>\n",
              "      <th>train_loss</th>\n",
              "      <th>valid_loss</th>\n",
              "      <th>accuracy</th>\n",
              "      <th>time</th>\n",
              "    </tr>\n",
              "  </thead>\n",
              "  <tbody>\n",
              "    <tr>\n",
              "      <td>0</td>\n",
              "      <td>3.204413</td>\n",
              "      <td>3.263051</td>\n",
              "      <td>0.414286</td>\n",
              "      <td>00:25</td>\n",
              "    </tr>\n",
              "    <tr>\n",
              "      <td>1</td>\n",
              "      <td>2.994549</td>\n",
              "      <td>3.177034</td>\n",
              "      <td>0.442857</td>\n",
              "      <td>00:25</td>\n",
              "    </tr>\n",
              "    <tr>\n",
              "      <td>2</td>\n",
              "      <td>2.848516</td>\n",
              "      <td>3.192283</td>\n",
              "      <td>0.428571</td>\n",
              "      <td>00:25</td>\n",
              "    </tr>\n",
              "  </tbody>\n",
              "</table>"
            ],
            "text/plain": [
              "<IPython.core.display.HTML object>"
            ]
          },
          "metadata": {
            "tags": []
          }
        }
      ]
    },
    {
      "cell_type": "code",
      "metadata": {
        "id": "QcEiEoT7tqE6",
        "colab_type": "code",
        "colab": {}
      },
      "source": [
        "# Save the fine-tuned encoder\n",
        "learn.save_encoder('ft_enc_balanced')"
      ],
      "execution_count": null,
      "outputs": []
    },
    {
      "cell_type": "markdown",
      "metadata": {
        "id": "-7RaG3II595z",
        "colab_type": "text"
      },
      "source": [
        "### fastai.train source provides a convenient utility to search through a range of learning rates to find the optimum one for our dataset.\n",
        "\n",
        "The idea is that our optimization function needs to use a learning rate that is an order of magnitude below the point at which the loss starts to diverge\n"
      ]
    },
    {
      "cell_type": "markdown",
      "metadata": {
        "id": "ij5YsuaJt9Og",
        "colab_type": "text"
      },
      "source": [
        "# Step 2 - Training the classifier\n",
        "Now we have trained the language model following the steps explained in ULMFit paper and saved the encoder weights. We can train a classifier while re-using the encoder weights.[link text](https://)"
      ]
    },
    {
      "cell_type": "markdown",
      "metadata": {
        "id": "CHm6hLoo4XdZ",
        "colab_type": "text"
      },
      "source": [
        "### We only need to run the above tokenization step once, and save the data. All the data goes to a local folder named tmp/. For a large added vocabulary, the above tokenization step can take a while, hence we save them and restart the notebook from the next cell (if we close our session)."
      ]
    },
    {
      "cell_type": "code",
      "metadata": {
        "id": "LzkF4xS1JOik",
        "colab_type": "code",
        "colab": {
          "base_uri": "https://localhost:8080/",
          "height": 17
        },
        "outputId": "ee92afee-17fa-4487-d713-575b750a7acd"
      },
      "source": [
        "data_clas = TextClasDataBunch.from_df(path = \"\", train_df = train, valid_df = dev, vocab=data_lm.train_ds.vocab, bs=32,min_freq=1)"
      ],
      "execution_count": null,
      "outputs": [
        {
          "output_type": "display_data",
          "data": {
            "text/html": [
              ""
            ],
            "text/plain": [
              "<IPython.core.display.HTML object>"
            ]
          },
          "metadata": {
            "tags": []
          }
        },
        {
          "output_type": "display_data",
          "data": {
            "text/html": [
              ""
            ],
            "text/plain": [
              "<IPython.core.display.HTML object>"
            ]
          },
          "metadata": {
            "tags": []
          }
        }
      ]
    },
    {
      "cell_type": "code",
      "metadata": {
        "id": "kwjj9IYBut7T",
        "colab_type": "code",
        "colab": {}
      },
      "source": [
        "data_clas.save('train_ulmfit_balanced_TextClas')\n"
      ],
      "execution_count": null,
      "outputs": []
    },
    {
      "cell_type": "markdown",
      "metadata": {
        "id": "TBubSPGe18W2",
        "colab_type": "text"
      },
      "source": [
        "xxunk: Token used instead of unknown words (words not found in the vocabulary).\n",
        "\n",
        "xxbos: Beginning of a text.\n",
        "\n",
        "xxfld: Represents separate parts of your document (several columns in a dataframe) like headline, body, summary, etc.\n",
        "\n",
        "xxmaj: Indicates that the next word starts with a capital, e.g. “House” will be tokenized as “xxmaj house”.\n",
        "\n",
        "xxup: Indicates that next word is written in all caps, e.g. “WHY” will be tokenized as “xxup why ”.\n",
        "\n",
        "xxrep: Token indicates that a character is repeated n times, e.g. if you have  10 inarowitwillbetokenizedas“xxrep10” (in general “xxrep n  {char}”)\n",
        "\n",
        "xxwrep: Indicates that a word is repeated n times.\n",
        "\n",
        "xxpad : Token used as padding (so every text has the same length)"
      ]
    },
    {
      "cell_type": "code",
      "metadata": {
        "id": "FVIp0RIP4C9w",
        "colab_type": "code",
        "colab": {
          "base_uri": "https://localhost:8080/",
          "height": 289
        },
        "outputId": "599173e5-db70-4fa4-d0ab-69a8312666fc"
      },
      "source": [
        "data_clas.show_batch()"
      ],
      "execution_count": null,
      "outputs": [
        {
          "output_type": "display_data",
          "data": {
            "text/html": [
              "<table border=\"1\" class=\"dataframe\">\n",
              "  <thead>\n",
              "    <tr style=\"text-align: right;\">\n",
              "      <th>text</th>\n",
              "      <th>target</th>\n",
              "    </tr>\n",
              "  </thead>\n",
              "  <tbody>\n",
              "    <tr>\n",
              "      <td>xxbos tell me about an event or something that you wish you could erase from your memory ? : &lt; deep breath &gt; hmm &lt; sigh &gt; okay um so this happened the the last like job that i had i mean i was it was n't technically i was a freelancer but i was working for this company for like a year and a half close to two years</td>\n",
              "      <td>mild</td>\n",
              "    </tr>\n",
              "    <tr>\n",
              "      <td>xxbos i 'm sorry ? : thank you and really because in our religion you know you plan a funeral very quickly you know typically within a couple of days and i really only invited very very close friends and family members i was more or less in charge of it my dad was remarried but his widow was sort of not really up to it so i took care</td>\n",
              "      <td>none</td>\n",
              "    </tr>\n",
              "    <tr>\n",
              "      <td>xxbos when was the last time that happened ? : uh it was probably about a year and a half ago i was working on a research project at work and uh somebody with much less experience &lt; exp &gt; it was three of us working on something and then they brought it another pair of eyes just to go over it and it was somebody just out of uh</td>\n",
              "      <td>none</td>\n",
              "    </tr>\n",
              "    <tr>\n",
              "      <td>xxbos tell me about a time when someone made you feel really badly about yourself ? : oh um mm hmm when i was a little kid i was uh i was the fat &lt; f &gt; i was the fat kid and um gosh i remember i was like i was going into high school and it was like the second day and i remember this guy came up</td>\n",
              "      <td>mild</td>\n",
              "    </tr>\n",
              "    <tr>\n",
              "      <td>xxbos tell me about an event or something that you wish you could erase from your memory ? : oh geez oh man erase from my memory or just erase from ever happening um huh i do n't &lt; sigh &gt; you know that 's hard um katrina just the experience of katrina for starters um &lt; laughter &gt; my &lt; m &gt; my ex i i guess between those</td>\n",
              "      <td>moderately severe</td>\n",
              "    </tr>\n",
              "  </tbody>\n",
              "</table>"
            ],
            "text/plain": [
              "<IPython.core.display.HTML object>"
            ]
          },
          "metadata": {
            "tags": []
          }
        }
      ]
    },
    {
      "cell_type": "code",
      "metadata": {
        "id": "fmt-iuY-u_mE",
        "colab_type": "code",
        "colab": {}
      },
      "source": [
        "learn = text_classifier_learner(data_clas,AWD_LSTM, drop_mult=0.7)\n",
        "learn.load_encoder('ft_enc_balanced')\n",
        "learn.freeze()"
      ],
      "execution_count": null,
      "outputs": []
    },
    {
      "cell_type": "code",
      "metadata": {
        "id": "m40yomnEvVvo",
        "colab_type": "code",
        "colab": {}
      },
      "source": [
        "# Specify the metrics we want to follow\n",
        "metrics = [accuracy, FBeta('macro')]\n",
        "learn.metrics = metrics"
      ],
      "execution_count": null,
      "outputs": []
    },
    {
      "cell_type": "code",
      "metadata": {
        "id": "ecNNTF2CeNcb",
        "colab_type": "code",
        "colab": {
          "base_uri": "https://localhost:8080/",
          "height": 498
        },
        "outputId": "a1a1edb7-74c1-498c-b182-687b81449e7d"
      },
      "source": [
        "learn.lr_find()\n",
        "learn.recorder.plot(Suggestion=True)"
      ],
      "execution_count": null,
      "outputs": [
        {
          "output_type": "display_data",
          "data": {
            "text/html": [
              "\n",
              "    <div>\n",
              "        <style>\n",
              "            /* Turns off some styling */\n",
              "            progress {\n",
              "                /* gets rid of default border in Firefox and Opera. */\n",
              "                border: none;\n",
              "                /* Needs to be in here for Safari polyfill so background images work as expected. */\n",
              "                background-size: auto;\n",
              "            }\n",
              "            .progress-bar-interrupted, .progress-bar-interrupted::-webkit-progress-bar {\n",
              "                background: #F44336;\n",
              "            }\n",
              "        </style>\n",
              "      <progress value='4' class='' max='5' style='width:300px; height:20px; vertical-align: middle;'></progress>\n",
              "      80.00% [4/5 01:24<00:21]\n",
              "    </div>\n",
              "    \n",
              "<table border=\"1\" class=\"dataframe\">\n",
              "  <thead>\n",
              "    <tr style=\"text-align: left;\">\n",
              "      <th>epoch</th>\n",
              "      <th>train_loss</th>\n",
              "      <th>valid_loss</th>\n",
              "      <th>accuracy</th>\n",
              "      <th>time</th>\n",
              "    </tr>\n",
              "  </thead>\n",
              "  <tbody>\n",
              "    <tr>\n",
              "      <td>0</td>\n",
              "      <td>0.779598</td>\n",
              "      <td>#na#</td>\n",
              "      <td>00:21</td>\n",
              "    </tr>\n",
              "    <tr>\n",
              "      <td>1</td>\n",
              "      <td>0.737067</td>\n",
              "      <td>#na#</td>\n",
              "      <td>00:21</td>\n",
              "    </tr>\n",
              "    <tr>\n",
              "      <td>2</td>\n",
              "      <td>0.562019</td>\n",
              "      <td>#na#</td>\n",
              "      <td>00:21</td>\n",
              "    </tr>\n",
              "    <tr>\n",
              "      <td>3</td>\n",
              "      <td>0.529837</td>\n",
              "      <td>#na#</td>\n",
              "      <td>00:20</td>\n",
              "    </tr>\n",
              "  </tbody>\n",
              "</table><p>\n",
              "\n",
              "    <div>\n",
              "        <style>\n",
              "            /* Turns off some styling */\n",
              "            progress {\n",
              "                /* gets rid of default border in Firefox and Opera. */\n",
              "                border: none;\n",
              "                /* Needs to be in here for Safari polyfill so background images work as expected. */\n",
              "                background-size: auto;\n",
              "            }\n",
              "            .progress-bar-interrupted, .progress-bar-interrupted::-webkit-progress-bar {\n",
              "                background: #F44336;\n",
              "            }\n",
              "        </style>\n",
              "      <progress value='9' class='' max='22' style='width:300px; height:20px; vertical-align: middle;'></progress>\n",
              "      40.91% [9/22 00:18<00:26 1.7098]\n",
              "    </div>\n",
              "    "
            ],
            "text/plain": [
              "<IPython.core.display.HTML object>"
            ]
          },
          "metadata": {
            "tags": []
          }
        },
        {
          "output_type": "stream",
          "text": [
            "LR Finder is complete, type {learner_name}.recorder.plot() to see the graph.\n"
          ],
          "name": "stdout"
        },
        {
          "output_type": "display_data",
          "data": {
            "image/png": "[encoded data removed]",
            "text/plain": [
              "<Figure size 432x288 with 1 Axes>"
            ]
          },
          "metadata": {
            "tags": [],
            "needs_background": "light"
          }
        }
      ]
    },
    {
      "cell_type": "code",
      "metadata": {
        "id": "Ajqh2qE0e066",
        "colab_type": "code",
        "colab": {
          "base_uri": "https://localhost:8080/",
          "height": 80
        },
        "outputId": "611ac6fb-b82e-46a5-f66b-00c87a6d69c2"
      },
      "source": [
        "learn.fit_one_cycle(cyc_len=1, max_lr=min_grad_lr, moms=(0.8, 0.7))"
      ],
      "execution_count": null,
      "outputs": [
        {
          "output_type": "display_data",
          "data": {
            "text/html": [
              "<table border=\"1\" class=\"dataframe\">\n",
              "  <thead>\n",
              "    <tr style=\"text-align: left;\">\n",
              "      <th>epoch</th>\n",
              "      <th>train_loss</th>\n",
              "      <th>valid_loss</th>\n",
              "      <th>accuracy</th>\n",
              "      <th>time</th>\n",
              "    </tr>\n",
              "  </thead>\n",
              "  <tbody>\n",
              "    <tr>\n",
              "      <td>0</td>\n",
              "      <td>0.272746</td>\n",
              "      <td>0.146719</td>\n",
              "      <td>0.932489</td>\n",
              "      <td>00:34</td>\n",
              "    </tr>\n",
              "  </tbody>\n",
              "</table>"
            ],
            "text/plain": [
              "<IPython.core.display.HTML object>"
            ]
          },
          "metadata": {
            "tags": []
          }
        }
      ]
    },
    {
      "cell_type": "code",
      "metadata": {
        "id": "rgMKx01G8-uO",
        "colab_type": "code",
        "colab": {}
      },
      "source": [
        "learn.save('first')\n",
        "# learn.load('first)\n"
      ],
      "execution_count": null,
      "outputs": []
    },
    {
      "cell_type": "code",
      "metadata": {
        "id": "jfwRrsaEf-Re",
        "colab_type": "code",
        "colab": {}
      },
      "source": [
        "learn.save('second')"
      ],
      "execution_count": null,
      "outputs": []
    },
    {
      "cell_type": "code",
      "metadata": {
        "id": "QMZ1AG0pAhhL",
        "colab_type": "code",
        "colab": {
          "base_uri": "https://localhost:8080/",
          "height": 80
        },
        "outputId": "62243411-75e1-4b6d-91a2-46d2d8ea8284"
      },
      "source": [
        "learn.freeze_to(-3)\n",
        "learn.fit_one_cycle(1, slice(5e-3/(2.6**4),5e-3), moms=(0.8,0.7))"
      ],
      "execution_count": null,
      "outputs": [
        {
          "output_type": "display_data",
          "data": {
            "text/html": [
              "<table border=\"1\" class=\"dataframe\">\n",
              "  <thead>\n",
              "    <tr style=\"text-align: left;\">\n",
              "      <th>epoch</th>\n",
              "      <th>train_loss</th>\n",
              "      <th>valid_loss</th>\n",
              "      <th>accuracy</th>\n",
              "      <th>time</th>\n",
              "    </tr>\n",
              "  </thead>\n",
              "  <tbody>\n",
              "    <tr>\n",
              "      <td>0</td>\n",
              "      <td>0.290934</td>\n",
              "      <td>0.119366</td>\n",
              "      <td>0.947257</td>\n",
              "      <td>00:40</td>\n",
              "    </tr>\n",
              "  </tbody>\n",
              "</table>"
            ],
            "text/plain": [
              "<IPython.core.display.HTML object>"
            ]
          },
          "metadata": {
            "tags": []
          }
        }
      ]
    },
    {
      "cell_type": "code",
      "metadata": {
        "id": "i27ePufxjzWl",
        "colab_type": "code",
        "colab": {
          "base_uri": "https://localhost:8080/",
          "height": 204
        },
        "outputId": "03994580-bef5-4725-a75d-1f2a95e8e3cc"
      },
      "source": [
        "learn.unfreeze()\n",
        "learn.fit_one_cycle(5, slice(2e-3/100, 2e-3), moms=(0.8,0.7))"
      ],
      "execution_count": null,
      "outputs": [
        {
          "output_type": "display_data",
          "data": {
            "text/html": [
              "<table border=\"1\" class=\"dataframe\">\n",
              "  <thead>\n",
              "    <tr style=\"text-align: left;\">\n",
              "      <th>epoch</th>\n",
              "      <th>train_loss</th>\n",
              "      <th>valid_loss</th>\n",
              "      <th>accuracy</th>\n",
              "      <th>time</th>\n",
              "    </tr>\n",
              "  </thead>\n",
              "  <tbody>\n",
              "    <tr>\n",
              "      <td>0</td>\n",
              "      <td>0.200885</td>\n",
              "      <td>0.104244</td>\n",
              "      <td>0.957806</td>\n",
              "      <td>00:44</td>\n",
              "    </tr>\n",
              "    <tr>\n",
              "      <td>1</td>\n",
              "      <td>0.192734</td>\n",
              "      <td>0.107556</td>\n",
              "      <td>0.949367</td>\n",
              "      <td>00:42</td>\n",
              "    </tr>\n",
              "    <tr>\n",
              "      <td>2</td>\n",
              "      <td>0.191630</td>\n",
              "      <td>0.106917</td>\n",
              "      <td>0.955696</td>\n",
              "      <td>00:43</td>\n",
              "    </tr>\n",
              "    <tr>\n",
              "      <td>3</td>\n",
              "      <td>0.173365</td>\n",
              "      <td>0.106154</td>\n",
              "      <td>0.951477</td>\n",
              "      <td>00:43</td>\n",
              "    </tr>\n",
              "    <tr>\n",
              "      <td>4</td>\n",
              "      <td>0.158581</td>\n",
              "      <td>0.093823</td>\n",
              "      <td>0.962025</td>\n",
              "      <td>00:43</td>\n",
              "    </tr>\n",
              "  </tbody>\n",
              "</table>"
            ],
            "text/plain": [
              "<IPython.core.display.HTML object>"
            ]
          },
          "metadata": {
            "tags": []
          }
        }
      ]
    },
    {
      "cell_type": "code",
      "metadata": {
        "id": "JUNpsIT_SZGp",
        "colab_type": "code",
        "colab": {}
      },
      "source": [
        ""
      ],
      "execution_count": null,
      "outputs": []
    },
    {
      "cell_type": "code",
      "metadata": {
        "id": "D-bAvCtHSZQV",
        "colab_type": "code",
        "colab": {}
      },
      "source": [
        ""
      ],
      "execution_count": null,
      "outputs": []
    },
    {
      "cell_type": "code",
      "metadata": {
        "id": "Rxf27G4iSZcl",
        "colab_type": "code",
        "colab": {}
      },
      "source": [
        ""
      ],
      "execution_count": null,
      "outputs": []
    },
    {
      "cell_type": "code",
      "metadata": {
        "id": "nXM4EWmASYwl",
        "colab_type": "code",
        "colab": {}
      },
      "source": [
        ""
      ],
      "execution_count": null,
      "outputs": []
    },
    {
      "cell_type": "code",
      "metadata": {
        "id": "g_lvXUT3SYuL",
        "colab_type": "code",
        "colab": {}
      },
      "source": [
        ""
      ],
      "execution_count": null,
      "outputs": []
    },
    {
      "cell_type": "code",
      "metadata": {
        "id": "0ASYm5IySYrE",
        "colab_type": "code",
        "colab": {}
      },
      "source": [
        ""
      ],
      "execution_count": null,
      "outputs": []
    },
    {
      "cell_type": "code",
      "metadata": {
        "id": "rCwdlxgTSYoV",
        "colab_type": "code",
        "colab": {}
      },
      "source": [
        ""
      ],
      "execution_count": null,
      "outputs": []
    },
    {
      "cell_type": "code",
      "metadata": {
        "id": "aOb6znK1SYg1",
        "colab_type": "code",
        "colab": {}
      },
      "source": [
        ""
      ],
      "execution_count": null,
      "outputs": []
    },
    {
      "cell_type": "code",
      "metadata": {
        "id": "B0kAzbkHSeUL",
        "colab_type": "code",
        "colab": {}
      },
      "source": [
        ""
      ],
      "execution_count": null,
      "outputs": []
    },
    {
      "cell_type": "code",
      "metadata": {
        "id": "ZfkHk7YxSfEQ",
        "colab_type": "code",
        "colab": {}
      },
      "source": [
        ""
      ],
      "execution_count": null,
      "outputs": []
    },
    {
      "cell_type": "code",
      "metadata": {
        "id": "FdJk6D7wSfew",
        "colab_type": "code",
        "colab": {}
      },
      "source": [
        ""
      ],
      "execution_count": null,
      "outputs": []
    },
    {
      "cell_type": "code",
      "metadata": {
        "id": "LBvLJ5p-Sfch",
        "colab_type": "code",
        "colab": {}
      },
      "source": [
        ""
      ],
      "execution_count": null,
      "outputs": []
    },
    {
      "cell_type": "code",
      "metadata": {
        "id": "80aYsU44SfZ7",
        "colab_type": "code",
        "colab": {}
      },
      "source": [
        ""
      ],
      "execution_count": null,
      "outputs": []
    },
    {
      "cell_type": "code",
      "metadata": {
        "id": "zTFS26OjSfVy",
        "colab_type": "code",
        "colab": {}
      },
      "source": [
        ""
      ],
      "execution_count": null,
      "outputs": []
    },
    {
      "cell_type": "code",
      "metadata": {
        "id": "lE3u-YcnSfSu",
        "colab_type": "code",
        "colab": {}
      },
      "source": [
        ""
      ],
      "execution_count": null,
      "outputs": []
    },
    {
      "cell_type": "code",
      "metadata": {
        "id": "Y2-wBbznSfQA",
        "colab_type": "code",
        "colab": {}
      },
      "source": [
        ""
      ],
      "execution_count": null,
      "outputs": []
    },
    {
      "cell_type": "code",
      "metadata": {
        "id": "JsJHSULWSfNG",
        "colab_type": "code",
        "colab": {}
      },
      "source": [
        ""
      ],
      "execution_count": null,
      "outputs": []
    },
    {
      "cell_type": "code",
      "metadata": {
        "id": "NyWxB0G5c-nM",
        "colab_type": "code",
        "colab": {}
      },
      "source": [
        "# import libraries\n",
        "import fastai\n",
        "from fastai import *\n",
        "from fastai.text import * \n",
        "import pandas as pd\n",
        "import numpy as np\n",
        "from functools import partial\n",
        "import io\n",
        "import os"
      ],
      "execution_count": null,
      "outputs": []
    },
    {
      "cell_type": "code",
      "metadata": {
        "id": "XYpMB5QJtSFq",
        "colab_type": "code",
        "colab": {}
      },
      "source": [
        "from sklearn.datasets import fetch_20newsgroups\n",
        "dataset = fetch_20newsgroups(shuffle=True, random_state=1, remove=('headers', 'footers', 'quotes'))\n",
        "documents = dataset.data"
      ],
      "execution_count": null,
      "outputs": []
    },
    {
      "cell_type": "code",
      "metadata": {
        "id": "OMrTs8gYc5hN",
        "colab_type": "code",
        "colab": {}
      },
      "source": [
        "# create a dataframe\n",
        "df = pd.DataFrame({'label':dataset.target,\n",
        "                   'text':dataset.data})"
      ],
      "execution_count": null,
      "outputs": []
    },
    {
      "cell_type": "code",
      "metadata": {
        "id": "BljY7Q52dJm7",
        "colab_type": "code",
        "colab": {}
      },
      "source": [
        "df = df[df['label'].isin([1,10])]\n",
        "df = df.reset_index(drop = True)"
      ],
      "execution_count": null,
      "outputs": []
    },
    {
      "cell_type": "code",
      "metadata": {
        "id": "P32hVpZfdMOS",
        "colab_type": "code",
        "colab": {
          "base_uri": "https://localhost:8080/",
          "height": 68
        },
        "outputId": "cfbca037-6065-4e60-9f93-79146cc2707a"
      },
      "source": [
        "df['label'].value_counts()"
      ],
      "execution_count": null,
      "outputs": [
        {
          "output_type": "execute_result",
          "data": {
            "text/plain": [
              "10    600\n",
              "1     584\n",
              "Name: label, dtype: int64"
            ]
          },
          "metadata": {
            "tags": []
          },
          "execution_count": 76
        }
      ]
    },
    {
      "cell_type": "code",
      "metadata": {
        "id": "e4d02xVEdOj0",
        "colab_type": "code",
        "colab": {}
      },
      "source": [
        "df['text'] = df['text'].str.replace(\"[^a-zA-Z]\", \" \")"
      ],
      "execution_count": null,
      "outputs": []
    },
    {
      "cell_type": "code",
      "metadata": {
        "id": "U2LvAitDdQ1u",
        "colab_type": "code",
        "colab": {
          "base_uri": "https://localhost:8080/",
          "height": 68
        },
        "outputId": "0fea39ad-74ea-4fa6-c036-8c51f785523b"
      },
      "source": [
        "import nltk\n",
        "nltk.download('stopwords')"
      ],
      "execution_count": null,
      "outputs": [
        {
          "output_type": "stream",
          "text": [
            "[nltk_data] Downloading package stopwords to /root/nltk_data...\n",
            "[nltk_data]   Package stopwords is already up-to-date!\n"
          ],
          "name": "stdout"
        },
        {
          "output_type": "execute_result",
          "data": {
            "text/plain": [
              "True"
            ]
          },
          "metadata": {
            "tags": []
          },
          "execution_count": 78
        }
      ]
    },
    {
      "cell_type": "code",
      "metadata": {
        "id": "tt4XaccAdWH0",
        "colab_type": "code",
        "colab": {}
      },
      "source": [
        "from nltk.corpus import stopwords \n",
        "stop_words = stopwords.words('english')"
      ],
      "execution_count": null,
      "outputs": []
    },
    {
      "cell_type": "code",
      "metadata": {
        "id": "4pV-K8gydZD2",
        "colab_type": "code",
        "colab": {}
      },
      "source": [
        "# tokenization \n",
        "tokenized_doc = df['text'].apply(lambda x: x.split())\n",
        "\n",
        "# remove stop-words \n",
        "tokenized_doc = tokenized_doc.apply(lambda x: [item for item in x if item not in stop_words]) \n",
        "\n",
        "# de-tokenization \n",
        "detokenized_doc = [] \n",
        "for i in range(len(df)): \n",
        "    t = ' '.join(tokenized_doc[i]) \n",
        "    detokenized_doc.append(t) \n",
        "df['text'] = detokenized_doc\n"
      ],
      "execution_count": null,
      "outputs": []
    },
    {
      "cell_type": "code",
      "metadata": {
        "id": "mlRmWwaqdcpM",
        "colab_type": "code",
        "colab": {}
      },
      "source": [
        "from sklearn.model_selection import train_test_split\n",
        "\n",
        "# split data into training and validation set\n",
        "df_trn, df_val = train_test_split(df, stratify = df['label'], test_size = 0.4, random_state = 12)"
      ],
      "execution_count": null,
      "outputs": []
    },
    {
      "cell_type": "code",
      "metadata": {
        "id": "pVKHkmJwdgKq",
        "colab_type": "code",
        "colab": {
          "base_uri": "https://localhost:8080/",
          "height": 34
        },
        "outputId": "2a0916d4-d915-4e73-b575-220a32c4ca4e"
      },
      "source": [
        "df_trn.shape, df_val.shape"
      ],
      "execution_count": null,
      "outputs": [
        {
          "output_type": "execute_result",
          "data": {
            "text/plain": [
              "((710, 2), (474, 2))"
            ]
          },
          "metadata": {
            "tags": []
          },
          "execution_count": 82
        }
      ]
    },
    {
      "cell_type": "code",
      "metadata": {
        "id": "kvjYyMXcdjlz",
        "colab_type": "code",
        "colab": {
          "base_uri": "https://localhost:8080/",
          "height": 17
        },
        "outputId": "8615251f-ade6-43be-bc79-a433aa8b6e62"
      },
      "source": [
        "# Language model data\n",
        "data_lm = TextLMDataBunch.from_df(train_df = df_trn, valid_df = df_val, path = \"\")\n",
        "\n",
        "# Classifier model data\n",
        "data_clas = TextClasDataBunch.from_df(path = \"\", train_df = df_trn, valid_df = df_val, vocab=data_lm.train_ds.vocab, bs=32)"
      ],
      "execution_count": null,
      "outputs": [
        {
          "output_type": "display_data",
          "data": {
            "text/html": [
              ""
            ],
            "text/plain": [
              "<IPython.core.display.HTML object>"
            ]
          },
          "metadata": {
            "tags": []
          }
        },
        {
          "output_type": "display_data",
          "data": {
            "text/html": [
              ""
            ],
            "text/plain": [
              "<IPython.core.display.HTML object>"
            ]
          },
          "metadata": {
            "tags": []
          }
        },
        {
          "output_type": "display_data",
          "data": {
            "text/html": [
              ""
            ],
            "text/plain": [
              "<IPython.core.display.HTML object>"
            ]
          },
          "metadata": {
            "tags": []
          }
        },
        {
          "output_type": "display_data",
          "data": {
            "text/html": [
              ""
            ],
            "text/plain": [
              "<IPython.core.display.HTML object>"
            ]
          },
          "metadata": {
            "tags": []
          }
        }
      ]
    },
    {
      "cell_type": "code",
      "metadata": {
        "id": "WJmYzsKqdnes",
        "colab_type": "code",
        "colab": {}
      },
      "source": [
        "learn = language_model_learner(data_lm, AWD_LSTM, drop_mult=0.7)"
      ],
      "execution_count": null,
      "outputs": []
    },
    {
      "cell_type": "code",
      "metadata": {
        "id": "c3XmzRrxdrIK",
        "colab_type": "code",
        "colab": {
          "base_uri": "https://localhost:8080/",
          "height": 80
        },
        "outputId": "173e1f73-fb9c-4002-e1cb-fea334b444cf"
      },
      "source": [
        "# train the learner object\n",
        "learn.fit_one_cycle(1, 1e-2)"
      ],
      "execution_count": null,
      "outputs": [
        {
          "output_type": "display_data",
          "data": {
            "text/html": [
              "<table border=\"1\" class=\"dataframe\">\n",
              "  <thead>\n",
              "    <tr style=\"text-align: left;\">\n",
              "      <th>epoch</th>\n",
              "      <th>train_loss</th>\n",
              "      <th>valid_loss</th>\n",
              "      <th>accuracy</th>\n",
              "      <th>time</th>\n",
              "    </tr>\n",
              "  </thead>\n",
              "  <tbody>\n",
              "    <tr>\n",
              "      <td>0</td>\n",
              "      <td>6.111175</td>\n",
              "      <td>5.200799</td>\n",
              "      <td>0.245297</td>\n",
              "      <td>00:10</td>\n",
              "    </tr>\n",
              "  </tbody>\n",
              "</table>"
            ],
            "text/plain": [
              "<IPython.core.display.HTML object>"
            ]
          },
          "metadata": {
            "tags": []
          }
        }
      ]
    },
    {
      "cell_type": "code",
      "metadata": {
        "id": "fcjGSGsOd0B2",
        "colab_type": "code",
        "colab": {
          "base_uri": "https://localhost:8080/",
          "height": 205
        },
        "outputId": "60edd2e8-26ee-44e9-a1ff-9a895e247b1c"
      },
      "source": [
        "learn.lr_find()"
      ],
      "execution_count": null,
      "outputs": [
        {
          "output_type": "display_data",
          "data": {
            "text/html": [
              "\n",
              "    <div>\n",
              "        <style>\n",
              "            /* Turns off some styling */\n",
              "            progress {\n",
              "                /* gets rid of default border in Firefox and Opera. */\n",
              "                border: none;\n",
              "                /* Needs to be in here for Safari polyfill so background images work as expected. */\n",
              "                background-size: auto;\n",
              "            }\n",
              "            .progress-bar-interrupted, .progress-bar-interrupted::-webkit-progress-bar {\n",
              "                background: #F44336;\n",
              "            }\n",
              "        </style>\n",
              "      <progress value='3' class='' max='4' style='width:300px; height:20px; vertical-align: middle;'></progress>\n",
              "      75.00% [3/4 00:25<00:08]\n",
              "    </div>\n",
              "    \n",
              "<table border=\"1\" class=\"dataframe\">\n",
              "  <thead>\n",
              "    <tr style=\"text-align: left;\">\n",
              "      <th>epoch</th>\n",
              "      <th>train_loss</th>\n",
              "      <th>valid_loss</th>\n",
              "      <th>accuracy</th>\n",
              "      <th>time</th>\n",
              "    </tr>\n",
              "  </thead>\n",
              "  <tbody>\n",
              "    <tr>\n",
              "      <td>0</td>\n",
              "      <td>5.472222</td>\n",
              "      <td>#na#</td>\n",
              "      <td>00:08</td>\n",
              "    </tr>\n",
              "    <tr>\n",
              "      <td>1</td>\n",
              "      <td>5.485573</td>\n",
              "      <td>#na#</td>\n",
              "      <td>00:08</td>\n",
              "    </tr>\n",
              "    <tr>\n",
              "      <td>2</td>\n",
              "      <td>5.328356</td>\n",
              "      <td>#na#</td>\n",
              "      <td>00:08</td>\n",
              "    </tr>\n",
              "  </tbody>\n",
              "</table><p>\n",
              "\n",
              "    <div>\n",
              "        <style>\n",
              "            /* Turns off some styling */\n",
              "            progress {\n",
              "                /* gets rid of default border in Firefox and Opera. */\n",
              "                border: none;\n",
              "                /* Needs to be in here for Safari polyfill so background images work as expected. */\n",
              "                background-size: auto;\n",
              "            }\n",
              "            .progress-bar-interrupted, .progress-bar-interrupted::-webkit-progress-bar {\n",
              "                background: #F44336;\n",
              "            }\n",
              "        </style>\n",
              "      <progress value='24' class='' max='25' style='width:300px; height:20px; vertical-align: middle;'></progress>\n",
              "      96.00% [24/25 00:08<00:00 7.8798]\n",
              "    </div>\n",
              "    "
            ],
            "text/plain": [
              "<IPython.core.display.HTML object>"
            ]
          },
          "metadata": {
            "tags": []
          }
        },
        {
          "output_type": "stream",
          "text": [
            "LR Finder is complete, type {learner_name}.recorder.plot() to see the graph.\n"
          ],
          "name": "stdout"
        }
      ]
    },
    {
      "cell_type": "code",
      "metadata": {
        "id": "xx2zZ0q4d9bv",
        "colab_type": "code",
        "colab": {
          "base_uri": "https://localhost:8080/",
          "height": 279
        },
        "outputId": "de7c4beb-3ce0-447e-ffeb-978058f28450"
      },
      "source": [
        "learn.recorder.plot()"
      ],
      "execution_count": null,
      "outputs": [
        {
          "output_type": "display_data",
          "data": {
            "image/png": "[encoded data removed]",
            "text/plain": [
              "<Figure size 432x288 with 1 Axes>"
            ]
          },
          "metadata": {
            "tags": [],
            "needs_background": "light"
          }
        }
      ]
    },
    {
      "cell_type": "code",
      "metadata": {
        "id": "p3Zw13tMeIwt",
        "colab_type": "code",
        "colab": {}
      },
      "source": [
        "learn.save_encoder('ft_enc')"
      ],
      "execution_count": null,
      "outputs": []
    },
    {
      "cell_type": "code",
      "metadata": {
        "id": "DBeFUSmseLca",
        "colab_type": "code",
        "colab": {
          "base_uri": "https://localhost:8080/",
          "height": 1000
        },
        "outputId": "7603f380-91e2-4958-d6bb-017439201deb"
      },
      "source": [
        "learn = text_classifier_learner(data_clas,AWD_LSTM, drop_mult=0.7)\n",
        "learn.load_encoder('ft_enc')"
      ],
      "execution_count": null,
      "outputs": [
        {
          "output_type": "execute_result",
          "data": {
            "text/plain": [
              "RNNLearner(data=TextClasDataBunch;\n",
              "\n",
              "Train: LabelList (710 items)\n",
              "x: TextList\n",
              "xxbos xxmaj it looks like xxmaj edmonton xxmaj oilers decided take xxmaj european xxunk spring xxmaj ranford xxmaj tugnutt xxmaj benning xxmaj manson xxmaj smith xxmaj buchberger xxmaj corson playing xxmaj canada xxmaj podein xxmaj weight playing xxup us xxmaj is xxmaj kravchuk playing xxmaj xxunk i know nagging injuries late season xxmaj podein interesting case eligible play xxmaj cape xxmaj breton xxup ahl playoffs like xxmaj kovalev xxmaj zubov xxmaj andersson obviously xxmaj sather xxmaj pocklington total xxunk everyone makes certainly case massively xxunk xxmaj paramount xxmaj new xxmaj york xxmaj rangers,xxbos xxmaj this xxunk xxmaj speaking die hard i i read xxunk hard xxunk xxmaj toronto xxmaj cup finals xxmaj first anyone planet heard team xxmaj detroit xxmaj al xxmaj xxunk however spell idiot name must xxmaj chicago xxup espn said even close xxmaj chicago xxunk win xxmaj norris xxmaj division xxmaj playoffs team close xxmaj everyone picking xxmaj chicago i get says easy choice xxmaj god xxmaj chicago xxmaj wings division point two followed closely xxmaj toronto also good team xxmaj as xxmaj leafs beating xxmaj detroit doubt even going get xxmaj chicago xxmaj if even xxunk get past xxmaj hawks would probably face xxmaj vancouver lose xxmaj as xxmaj the xxmaj habs reaching xxmaj finals forget xxmaj even i devoted xxmaj wings fan watch xxmaj penguins easily three xxunk xxmaj cup winners xxmaj lemieux xxmaj jagr xxmaj tocchet xxmaj stevens xxmaj barrasso done deal xxmaj sorry xxmaj detroit wait xxunk next year xxmaj but hey xxmaj paul picks everyone right xxunk xxmaj leafs xxmaj finals xxmaj yeah xxmaj if make i walk xxmaj toronto get tickets mile walk xxmaj ryan,xxbos xxmaj the idea clip one polygon using another polygon necessarily rectangular window xxmaj my problem finding new vertices resulting xxunk first one xxmaj is simply matter extending usual algorithm whereby edges one polygon checked another polygon xxmaj is simpler way xxmaj comments welcome,xxbos i xxmaj edmonton usually least xxup often case xxunk actual xxup abc xxunk xxmaj kings xxmaj flames game i whoever said earlier xxmaj don xxmaj xxunk er xxmaj whitman poor commentator hockey xxmaj normally xxmaj oilers still playing xxunk i would turn sound listen radio broadcast get decent play play announcing,xxbos xxmaj you know absolutely right i think round players xxmaj european xxunk ship em back came xxmaj let see start i dunno xxmaj lemieux xxmaj hmmm sounds like xxmaj french blood xxmaj hey xxmaj france part xxmaj europe xxmaj send xxmaj xxunk xxunk boy back xxmaj sheesh i think would hard find xxmaj native xxmaj americans xxmaj native xxmaj canadians matter would xxunk claim great continent xxmaj ya see believe xxunk xxunk sort xxmaj if really think xxmaj mogilny xxmaj bure xxmaj selanne et al improved xxup nhl i sure understand game\n",
              "y: CategoryList\n",
              "10,10,1,10,10\n",
              "Path: .;\n",
              "\n",
              "Valid: LabelList (474 items)\n",
              "x: TextList\n",
              "xxbos i looking source code radiosity method i know kind machine want program xxmaj radiance comes c source code i ftp access i tell get via way,xxbos i interested information xxunk imaging sun workstation xxmaj for part i need know hardware available interface system whether xxunk rates sufficient produce quality image xxunk xxmaj any information subject would greatly appreciated,xxbos xxmaj does anyone xxup nhl xxup standings xxmaj march th i need xxup xxunk project xxmaj please post email xxup thanks,xxbos a little xxunk xxmaj basic xxmaj mike info xxmaj for xxmaj xxunk xxunk xxup abc announcing xxunk xxmaj devils xxmaj isles xxmaj pittsburgh xxmaj gary xxmaj thorne play play xxmaj bill xxmaj clement color xxmaj al xxmaj xxunk xxunk xxunk outside xxunk xxunk xxmaj this xxunk primarily seen xxmaj east xxmaj coast xxmaj st xxmaj louis xxmaj chicago xxmaj mike xxmaj xxunk play play xxmaj jim xxmaj xxunk color xxmaj tom xxmaj xxunk xxunk xxunk xxmaj this xxunk primarily seen xxmaj midwest parts xxmaj south xxup la xxmaj calgary xxmaj al xxmaj do xxmaj you xxmaj believe xxmaj xxunk xxmaj michaels play play xxmaj john xxmaj davidson color xxmaj mark xxmaj jones xxunk reporter xxmaj this xxunk seen xxmaj western xxup usa xxmaj montreal xxunk xxmaj xxunk xxmaj xxunk xxunk studio xxup abc xxmaj up xxmaj close xxmaj personal xxmaj mario xxmaj saturday xxmaj wide xxmaj world xxmaj sports xxup edt xxmaj sunday first xxup nhl playoff regular network xxunk years counting silly xxmaj all xxmaj star games xxup xxunk last years xxmaj for xxmaj sunday games xxup abc use xxunk behind goal super super xxunk xxunk close xxunk player faces face xxunk xxup espn xxup abc able use new favorite xxunk ice level shot xxmaj pittsburgh many seats would removed xxunk xxmaj in case blowout xxunk xxmaj pittsburgh xxup abc switch xxmaj chicago game come back xxmaj pittsburgh game updates game gets closer xxmaj xxunk xxup abc xxunk huge ratings hockey standards since xxmaj top xxup us xxup tv markets involved xxup ny xxunk area xxup ny xxmaj islanders xxup nj xxmaj devils xxmaj chicago blackhawks xxup la xxmaj kings xxmaj stay tuned xxmaj thanks xxmaj mike,xxbos xxmaj world xxmaj championships xxmaj germany xxmaj group a results xxup sweden xxup canada st nd xxup can xxmaj geoff xxmaj sanderson xxmaj kevin xxmaj dineen xxup xxunk xxmaj patrik xxmaj xxunk xxmaj jan xxmaj xxunk pp rd xxup can xxmaj geoff xxmaj sanderson ps xxup can xxmaj mike xxmaj gartner xxmaj greg xxmaj xxunk xxmaj adam xxmaj graves xxup can xxmaj rod xxmaj brind xxmaj amour xxmaj shayne xxmaj corson xxmaj shots goal xxmaj penalties xxmaj attendance xxmaj referee xxmaj sweden min xxmaj rob xxmaj xxunk xxup usa xxmaj canada min xxmaj bill xxmaj ranford stopped shots lead xxmaj canada victory well played game xxmaj the first period started give away xxmaj canadian defenseman xxmaj xxunk came alone xxmaj ranford put puck xxunk xxmaj ranford xxmaj later xxmaj kevin xxmaj dineen great opportunity xxmaj soderstrom played well xxmaj xxunk xxmaj nilsson couple great xxunk set xxmaj jan xxmaj xxunk xxmaj ranford came big xxmaj period ended xxunk edge xxmaj sweden creating opportunities xxmaj second period action saw xxmaj tommy xxmaj soderstrom making xxup great save xxmaj mark xxmaj recchi made xxunk cross ice pass xxmaj lindros xxmaj eric one xxunk puck xxmaj soderstrom make glove hand save xxmaj at minute mark xxmaj canada started applying pressure xxmaj xxunk xxmaj sanderson xxmaj dineen xxmaj brind xxmaj amour worked hard kept puck xxmaj xxunk zone xxmaj dineen gave puck xxmaj sanderson skated around xxunk xxmaj swedish defenseman came xxmaj soderstrom made wrist shot went xxmaj soderstrom far post xxmaj canada xxmaj the xxmaj xxunk picked game xxmaj peter xxmaj xxunk shot hit xxmaj ranford post inside went parallel goal line xxmaj then xxmaj gartner got penalty xxmaj xxunk power play xxmaj jan xxmaj xxunk took shot slot xxmaj ranford gave rebound xxmaj xxunk saw xxmaj xxunk far post passed puck xxmaj ranford beat xxmaj third period started periods xxmaj xxunk pressure xxmaj canadians always xxunk close xxmaj xxunk goal xxmaj at xxmaj canada created great chances xxmaj xxunk xxmaj xxunk forced cover puck xxmaj xxunk goal crease since xxmaj soderstrom lost sight xxmaj that xxunk penalty shot since defenseman cover puck goal crease xxmaj geoff xxmaj sanderson took penalty shot first ever explained xxunk put low xxmaj soderstrom stick side close post xxmaj excellent penalty shot give xxmaj canada go ahead goal xxmaj canada increased lead suspect xxunk xxmaj gartner xxunk bouncing puck past xxmaj soderstrom make xxmaj the xxmaj xxunk xxunk gas produce good scoring chances periods xxmaj the goal came second left xxmaj rod xxmaj brind xxmaj amour scoring rebound xxmaj soderstrom xxmaj swedish defense already xxunk xxunk room a good game best xxup wc far goalies playing great xxmaj soderstrom best player xxmaj sweden xxmaj ranford even played better xxmaj soderstrom tells something xxmaj ranford xxmaj probably best goalie world comments game xxmaj canada played disciplined defense xxmaj ranford pointed easy play well good defense xxmaj lindros played a xxup lot played well xxmaj sanderson xxunk game xxunk two goals xxmaj the xxmaj xxunk xxmaj naslund xxmaj xxunk line xxmaj sweden best along xxmaj xxunk xxmaj xxunk xxmaj nilsson xxmaj swedish defense played well xxunk xxunk xxmaj peter xxmaj xxunk task xxunk xxunk xxunk xxmaj eric xxmaj lindros managed well xxmaj ranger defenseman xxmaj peter xxmaj andersson finally got go xxup wc considering xxunk xxmaj germany hours game played well xxmaj swedish coach xxmaj xxunk xxmaj xxunk xxunk game xxunk xxmaj xxunk xxunk score xxunk linesman mistake goal xxmaj lines information follows xxup italy xxup switzerland st nd xxup xxunk xxmaj xxunk rd xxmaj penalties xxup xxunk min xxup xxunk min xxmaj referee xxmaj xxunk xxmaj xxunk xxmaj slovakia xxmaj attendance xxmaj group b results xxup czech xxup republic xxup germany st nd xxup xxunk xxmaj xxunk xxmaj xxunk xxup xxunk xxmaj jiri xxmaj xxunk xxup xxunk xxmaj petr xxmaj xxunk rd xxup xxunk xxmaj xxunk xxmaj xxunk xxup xxunk xxmaj josef xxmaj beranek xxmaj penalties xxup xxunk min xxup xxunk min min min game penalty xxmaj referee xxmaj xxunk xxmaj xxunk xxmaj canada xxmaj attendance xxmaj the xxmaj xxunk clearly better xxmaj xxunk xxmaj german crowd showed xxunk throwing stuff ice xxup finland xxup usa st nd xxup xxunk xxmaj xxunk xxmaj xxunk rd xxup usa xxmaj ed xxmaj olczyk xxmaj penalties xxup xxunk min xxup usa min xxmaj referee xxmaj xxunk xxmaj xxunk xxmaj russia xxmaj attendance i hope xxmaj xxunk provide information game i see whole game xxmaj the xxmaj xxunk took lead xxmaj xxunk xxmaj xxunk slap shot blue line soft goal xxunk xxmaj mike xxmaj richter xxmaj as far play second period goes xxmaj xxunk seemed control lead warranted i saw xxup sweden xxup canada xxmaj goaltender xxmaj tommy xxmaj soderstrom xxmaj bill xxmaj ranford xxmaj defense xxmaj kenneth xxmaj xxunk xxmaj norm xxmaj maciver xxmaj fredrik xxmaj stillman xxmaj dave xxmaj manson xxmaj peter xxmaj xxunk xxmaj geoff xxmaj smith xxmaj peter xxmaj andersson xxmaj brian xxmaj benning xxmaj xxunk xxmaj xxunk xxmaj terry xxmaj carkner xxmaj roger xxmaj xxunk xxmaj garry xxmaj galley xxmaj derek xxmaj xxunk xxmaj forwards xxmaj mikael xxmaj xxunk xxmaj dave xxmaj gagner xxmaj thomas xxmaj xxunk xxmaj adam xxmaj graves xxmaj mikael xxmaj andersson xxmaj mike xxmaj gartner xxmaj markus xxmaj naslund xxmaj paul xxmaj kariya xxmaj peter xxmaj xxunk xxmaj eric xxmaj lindros xxmaj jonas xxmaj xxunk xxmaj mark xxmaj recchi xxmaj patrik xxmaj xxunk xxmaj rod xxmaj brind xxmaj amour xxmaj jan xxmaj xxunk xxmaj shayne xxmaj corson xxmaj xxunk xxmaj nilsson xxmaj kevin xxmaj dineen xxmaj xxunk xxmaj xxunk xxmaj geoff xxmaj sanderson xxmaj michael xxmaj nylander xxmaj greg xxmaj xxunk xxmaj andersson xxmaj xxunk xxmaj brian xxmaj savage xxmaj kelly xxmaj buchberger\n",
              "y: CategoryList\n",
              "1,1,10,10,10\n",
              "Path: .;\n",
              "\n",
              "Test: None, model=SequentialRNN(\n",
              "  (0): MultiBatchEncoder(\n",
              "    (module): AWD_LSTM(\n",
              "      (encoder): Embedding(6600, 400, padding_idx=1)\n",
              "      (encoder_dp): EmbeddingDropout(\n",
              "        (emb): Embedding(6600, 400, padding_idx=1)\n",
              "      )\n",
              "      (rnns): ModuleList(\n",
              "        (0): WeightDropout(\n",
              "          (module): LSTM(400, 1152, batch_first=True)\n",
              "        )\n",
              "        (1): WeightDropout(\n",
              "          (module): LSTM(1152, 1152, batch_first=True)\n",
              "        )\n",
              "        (2): WeightDropout(\n",
              "          (module): LSTM(1152, 400, batch_first=True)\n",
              "        )\n",
              "      )\n",
              "      (input_dp): RNNDropout()\n",
              "      (hidden_dps): ModuleList(\n",
              "        (0): RNNDropout()\n",
              "        (1): RNNDropout()\n",
              "        (2): RNNDropout()\n",
              "      )\n",
              "    )\n",
              "  )\n",
              "  (1): PoolingLinearClassifier(\n",
              "    (layers): Sequential(\n",
              "      (0): BatchNorm1d(1200, eps=1e-05, momentum=0.1, affine=True, track_running_stats=True)\n",
              "      (1): Dropout(p=0.27999999999999997, inplace=False)\n",
              "      (2): Linear(in_features=1200, out_features=50, bias=True)\n",
              "      (3): ReLU(inplace=True)\n",
              "      (4): BatchNorm1d(50, eps=1e-05, momentum=0.1, affine=True, track_running_stats=True)\n",
              "      (5): Dropout(p=0.1, inplace=False)\n",
              "      (6): Linear(in_features=50, out_features=2, bias=True)\n",
              "    )\n",
              "  )\n",
              "), opt_func=functools.partial(<class 'torch.optim.adam.Adam'>, betas=(0.9, 0.99)), loss_func=FlattenedLoss of CrossEntropyLoss(), metrics=[<function accuracy at 0x7f93634cb0d0>], true_wd=True, bn_wd=True, wd=0.01, train_bn=True, path=PosixPath('.'), model_dir='models', callback_fns=[functools.partial(<class 'fastai.basic_train.Recorder'>, add_time=True, silent=False)], callbacks=[RNNTrainer\n",
              "learn: RNNLearner(data=TextClasDataBunch;\n",
              "\n",
              "Train: LabelList (710 items)\n",
              "x: TextList\n",
              "xxbos xxmaj it looks like xxmaj edmonton xxmaj oilers decided take xxmaj european xxunk spring xxmaj ranford xxmaj tugnutt xxmaj benning xxmaj manson xxmaj smith xxmaj buchberger xxmaj corson playing xxmaj canada xxmaj podein xxmaj weight playing xxup us xxmaj is xxmaj kravchuk playing xxmaj xxunk i know nagging injuries late season xxmaj podein interesting case eligible play xxmaj cape xxmaj breton xxup ahl playoffs like xxmaj kovalev xxmaj zubov xxmaj andersson obviously xxmaj sather xxmaj pocklington total xxunk everyone makes certainly case massively xxunk xxmaj paramount xxmaj new xxmaj york xxmaj rangers,xxbos xxmaj this xxunk xxmaj speaking die hard i i read xxunk hard xxunk xxmaj toronto xxmaj cup finals xxmaj first anyone planet heard team xxmaj detroit xxmaj al xxmaj xxunk however spell idiot name must xxmaj chicago xxup espn said even close xxmaj chicago xxunk win xxmaj norris xxmaj division xxmaj playoffs team close xxmaj everyone picking xxmaj chicago i get says easy choice xxmaj god xxmaj chicago xxmaj wings division point two followed closely xxmaj toronto also good team xxmaj as xxmaj leafs beating xxmaj detroit doubt even going get xxmaj chicago xxmaj if even xxunk get past xxmaj hawks would probably face xxmaj vancouver lose xxmaj as xxmaj the xxmaj habs reaching xxmaj finals forget xxmaj even i devoted xxmaj wings fan watch xxmaj penguins easily three xxunk xxmaj cup winners xxmaj lemieux xxmaj jagr xxmaj tocchet xxmaj stevens xxmaj barrasso done deal xxmaj sorry xxmaj detroit wait xxunk next year xxmaj but hey xxmaj paul picks everyone right xxunk xxmaj leafs xxmaj finals xxmaj yeah xxmaj if make i walk xxmaj toronto get tickets mile walk xxmaj ryan,xxbos xxmaj the idea clip one polygon using another polygon necessarily rectangular window xxmaj my problem finding new vertices resulting xxunk first one xxmaj is simply matter extending usual algorithm whereby edges one polygon checked another polygon xxmaj is simpler way xxmaj comments welcome,xxbos i xxmaj edmonton usually least xxup often case xxunk actual xxup abc xxunk xxmaj kings xxmaj flames game i whoever said earlier xxmaj don xxmaj xxunk er xxmaj whitman poor commentator hockey xxmaj normally xxmaj oilers still playing xxunk i would turn sound listen radio broadcast get decent play play announcing,xxbos xxmaj you know absolutely right i think round players xxmaj european xxunk ship em back came xxmaj let see start i dunno xxmaj lemieux xxmaj hmmm sounds like xxmaj french blood xxmaj hey xxmaj france part xxmaj europe xxmaj send xxmaj xxunk xxunk boy back xxmaj sheesh i think would hard find xxmaj native xxmaj americans xxmaj native xxmaj canadians matter would xxunk claim great continent xxmaj ya see believe xxunk xxunk sort xxmaj if really think xxmaj mogilny xxmaj bure xxmaj selanne et al improved xxup nhl i sure understand game\n",
              "y: CategoryList\n",
              "10,10,1,10,10\n",
              "Path: .;\n",
              "\n",
              "Valid: LabelList (474 items)\n",
              "x: TextList\n",
              "xxbos i looking source code radiosity method i know kind machine want program xxmaj radiance comes c source code i ftp access i tell get via way,xxbos i interested information xxunk imaging sun workstation xxmaj for part i need know hardware available interface system whether xxunk rates sufficient produce quality image xxunk xxmaj any information subject would greatly appreciated,xxbos xxmaj does anyone xxup nhl xxup standings xxmaj march th i need xxup xxunk project xxmaj please post email xxup thanks,xxbos a little xxunk xxmaj basic xxmaj mike info xxmaj for xxmaj xxunk xxunk xxup abc announcing xxunk xxmaj devils xxmaj isles xxmaj pittsburgh xxmaj gary xxmaj thorne play play xxmaj bill xxmaj clement color xxmaj al xxmaj xxunk xxunk xxunk outside xxunk xxunk xxmaj this xxunk primarily seen xxmaj east xxmaj coast xxmaj st xxmaj louis xxmaj chicago xxmaj mike xxmaj xxunk play play xxmaj jim xxmaj xxunk color xxmaj tom xxmaj xxunk xxunk xxunk xxmaj this xxunk primarily seen xxmaj midwest parts xxmaj south xxup la xxmaj calgary xxmaj al xxmaj do xxmaj you xxmaj believe xxmaj xxunk xxmaj michaels play play xxmaj john xxmaj davidson color xxmaj mark xxmaj jones xxunk reporter xxmaj this xxunk seen xxmaj western xxup usa xxmaj montreal xxunk xxmaj xxunk xxmaj xxunk xxunk studio xxup abc xxmaj up xxmaj close xxmaj personal xxmaj mario xxmaj saturday xxmaj wide xxmaj world xxmaj sports xxup edt xxmaj sunday first xxup nhl playoff regular network xxunk years counting silly xxmaj all xxmaj star games xxup xxunk last years xxmaj for xxmaj sunday games xxup abc use xxunk behind goal super super xxunk xxunk close xxunk player faces face xxunk xxup espn xxup abc able use new favorite xxunk ice level shot xxmaj pittsburgh many seats would removed xxunk xxmaj in case blowout xxunk xxmaj pittsburgh xxup abc switch xxmaj chicago game come back xxmaj pittsburgh game updates game gets closer xxmaj xxunk xxup abc xxunk huge ratings hockey standards since xxmaj top xxup us xxup tv markets involved xxup ny xxunk area xxup ny xxmaj islanders xxup nj xxmaj devils xxmaj chicago blackhawks xxup la xxmaj kings xxmaj stay tuned xxmaj thanks xxmaj mike,xxbos xxmaj world xxmaj championships xxmaj germany xxmaj group a results xxup sweden xxup canada st nd xxup can xxmaj geoff xxmaj sanderson xxmaj kevin xxmaj dineen xxup xxunk xxmaj patrik xxmaj xxunk xxmaj jan xxmaj xxunk pp rd xxup can xxmaj geoff xxmaj sanderson ps xxup can xxmaj mike xxmaj gartner xxmaj greg xxmaj xxunk xxmaj adam xxmaj graves xxup can xxmaj rod xxmaj brind xxmaj amour xxmaj shayne xxmaj corson xxmaj shots goal xxmaj penalties xxmaj attendance xxmaj referee xxmaj sweden min xxmaj rob xxmaj xxunk xxup usa xxmaj canada min xxmaj bill xxmaj ranford stopped shots lead xxmaj canada victory well played game xxmaj the first period started give away xxmaj canadian defenseman xxmaj xxunk came alone xxmaj ranford put puck xxunk xxmaj ranford xxmaj later xxmaj kevin xxmaj dineen great opportunity xxmaj soderstrom played well xxmaj xxunk xxmaj nilsson couple great xxunk set xxmaj jan xxmaj xxunk xxmaj ranford came big xxmaj period ended xxunk edge xxmaj sweden creating opportunities xxmaj second period action saw xxmaj tommy xxmaj soderstrom making xxup great save xxmaj mark xxmaj recchi made xxunk cross ice pass xxmaj lindros xxmaj eric one xxunk puck xxmaj soderstrom make glove hand save xxmaj at minute mark xxmaj canada started applying pressure xxmaj xxunk xxmaj sanderson xxmaj dineen xxmaj brind xxmaj amour worked hard kept puck xxmaj xxunk zone xxmaj dineen gave puck xxmaj sanderson skated around xxunk xxmaj swedish defenseman came xxmaj soderstrom made wrist shot went xxmaj soderstrom far post xxmaj canada xxmaj the xxmaj xxunk picked game xxmaj peter xxmaj xxunk shot hit xxmaj ranford post inside went parallel goal line xxmaj then xxmaj gartner got penalty xxmaj xxunk power play xxmaj jan xxmaj xxunk took shot slot xxmaj ranford gave rebound xxmaj xxunk saw xxmaj xxunk far post passed puck xxmaj ranford beat xxmaj third period started periods xxmaj xxunk pressure xxmaj canadians always xxunk close xxmaj xxunk goal xxmaj at xxmaj canada created great chances xxmaj xxunk xxmaj xxunk forced cover puck xxmaj xxunk goal crease since xxmaj soderstrom lost sight xxmaj that xxunk penalty shot since defenseman cover puck goal crease xxmaj geoff xxmaj sanderson took penalty shot first ever explained xxunk put low xxmaj soderstrom stick side close post xxmaj excellent penalty shot give xxmaj canada go ahead goal xxmaj canada increased lead suspect xxunk xxmaj gartner xxunk bouncing puck past xxmaj soderstrom make xxmaj the xxmaj xxunk xxunk gas produce good scoring chances periods xxmaj the goal came second left xxmaj rod xxmaj brind xxmaj amour scoring rebound xxmaj soderstrom xxmaj swedish defense already xxunk xxunk room a good game best xxup wc far goalies playing great xxmaj soderstrom best player xxmaj sweden xxmaj ranford even played better xxmaj soderstrom tells something xxmaj ranford xxmaj probably best goalie world comments game xxmaj canada played disciplined defense xxmaj ranford pointed easy play well good defense xxmaj lindros played a xxup lot played well xxmaj sanderson xxunk game xxunk two goals xxmaj the xxmaj xxunk xxmaj naslund xxmaj xxunk line xxmaj sweden best along xxmaj xxunk xxmaj xxunk xxmaj nilsson xxmaj swedish defense played well xxunk xxunk xxmaj peter xxmaj xxunk task xxunk xxunk xxunk xxmaj eric xxmaj lindros managed well xxmaj ranger defenseman xxmaj peter xxmaj andersson finally got go xxup wc considering xxunk xxmaj germany hours game played well xxmaj swedish coach xxmaj xxunk xxmaj xxunk xxunk game xxunk xxmaj xxunk xxunk score xxunk linesman mistake goal xxmaj lines information follows xxup italy xxup switzerland st nd xxup xxunk xxmaj xxunk rd xxmaj penalties xxup xxunk min xxup xxunk min xxmaj referee xxmaj xxunk xxmaj xxunk xxmaj slovakia xxmaj attendance xxmaj group b results xxup czech xxup republic xxup germany st nd xxup xxunk xxmaj xxunk xxmaj xxunk xxup xxunk xxmaj jiri xxmaj xxunk xxup xxunk xxmaj petr xxmaj xxunk rd xxup xxunk xxmaj xxunk xxmaj xxunk xxup xxunk xxmaj josef xxmaj beranek xxmaj penalties xxup xxunk min xxup xxunk min min min game penalty xxmaj referee xxmaj xxunk xxmaj xxunk xxmaj canada xxmaj attendance xxmaj the xxmaj xxunk clearly better xxmaj xxunk xxmaj german crowd showed xxunk throwing stuff ice xxup finland xxup usa st nd xxup xxunk xxmaj xxunk xxmaj xxunk rd xxup usa xxmaj ed xxmaj olczyk xxmaj penalties xxup xxunk min xxup usa min xxmaj referee xxmaj xxunk xxmaj xxunk xxmaj russia xxmaj attendance i hope xxmaj xxunk provide information game i see whole game xxmaj the xxmaj xxunk took lead xxmaj xxunk xxmaj xxunk slap shot blue line soft goal xxunk xxmaj mike xxmaj richter xxmaj as far play second period goes xxmaj xxunk seemed control lead warranted i saw xxup sweden xxup canada xxmaj goaltender xxmaj tommy xxmaj soderstrom xxmaj bill xxmaj ranford xxmaj defense xxmaj kenneth xxmaj xxunk xxmaj norm xxmaj maciver xxmaj fredrik xxmaj stillman xxmaj dave xxmaj manson xxmaj peter xxmaj xxunk xxmaj geoff xxmaj smith xxmaj peter xxmaj andersson xxmaj brian xxmaj benning xxmaj xxunk xxmaj xxunk xxmaj terry xxmaj carkner xxmaj roger xxmaj xxunk xxmaj garry xxmaj galley xxmaj derek xxmaj xxunk xxmaj forwards xxmaj mikael xxmaj xxunk xxmaj dave xxmaj gagner xxmaj thomas xxmaj xxunk xxmaj adam xxmaj graves xxmaj mikael xxmaj andersson xxmaj mike xxmaj gartner xxmaj markus xxmaj naslund xxmaj paul xxmaj kariya xxmaj peter xxmaj xxunk xxmaj eric xxmaj lindros xxmaj jonas xxmaj xxunk xxmaj mark xxmaj recchi xxmaj patrik xxmaj xxunk xxmaj rod xxmaj brind xxmaj amour xxmaj jan xxmaj xxunk xxmaj shayne xxmaj corson xxmaj xxunk xxmaj nilsson xxmaj kevin xxmaj dineen xxmaj xxunk xxmaj xxunk xxmaj geoff xxmaj sanderson xxmaj michael xxmaj nylander xxmaj greg xxmaj xxunk xxmaj andersson xxmaj xxunk xxmaj brian xxmaj savage xxmaj kelly xxmaj buchberger\n",
              "y: CategoryList\n",
              "1,1,10,10,10\n",
              "Path: .;\n",
              "\n",
              "Test: None, model=SequentialRNN(\n",
              "  (0): MultiBatchEncoder(\n",
              "    (module): AWD_LSTM(\n",
              "      (encoder): Embedding(6600, 400, padding_idx=1)\n",
              "      (encoder_dp): EmbeddingDropout(\n",
              "        (emb): Embedding(6600, 400, padding_idx=1)\n",
              "      )\n",
              "      (rnns): ModuleList(\n",
              "        (0): WeightDropout(\n",
              "          (module): LSTM(400, 1152, batch_first=True)\n",
              "        )\n",
              "        (1): WeightDropout(\n",
              "          (module): LSTM(1152, 1152, batch_first=True)\n",
              "        )\n",
              "        (2): WeightDropout(\n",
              "          (module): LSTM(1152, 400, batch_first=True)\n",
              "        )\n",
              "      )\n",
              "      (input_dp): RNNDropout()\n",
              "      (hidden_dps): ModuleList(\n",
              "        (0): RNNDropout()\n",
              "        (1): RNNDropout()\n",
              "        (2): RNNDropout()\n",
              "      )\n",
              "    )\n",
              "  )\n",
              "  (1): PoolingLinearClassifier(\n",
              "    (layers): Sequential(\n",
              "      (0): BatchNorm1d(1200, eps=1e-05, momentum=0.1, affine=True, track_running_stats=True)\n",
              "      (1): Dropout(p=0.27999999999999997, inplace=False)\n",
              "      (2): Linear(in_features=1200, out_features=50, bias=True)\n",
              "      (3): ReLU(inplace=True)\n",
              "      (4): BatchNorm1d(50, eps=1e-05, momentum=0.1, affine=True, track_running_stats=True)\n",
              "      (5): Dropout(p=0.1, inplace=False)\n",
              "      (6): Linear(in_features=50, out_features=2, bias=True)\n",
              "    )\n",
              "  )\n",
              "), opt_func=functools.partial(<class 'torch.optim.adam.Adam'>, betas=(0.9, 0.99)), loss_func=FlattenedLoss of CrossEntropyLoss(), metrics=[<function accuracy at 0x7f93634cb0d0>], true_wd=True, bn_wd=True, wd=0.01, train_bn=True, path=PosixPath('.'), model_dir='models', callback_fns=[functools.partial(<class 'fastai.basic_train.Recorder'>, add_time=True, silent=False)], callbacks=[...], layer_groups=[Sequential(\n",
              "  (0): Embedding(6600, 400, padding_idx=1)\n",
              "  (1): EmbeddingDropout(\n",
              "    (emb): Embedding(6600, 400, padding_idx=1)\n",
              "  )\n",
              "), Sequential(\n",
              "  (0): WeightDropout(\n",
              "    (module): LSTM(400, 1152, batch_first=True)\n",
              "  )\n",
              "  (1): RNNDropout()\n",
              "), Sequential(\n",
              "  (0): WeightDropout(\n",
              "    (module): LSTM(1152, 1152, batch_first=True)\n",
              "  )\n",
              "  (1): RNNDropout()\n",
              "), Sequential(\n",
              "  (0): WeightDropout(\n",
              "    (module): LSTM(1152, 400, batch_first=True)\n",
              "  )\n",
              "  (1): RNNDropout()\n",
              "), Sequential(\n",
              "  (0): PoolingLinearClassifier(\n",
              "    (layers): Sequential(\n",
              "      (0): BatchNorm1d(1200, eps=1e-05, momentum=0.1, affine=True, track_running_stats=True)\n",
              "      (1): Dropout(p=0.27999999999999997, inplace=False)\n",
              "      (2): Linear(in_features=1200, out_features=50, bias=True)\n",
              "      (3): ReLU(inplace=True)\n",
              "      (4): BatchNorm1d(50, eps=1e-05, momentum=0.1, affine=True, track_running_stats=True)\n",
              "      (5): Dropout(p=0.1, inplace=False)\n",
              "      (6): Linear(in_features=50, out_features=2, bias=True)\n",
              "    )\n",
              "  )\n",
              ")], add_time=True, silent=False)\n",
              "alpha: 2.0\n",
              "beta: 1.0], layer_groups=[Sequential(\n",
              "  (0): Embedding(6600, 400, padding_idx=1)\n",
              "  (1): EmbeddingDropout(\n",
              "    (emb): Embedding(6600, 400, padding_idx=1)\n",
              "  )\n",
              "), Sequential(\n",
              "  (0): WeightDropout(\n",
              "    (module): LSTM(400, 1152, batch_first=True)\n",
              "  )\n",
              "  (1): RNNDropout()\n",
              "), Sequential(\n",
              "  (0): WeightDropout(\n",
              "    (module): LSTM(1152, 1152, batch_first=True)\n",
              "  )\n",
              "  (1): RNNDropout()\n",
              "), Sequential(\n",
              "  (0): WeightDropout(\n",
              "    (module): LSTM(1152, 400, batch_first=True)\n",
              "  )\n",
              "  (1): RNNDropout()\n",
              "), Sequential(\n",
              "  (0): PoolingLinearClassifier(\n",
              "    (layers): Sequential(\n",
              "      (0): BatchNorm1d(1200, eps=1e-05, momentum=0.1, affine=True, track_running_stats=True)\n",
              "      (1): Dropout(p=0.27999999999999997, inplace=False)\n",
              "      (2): Linear(in_features=1200, out_features=50, bias=True)\n",
              "      (3): ReLU(inplace=True)\n",
              "      (4): BatchNorm1d(50, eps=1e-05, momentum=0.1, affine=True, track_running_stats=True)\n",
              "      (5): Dropout(p=0.1, inplace=False)\n",
              "      (6): Linear(in_features=50, out_features=2, bias=True)\n",
              "    )\n",
              "  )\n",
              ")], add_time=True, silent=False)"
            ]
          },
          "metadata": {
            "tags": []
          },
          "execution_count": 89
        }
      ]
    },
    {
      "cell_type": "code",
      "metadata": {
        "id": "8roribPTRa_k",
        "colab_type": "code",
        "colab": {}
      },
      "source": [
        "learn.save('first')\n",
        "# learn.load('first)"
      ],
      "execution_count": null,
      "outputs": []
    },
    {
      "cell_type": "code",
      "metadata": {
        "id": "r2sAuoS9Rw6b",
        "colab_type": "code",
        "colab": {}
      },
      "source": [
        ""
      ],
      "execution_count": null,
      "outputs": []
    }
  ]
}